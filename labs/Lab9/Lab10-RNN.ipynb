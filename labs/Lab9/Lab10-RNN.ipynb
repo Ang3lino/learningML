{
 "cells": [
  {
   "cell_type": "markdown",
   "metadata": {},
   "source": [
    "## Lab 9. Topic 3. Deep Neural Networks\n",
    "## Recurrent Neural Networks\n",
    "\n",
    "In this Lab we learn how to solve sequential problems using RNNs. We will describe how can RNNs be implemented with tensorflow and evaluate their results in real problems. \n",
    "\n",
    "\n",
    "We will use material from the book \"Hands-On Machine Learning with Scikit-Learn and TensorFlow. Concepts, Tools, and Techniques to Build Intelligent Systems\" by Aurélien Géron. http://shop.oreilly.com/product/0636920052289.do that it is recommended as Bibliography of the course.\n"
   ]
  },
  {
   "cell_type": "code",
   "execution_count": 55,
   "metadata": {},
   "outputs": [],
   "source": [
    "# We start by importing the python libraries required to solve the problems\n",
    "\n",
    "import numpy as np\n",
    "import numpy.random as rnd\n",
    "import itertools \n",
    "import os\n",
    "import sys\n",
    "import scipy.misc\n",
    "\n",
    "# We used some utilities from sklearn\n",
    "from sklearn.preprocessing import StandardScaler\n",
    "\n",
    "\n",
    "# Tensorflow library used for implementation of the RNNs\n",
    "import tensorflow as tf\n",
    "from keras.datasets import imdb, mnist, fashion_mnist\n",
    "# Importing keras libraries\n",
    "from keras.callbacks import EarlyStopping\n",
    "from keras.layers import SimpleRNN, LSTM, Conv1D, MaxPooling1D\n",
    "from keras.layers import recurrent\n",
    "from keras.layers.core import Dense, Flatten, Dropout\n",
    "from keras.models import Sequential\n",
    "from keras.layers.embeddings import Embedding \n",
    "from keras.preprocessing import sequence\n",
    "from keras.utils import to_categorical\n",
    "import random\n",
    "\n",
    "import csv\n",
    "from sklearn.externals.six.moves.urllib.request import urlopen\n",
    "\n",
    "# Used for plotting and display of figures\n",
    "%matplotlib inline\n",
    "import matplotlib\n",
    "import matplotlib.pyplot as plt\n",
    "from mpl_toolkits.mplot3d import Axes3D\n",
    "\n",
    "plt.rcParams['axes.labelsize'] = 14\n",
    "plt.rcParams['xtick.labelsize'] = 12\n",
    "plt.rcParams['ytick.labelsize'] = 12\n",
    "\n",
    "\n",
    "from IPython.display import display\n",
    "from IPython.display import Image\n",
    "from IPython.display import SVG"
   ]
  },
  {
   "cell_type": "code",
   "execution_count": null,
   "metadata": {},
   "outputs": [],
   "source": []
  },
  {
   "cell_type": "markdown",
   "metadata": {
    "collapsed": true
   },
   "source": [
    "### Auxiliary functions "
   ]
  },
  {
   "cell_type": "code",
   "execution_count": 2,
   "metadata": {},
   "outputs": [],
   "source": [
    "def sigmoid(x):\n",
    "    return 1 / (1 + np.exp(-x))"
   ]
  },
  {
   "cell_type": "markdown",
   "metadata": {},
   "source": [
    "We start by simulating the behavior of a simple recurrent cell when the time increases. The following two functions are implementations of the simple RNN.  Observe the code and see how the different weights are combined to produce the output of the cell. "
   ]
  },
  {
   "cell_type": "code",
   "execution_count": null,
   "metadata": {},
   "outputs": [],
   "source": []
  },
  {
   "cell_type": "code",
   "execution_count": 3,
   "metadata": {},
   "outputs": [],
   "source": [
    "# The parameters of the function are:\n",
    "# time_steps: Number of time_steps for the sequence\n",
    "# input_features: Number of input features for each time step\n",
    "# output_features:  Number of output features for each time step\n",
    "# input_seq: Input sequence\n",
    "# The function returns the state of the cell in each time step\n",
    "\n",
    "\n",
    "def Simple_RNN(time_steps,input_features, output_features, input_seq):\n",
    "    \n",
    "    state_t = np.zeros((output_features,))   # The state is initialized to 0    \n",
    "    Wsx = np.random.random((output_features,input_features))  # Weights for input\n",
    "    Wss = np.random.random((output_features,output_features)) # Weights for the state\n",
    "    bs = np.random.random((output_features,))                 # Initial bias\n",
    "    \n",
    "    successive_outputs = [] \n",
    "    for i,input_t in enumerate(input_seq):   \n",
    "        \n",
    "        state_t = sigmoid(np.dot(Wsx,input_t) + np.dot(Wss,state_t) + bs)\n",
    "        output_t = state_t                         # We assume the cell is simple and\n",
    "                                                   # do not use weights for the outpu\n",
    "        #print(i,state_t)\n",
    "        successive_outputs.append(state_t) \n",
    "        \n",
    "    final_output_sequence = np.concatenate(successive_outputs,axis=0)    \n",
    "    return final_output_sequence"
   ]
  },
  {
   "cell_type": "code",
   "execution_count": 4,
   "metadata": {},
   "outputs": [],
   "source": [
    "# The parameters of the function are:\n",
    "# time_steps: Number of time_steps for the sequence\n",
    "# input_features: Number of input features for each time step\n",
    "# output_features:  Number of output features for each time step\n",
    "# input_seq: Input sequence\n",
    "\n",
    "#Wsx: Input weight matrix\n",
    "#Wss:  State weight matrix\n",
    "#bs:   Bias\n",
    "\n",
    "# The function returns the state of the cell in each time step\n",
    "\n",
    "\n",
    "def Simple_RNN_With_Weights(time_steps,input_features, output_features, \n",
    "                            input_seq,Wsx,Wss,bs):\n",
    "    \n",
    "    state_t = np.zeros((output_features,))   # The state is initialized to 0\n",
    "   \n",
    "    successive_outputs = [] \n",
    "    for i,input_t in enumerate(input_seq):   \n",
    "        #print(i,Wsx,Wss,input_t,state_t)\n",
    "        #state_t = np.dot(Wsx,input_t) + np.dot(Wss,state_t) + bs\n",
    "        state_t = np.tanh(np.dot(Wsx,input_t) + np.dot(Wss,state_t) + bs)\n",
    "        \n",
    "       \n",
    "        output_t = state_t                         # We assume the cell is simple and\n",
    "                                                   # do not use weights for the outpu\n",
    "        #print(i,state_t)\n",
    "        successive_outputs.append(state_t) \n",
    "        \n",
    "    final_output_sequence = np.concatenate(successive_outputs,axis=0)\n",
    "    \n",
    "    return final_output_sequence"
   ]
  },
  {
   "cell_type": "code",
   "execution_count": null,
   "metadata": {},
   "outputs": [],
   "source": []
  },
  {
   "cell_type": "markdown",
   "metadata": {},
   "source": [
    "In the following trivial example, we use a simple cell in which the neuron receives only one input and predicts only one output at each time t.\n",
    "\n",
    "We fix the weights to:\n",
    "\n",
    "- Wsx: 1, \n",
    "- Wss=0.5\n",
    "- bs = 0\n",
    "- Phi = tanh\n",
    "\n",
    "\n",
    "and compute the state of the neuron each time. "
   ]
  },
  {
   "cell_type": "code",
   "execution_count": 5,
   "metadata": {},
   "outputs": [
    {
     "name": "stdout",
     "output_type": "stream",
     "text": [
      "The output of the cell at time  is  1.1301801928825059e-30\n"
     ]
    }
   ],
   "source": [
    "#inputs = np.random.random((time_steps,input_features))\n",
    "input_features = 1\n",
    "output_features = 1\n",
    "\n",
    "time_steps = 100\n",
    "inputs = np.zeros((time_steps,input_features))\n",
    "inputs[0] = 1\n",
    "\n",
    "final_output_sequence = Simple_RNN_With_Weights(time_steps,input_features, output_features,\n",
    "                                   inputs,1,0.5,0)\n",
    "\n",
    "print(\"The output of the cell at time  is \", final_output_sequence[time_steps-1])\n",
    "\n",
    "    "
   ]
  },
  {
   "cell_type": "markdown",
   "metadata": {},
   "source": [
    "Finally we plot the output of the cell at each time. Notice how fast it converges to zero. "
   ]
  },
  {
   "cell_type": "code",
   "execution_count": 6,
   "metadata": {},
   "outputs": [
    {
     "data": {
      "image/png": "[encoded data removed]",
      "text/plain": [
       "<Figure size 432x288 with 1 Axes>"
      ]
     },
     "metadata": {
      "needs_background": "light"
     },
     "output_type": "display_data"
    }
   ],
   "source": [
    "plt.title(\"RNN state value\", fontsize=14)\n",
    "plt.plot(final_output_sequence, \"bo\", markersize=5)\n",
    "plt.xlabel(\"t\")\n",
    "plt.ylabel(\"S(t)\")\n",
    "\n",
    "#save_fig(\"time_series_pred_plot\")\n",
    "plt.show()\n",
    "    "
   ]
  },
  {
   "cell_type": "markdown",
   "metadata": {},
   "source": [
    "In the following cell you can also test how the random initialization of the matrices affects two different sequences. "
   ]
  },
  {
   "cell_type": "code",
   "execution_count": 7,
   "metadata": {},
   "outputs": [
    {
     "name": "stdout",
     "output_type": "stream",
     "text": [
      "Sequence  0 Trial  0 sequence  [0.817 0.811 0.81  0.81  0.81 ]\n",
      "Sequence  0 Trial  1 sequence  [0.849 0.761 0.757 0.757 0.757]\n",
      "Sequence  0 Trial  2 sequence  [0.778 0.766 0.765 0.765 0.765]\n",
      "Sequence  0 Trial  3 sequence  [0.672 0.715 0.721 0.722 0.722]\n",
      "Sequence  0 Trial  4 sequence  [0.785 0.776 0.775 0.775 0.775]\n",
      "Sequence  1 Trial  0 sequence  [0.783 0.796 0.798 0.798 0.798]\n",
      "Sequence  1 Trial  1 sequence  [0.738 0.665 0.653 0.651 0.651]\n",
      "Sequence  1 Trial  2 sequence  [0.583 0.613 0.617 0.618 0.618]\n",
      "Sequence  1 Trial  3 sequence  [0.812 0.705 0.699 0.699 0.699]\n",
      "Sequence  1 Trial  4 sequence  [0.75  0.621 0.609 0.608 0.608]\n"
     ]
    }
   ],
   "source": [
    "#inputs = np.random.random((time_steps,input_features))\n",
    "input_features = 1\n",
    "output_features = 1\n",
    "time_steps = 5\n",
    "\n",
    "# This input sequence is equal zero in all the positions except the first\n",
    "inputs_1 = np.zeros((time_steps,input_features))\n",
    "inputs_1[0] = 1\n",
    "\n",
    "# This input sequence is equal one in all the positions \n",
    "inputs_2 = np.ones((time_steps,input_features)) *  1\n",
    "\n",
    "for j,inputs  in enumerate([inputs_1,inputs_2]):\n",
    "    for i in np.arange(5):\n",
    "        final_output_sequence = Simple_RNN(time_steps,input_features, output_features,\n",
    "                                   inputs_1)\n",
    "        print(\"Sequence \",j, \"Trial \", i, \"sequence \", \n",
    "              np.around(final_output_sequence,decimals=3))\n",
    "     "
   ]
  },
  {
   "cell_type": "code",
   "execution_count": null,
   "metadata": {},
   "outputs": [],
   "source": []
  },
  {
   "cell_type": "code",
   "execution_count": null,
   "metadata": {},
   "outputs": [],
   "source": []
  },
  {
   "cell_type": "code",
   "execution_count": null,
   "metadata": {},
   "outputs": [],
   "source": []
  },
  {
   "cell_type": "markdown",
   "metadata": {},
   "source": [
    "## Time series prediction with an RNN"
   ]
  },
  {
   "cell_type": "markdown",
   "metadata": {
    "collapsed": true
   },
   "source": [
    "The first problem we consider is time series prediction with an RNN. Given a sequence of k contiguous points of the time series, $(t_{r},t_{r+1},\\dots,t_{r+k})$ that are used as inputs, we will try to predict the sequence $(t_{r+1},t_{r+2},\\dots,t_{r+k+1})$. Therefore, for each single point at time $t$, the target variable is the time series value at time $t+1$."
   ]
  },
  {
   "cell_type": "code",
   "execution_count": null,
   "metadata": {},
   "outputs": [],
   "source": []
  },
  {
   "cell_type": "markdown",
   "metadata": {},
   "source": [
    "The following functions serve to display RGB images\n"
   ]
  },
  {
   "cell_type": "code",
   "execution_count": 8,
   "metadata": {},
   "outputs": [],
   "source": [
    "# Displays a single image\n",
    "def plot_image(image, shape=[28, 28]):\n",
    "    plt.imshow(image.reshape(shape), cmap=\"Greys\", interpolation=\"nearest\")\n",
    "    plt.axis(\"off\")\n",
    "    \n",
    "def plot_color_image(image):\n",
    "    plt.imshow(image.astype(np.uint8),interpolation=\"nearest\")\n",
    "    plt.axis(\"off\")\n",
    "    \n",
    "# Displays multiple images   \n",
    "def plot_multiple_images(images, n_rows, n_cols, pad=2):\n",
    "    images = images - images.min()  # make the minimum == 0, so the padding looks white\n",
    "    w,h = images.shape[1:]\n",
    "    image = np.zeros(((w+pad)*n_rows+pad, (h+pad)*n_cols+pad))\n",
    "    for y in range(n_rows):\n",
    "        for x in range(n_cols):\n",
    "            image[(y*(h+pad)+pad):(y*(h+pad)+pad+h),(x*(w+pad)+pad):(x*(w+pad)+pad+w)] = images[y*n_cols+x]\n",
    "    plt.imshow(image, cmap=\"Greys\", interpolation=\"nearest\")\n",
    "    plt.axis(\"off\")\n",
    "    "
   ]
  },
  {
   "cell_type": "markdown",
   "metadata": {},
   "source": [
    "The following functions serve to display RGB images\n"
   ]
  },
  {
   "cell_type": "code",
   "execution_count": 9,
   "metadata": {},
   "outputs": [],
   "source": [
    "# This function set the seeds of the tensorflow function\n",
    "# to make this notebook's output stable across runs\n",
    "\n",
    "def reset_graph(seed=42):\n",
    "    tf.reset_default_graph()\n",
    "    tf.set_random_seed(seed)\n",
    "    np.random.seed(seed)"
   ]
  },
  {
   "cell_type": "markdown",
   "metadata": {},
   "source": [
    "IMPORTANT:  The following line forces tensorflow to use the CPU instead of the GPU. I did this because had problems with my GPU. You can set 'GPU': 1"
   ]
  },
  {
   "cell_type": "code",
   "execution_count": 10,
   "metadata": {},
   "outputs": [],
   "source": [
    "config = tf.ConfigProto(device_count = {'GPU': 0})\n"
   ]
  },
  {
   "cell_type": "markdown",
   "metadata": {},
   "source": [
    "The function belows generates a particular time series. "
   ]
  },
  {
   "cell_type": "code",
   "execution_count": null,
   "metadata": {},
   "outputs": [],
   "source": []
  },
  {
   "cell_type": "code",
   "execution_count": 11,
   "metadata": {},
   "outputs": [],
   "source": [
    "def time_series(t):\n",
    "    return t * np.sin(t) / 3 + 2 * np.sin(t*5)\n"
   ]
  },
  {
   "cell_type": "markdown",
   "metadata": {
    "collapsed": true
   },
   "source": [
    "To train the network we need sequences of size $k$ extracted from the time series. They are randomly selected using the function \"next_batch\" that outputs a set of <batch_size> training points, each point corresponding to a sequence of size k (in the function this size k is called \"n_steps\"). \n",
    "\n"
   ]
  },
  {
   "cell_type": "code",
   "execution_count": 12,
   "metadata": {},
   "outputs": [],
   "source": [
    "t_min, t_max = 0, 30\n",
    "resolution = 0.1\n",
    "\n",
    "# Receives the number of samples (batch_size) of size (n_steps) to extract\n",
    "# from the time series, and outputs such a sample\n",
    "def next_batch(batch_size, n_steps):\n",
    "    t0 = np.random.rand(batch_size, 1) * (t_max - t_min - n_steps * resolution)\n",
    "    Ts = t0 + np.arange(0., n_steps + 1) * resolution\n",
    "    ys = time_series(Ts)\n",
    "    return ys[:, :-1].reshape(-1, n_steps, 1), ys[:, 1:].reshape(-1, n_steps, 1)"
   ]
  },
  {
   "cell_type": "markdown",
   "metadata": {},
   "source": [
    "In the next cell, we visualize the time series, and an example of training pairs $(x,y)$, where $x$ is a sequence of $k=20$ points and $y$ is the target sequence of $20$ points, the ones obtained by shifting $x$ only one position. "
   ]
  },
  {
   "cell_type": "code",
   "execution_count": 13,
   "metadata": {},
   "outputs": [
    {
     "data": {
      "image/png": "[encoded data removed]",
      "text/plain": [
       "<Figure size 792x288 with 2 Axes>"
      ]
     },
     "metadata": {
      "needs_background": "light"
     },
     "output_type": "display_data"
    }
   ],
   "source": [
    "# The time series and the example of (x,y) are shown \n",
    "\n",
    "t = np.linspace(t_min, t_max, int((t_max - t_min) / resolution))\n",
    "\n",
    "n_steps = 20\n",
    "t_instance = np.linspace(12.2, 12.2 + resolution * (n_steps + 1), n_steps + 1)\n",
    "\n",
    "plt.figure(figsize=(11,4))\n",
    "plt.subplot(121)\n",
    "plt.title(\"A time series (generated)\", fontsize=14)\n",
    "plt.plot(t, time_series(t), label=r\"$t . \\sin(t) / 3 + 2 . \\sin(5t)$\")\n",
    "plt.plot(t_instance[:-1], time_series(t_instance[:-1]), \"b-\", linewidth=3, label=\"A training instance\")\n",
    "plt.legend(loc=\"lower left\", fontsize=14)\n",
    "plt.axis([0, 30, -17, 13])\n",
    "plt.xlabel(\"Time\")\n",
    "plt.ylabel(\"Value\")\n",
    "\n",
    "plt.subplot(122)\n",
    "plt.title(\"A training instance\", fontsize=14)\n",
    "plt.plot(t_instance[:-1], time_series(t_instance[:-1]), \"bo\", markersize=10, label=\"instance\")\n",
    "plt.plot(t_instance[1:], time_series(t_instance[1:]), \"y*\", markersize=10, label=\"target\")\n",
    "plt.legend(loc=\"upper left\")\n",
    "plt.xlabel(\"Time\")\n",
    "\n",
    "\n",
    "#save_fig(\"time_series_plot\")\n",
    "plt.show()\n"
   ]
  },
  {
   "cell_type": "markdown",
   "metadata": {},
   "source": [
    "Now, the parameters of the RNN are defined."
   ]
  },
  {
   "cell_type": "code",
   "execution_count": 14,
   "metadata": {},
   "outputs": [],
   "source": [
    "# The computation graph is initialized\n",
    "reset_graph()\n",
    "\n",
    "# n_steps is the size of the contiguous sequence that is taken from the TS\n",
    "# it coincides with the number of time steps for the RNN\n",
    "n_steps = 20\n",
    "\n",
    "# An RNN can take as inputs multiple input sequences (e.g, a matrix of n_seq x n_steps)\n",
    "# Since we use only a single TS, n_inputs=1\n",
    "n_inputs = 1\n",
    "\n",
    "# There is one layer of 100 recurrent neurons together\n",
    "n_neurons = 100\n",
    "\n",
    "# The ouput will be a single sequence\n",
    "n_outputs = 1\n",
    "\n",
    "# Notice the way the input and output are defined according to n_steps\n",
    "X = tf.placeholder(tf.float32, [None, n_steps, n_inputs])\n",
    "y = tf.placeholder(tf.float32, [None, n_steps, n_outputs])"
   ]
  },
  {
   "cell_type": "markdown",
   "metadata": {
    "collapsed": true
   },
   "source": [
    "In the following notebook cell we specify the type of RNN layer telling tensorflow which RNN cells it comprises. Remember that there are other, more efficient, memory cells, such as LSTM, GRU, etc.  \n",
    "\n",
    "In this example, a Basic RNN cell is defined, the layer has n_neurons and uses as activation function RELU. \n",
    "\n",
    "Finally, the OutputProjectionWrappers adds another layer that transforms the output of the n_neuron neurons into a single value, this function \"wraps\" the output of the recurrent neurons. "
   ]
  },
  {
   "cell_type": "code",
   "execution_count": 15,
   "metadata": {},
   "outputs": [
    {
     "name": "stdout",
     "output_type": "stream",
     "text": [
      "WARNING:tensorflow:From <ipython-input-15-30820eba87f0>:2: BasicRNNCell.__init__ (from tensorflow.python.ops.rnn_cell_impl) is deprecated and will be removed in a future version.\n",
      "Instructions for updating:\n",
      "This class is equivalent as tf.keras.layers.SimpleRNNCell, and will be replaced by that in Tensorflow 2.0.\n"
     ]
    }
   ],
   "source": [
    "cell = tf.contrib.rnn.OutputProjectionWrapper(\n",
    "    tf.contrib.rnn.BasicRNNCell(num_units=n_neurons, activation=tf.nn.relu),\n",
    "    #tf.contrib.rnn.BasicLSTMCell(num_units=n_neurons),\n",
    "    output_size=n_outputs)\n",
    "\n",
    "outputs, states = tf.nn.dynamic_rnn(cell, X, dtype=tf.float32)\n"
   ]
  },
  {
   "cell_type": "markdown",
   "metadata": {},
   "source": [
    "As in any other NN, we need to specify the loss function, and optimization algorithm. "
   ]
  },
  {
   "cell_type": "code",
   "execution_count": 16,
   "metadata": {},
   "outputs": [],
   "source": [
    "# Learning rate used by the gradient optimizer\n",
    "learning_rate = 0.001\n",
    "\n",
    "# The loss function is the Minimum Square Error between the predicted\n",
    "# TS and the target TS\n",
    "loss = tf.reduce_mean(tf.square(outputs - y)) # MSE\n",
    "\n",
    "# Optimizer is ADAM\n",
    "optimizer = tf.train.AdamOptimizer(learning_rate=learning_rate)\n",
    "\n",
    "# We will minimize the MSE\n",
    "training_op = optimizer.minimize(loss)\n",
    "\n",
    "# Tensorflow variables are initialized\n",
    "init = tf.global_variables_initializer()\n",
    "saver = tf.train.Saver()"
   ]
  },
  {
   "cell_type": "markdown",
   "metadata": {},
   "source": [
    "The network is trained running \"n_iterations\" and training batch_size groups of training data. We will save the session at the end so we could use the network to predict new data. "
   ]
  },
  {
   "cell_type": "code",
   "execution_count": 17,
   "metadata": {},
   "outputs": [
    {
     "name": "stdout",
     "output_type": "stream",
     "text": [
      "0 \tMSE: 11.967254\n",
      "100 \tMSE: 0.525841\n",
      "200 \tMSE: 0.1495599\n",
      "300 \tMSE: 0.07279411\n",
      "400 \tMSE: 0.06158535\n",
      "500 \tMSE: 0.05938873\n",
      "600 \tMSE: 0.05470166\n",
      "700 \tMSE: 0.047849063\n",
      "800 \tMSE: 0.05107608\n",
      "900 \tMSE: 0.047209196\n",
      "1000 \tMSE: 0.047058314\n",
      "1100 \tMSE: 0.047831465\n",
      "1200 \tMSE: 0.04083041\n",
      "1300 \tMSE: 0.047086805\n",
      "1400 \tMSE: 0.041784383\n",
      "1500 \tMSE: 0.048623666\n",
      "1600 \tMSE: 0.050365966\n",
      "1700 \tMSE: 0.042426053\n",
      "1800 \tMSE: 0.032977458\n",
      "1900 \tMSE: 0.04590435\n",
      "2000 \tMSE: 0.040674362\n",
      "2100 \tMSE: 0.03352144\n",
      "2200 \tMSE: 0.03732467\n",
      "2300 \tMSE: 0.04645707\n",
      "2400 \tMSE: 0.038150005\n"
     ]
    }
   ],
   "source": [
    "n_iterations = 2500\n",
    "batch_size = 50\n",
    "\n",
    "with  tf.Session(config=config) as sess:\n",
    "    init.run()\n",
    "    for iteration in range(n_iterations):\n",
    "        X_batch, y_batch = next_batch(batch_size, n_steps)\n",
    "        sess.run(training_op, feed_dict={X: X_batch, y: y_batch})\n",
    "        if iteration % 100 == 0:\n",
    "            mse = loss.eval(feed_dict={X: X_batch, y: y_batch})\n",
    "            print(iteration, \"\\tMSE:\", mse)\n",
    "    \n",
    "    saver.save(sess, \"./my_time_series_model\") # not shown in the book\n"
   ]
  },
  {
   "cell_type": "markdown",
   "metadata": {},
   "source": [
    "If training has worked well, then the MSE should have decreased with the iteractions. In the next cell the RNN is used to predict data from "
   ]
  },
  {
   "cell_type": "code",
   "execution_count": 18,
   "metadata": {},
   "outputs": [
    {
     "name": "stdout",
     "output_type": "stream",
     "text": [
      "INFO:tensorflow:Restoring parameters from ./my_time_series_model\n"
     ]
    }
   ],
   "source": [
    "with  tf.Session(config=config) as sess:\n",
    "    # The session that we saved is restored\n",
    "    saver.restore(sess, \"./my_time_series_model\")  \n",
    "    # A segment of points is taken from the TS\n",
    "    X_new = time_series(np.array(t_instance[:-1].reshape(-1, n_steps, n_inputs)))\n",
    "    # Predictions are made\n",
    "    y_pred = sess.run(outputs, feed_dict={X: X_new})\n"
   ]
  },
  {
   "cell_type": "markdown",
   "metadata": {
    "collapsed": true
   },
   "source": [
    "Finally, the true TS values and the predictions are shown"
   ]
  },
  {
   "cell_type": "code",
   "execution_count": 19,
   "metadata": {},
   "outputs": [
    {
     "data": {
      "image/png": "[encoded data removed]",
      "text/plain": [
       "<Figure size 432x288 with 1 Axes>"
      ]
     },
     "metadata": {
      "needs_background": "light"
     },
     "output_type": "display_data"
    }
   ],
   "source": [
    "plt.title(\"Testing the model\", fontsize=14)\n",
    "plt.plot(t_instance[:-1], time_series(t_instance[:-1]), \"bo\", markersize=10, label=\"instance\")\n",
    "plt.plot(t_instance[1:], time_series(t_instance[1:]), \"y*\", markersize=10, label=\"target\")\n",
    "plt.plot(t_instance[1:], y_pred[0,:,0], \"r.\", markersize=10, label=\"prediction\")\n",
    "plt.legend(loc=\"upper left\")\n",
    "plt.xlabel(\"Time\")\n",
    "\n",
    "#save_fig(\"time_series_pred_plot\")\n",
    "plt.show()"
   ]
  },
  {
   "cell_type": "markdown",
   "metadata": {},
   "source": [
    "## Exercise 1\n",
    "\n",
    "The first exercise is similar to the previous example, it consists of predicting  the value of a time series (ISE.1 time series in this case) using the same time series until moment $t$. The difference is that we will ALSO use another $7$ time series as input.\n",
    "\n",
    "We will use the \"ISTANBUL STOCK EXCHANGE Data Set\" from the UCI website (https://archive.ics.uci.edu/ml/datasets/ISTANBUL+STOCK+EXCHANGE#). It has been used to forecast the ISE100 index and to determine its daily directional movements. For more information about the meaning of the rate of return of a stock exchange you can see (https://en.wikipedia.org/wiki/Rate_of_return) but this is not relevant for the completion of the exercise. \n",
    "\n",
    "To solve the exercise you should: \n",
    "\n",
    "Modify the following cells to create an RNN that solves the problem taking into account the following characteristics:\n",
    "\n",
    "1. Sequence size for prediction: 30\n",
    "2. Number of neurons: 40\n",
    "3. You should compare the results of LSTM, GRU, and basic RNN cells (just write down the final MSE values you get with the three types of cells to determine which one is the best).\n",
    "4. Modify the network to predict the values of the time series taking into consideration the values of the OTHER 7 timeseries BUT NOT the values of the target time series.  \n",
    "\n",
    "\n"
   ]
  },
  {
   "cell_type": "markdown",
   "metadata": {},
   "source": [
    "We read the dataset that is included within folder \"regression\""
   ]
  },
  {
   "cell_type": "code",
   "execution_count": 20,
   "metadata": {},
   "outputs": [
    {
     "data": {
      "text/html": [
       "<div>\n",
       "<style scoped>\n",
       "    .dataframe tbody tr th:only-of-type {\n",
       "        vertical-align: middle;\n",
       "    }\n",
       "\n",
       "    .dataframe tbody tr th {\n",
       "        vertical-align: top;\n",
       "    }\n",
       "\n",
       "    .dataframe thead th {\n",
       "        text-align: right;\n",
       "    }\n",
       "</style>\n",
       "<table border=\"1\" class=\"dataframe\">\n",
       "  <thead>\n",
       "    <tr style=\"text-align: right;\">\n",
       "      <th></th>\n",
       "      <th>date</th>\n",
       "      <th>ISE</th>\n",
       "      <th>ISE.1</th>\n",
       "      <th>SP</th>\n",
       "      <th>DAX</th>\n",
       "      <th>FTSE</th>\n",
       "      <th>NIKKEI</th>\n",
       "      <th>BOVESPA</th>\n",
       "      <th>EU</th>\n",
       "      <th>EM</th>\n",
       "    </tr>\n",
       "  </thead>\n",
       "  <tbody>\n",
       "    <tr>\n",
       "      <th>0</th>\n",
       "      <td>5-Jan-09</td>\n",
       "      <td>0.035754</td>\n",
       "      <td>0.038376</td>\n",
       "      <td>-0.004679</td>\n",
       "      <td>0.002193</td>\n",
       "      <td>0.003894</td>\n",
       "      <td>0.000000</td>\n",
       "      <td>0.031190</td>\n",
       "      <td>0.012698</td>\n",
       "      <td>0.028524</td>\n",
       "    </tr>\n",
       "    <tr>\n",
       "      <th>1</th>\n",
       "      <td>6-Jan-09</td>\n",
       "      <td>0.025426</td>\n",
       "      <td>0.031813</td>\n",
       "      <td>0.007787</td>\n",
       "      <td>0.008455</td>\n",
       "      <td>0.012866</td>\n",
       "      <td>0.004162</td>\n",
       "      <td>0.018920</td>\n",
       "      <td>0.011341</td>\n",
       "      <td>0.008773</td>\n",
       "    </tr>\n",
       "    <tr>\n",
       "      <th>2</th>\n",
       "      <td>7-Jan-09</td>\n",
       "      <td>-0.028862</td>\n",
       "      <td>-0.026353</td>\n",
       "      <td>-0.030469</td>\n",
       "      <td>-0.017833</td>\n",
       "      <td>-0.028735</td>\n",
       "      <td>0.017293</td>\n",
       "      <td>-0.035899</td>\n",
       "      <td>-0.017073</td>\n",
       "      <td>-0.020015</td>\n",
       "    </tr>\n",
       "    <tr>\n",
       "      <th>3</th>\n",
       "      <td>8-Jan-09</td>\n",
       "      <td>-0.062208</td>\n",
       "      <td>-0.084716</td>\n",
       "      <td>0.003391</td>\n",
       "      <td>-0.011726</td>\n",
       "      <td>-0.000466</td>\n",
       "      <td>-0.040061</td>\n",
       "      <td>0.028283</td>\n",
       "      <td>-0.005561</td>\n",
       "      <td>-0.019424</td>\n",
       "    </tr>\n",
       "    <tr>\n",
       "      <th>4</th>\n",
       "      <td>9-Jan-09</td>\n",
       "      <td>0.009860</td>\n",
       "      <td>0.009658</td>\n",
       "      <td>-0.021533</td>\n",
       "      <td>-0.019873</td>\n",
       "      <td>-0.012710</td>\n",
       "      <td>-0.004474</td>\n",
       "      <td>-0.009764</td>\n",
       "      <td>-0.010989</td>\n",
       "      <td>-0.007802</td>\n",
       "    </tr>\n",
       "    <tr>\n",
       "      <th>5</th>\n",
       "      <td>12-Jan-09</td>\n",
       "      <td>-0.029191</td>\n",
       "      <td>-0.042361</td>\n",
       "      <td>-0.022823</td>\n",
       "      <td>-0.013526</td>\n",
       "      <td>-0.005026</td>\n",
       "      <td>-0.049039</td>\n",
       "      <td>-0.053849</td>\n",
       "      <td>-0.012451</td>\n",
       "      <td>-0.022630</td>\n",
       "    </tr>\n",
       "    <tr>\n",
       "      <th>6</th>\n",
       "      <td>13-Jan-09</td>\n",
       "      <td>0.015445</td>\n",
       "      <td>-0.000272</td>\n",
       "      <td>0.001757</td>\n",
       "      <td>-0.017674</td>\n",
       "      <td>-0.006141</td>\n",
       "      <td>0.000000</td>\n",
       "      <td>0.003572</td>\n",
       "      <td>-0.012220</td>\n",
       "      <td>-0.004827</td>\n",
       "    </tr>\n",
       "    <tr>\n",
       "      <th>7</th>\n",
       "      <td>14-Jan-09</td>\n",
       "      <td>-0.041168</td>\n",
       "      <td>-0.035552</td>\n",
       "      <td>-0.034032</td>\n",
       "      <td>-0.047383</td>\n",
       "      <td>-0.050945</td>\n",
       "      <td>0.002912</td>\n",
       "      <td>-0.040302</td>\n",
       "      <td>-0.045220</td>\n",
       "      <td>-0.008677</td>\n",
       "    </tr>\n",
       "    <tr>\n",
       "      <th>8</th>\n",
       "      <td>15-Jan-09</td>\n",
       "      <td>0.000662</td>\n",
       "      <td>-0.017268</td>\n",
       "      <td>0.001328</td>\n",
       "      <td>-0.019551</td>\n",
       "      <td>-0.014335</td>\n",
       "      <td>-0.050448</td>\n",
       "      <td>0.030314</td>\n",
       "      <td>-0.012070</td>\n",
       "      <td>-0.023429</td>\n",
       "    </tr>\n",
       "    <tr>\n",
       "      <th>9</th>\n",
       "      <td>16-Jan-09</td>\n",
       "      <td>0.022037</td>\n",
       "      <td>0.032278</td>\n",
       "      <td>0.007533</td>\n",
       "      <td>0.006791</td>\n",
       "      <td>0.006289</td>\n",
       "      <td>0.025453</td>\n",
       "      <td>0.004867</td>\n",
       "      <td>0.008561</td>\n",
       "      <td>0.010917</td>\n",
       "    </tr>\n",
       "    <tr>\n",
       "      <th>10</th>\n",
       "      <td>19-Jan-09</td>\n",
       "      <td>-0.022692</td>\n",
       "      <td>-0.044349</td>\n",
       "      <td>-0.054262</td>\n",
       "      <td>-0.011550</td>\n",
       "      <td>-0.009351</td>\n",
       "      <td>0.003239</td>\n",
       "      <td>-0.013151</td>\n",
       "      <td>-0.012045</td>\n",
       "      <td>-0.004029</td>\n",
       "    </tr>\n",
       "    <tr>\n",
       "      <th>11</th>\n",
       "      <td>20-Jan-09</td>\n",
       "      <td>-0.013709</td>\n",
       "      <td>-0.029661</td>\n",
       "      <td>0.000000</td>\n",
       "      <td>-0.017834</td>\n",
       "      <td>-0.004171</td>\n",
       "      <td>-0.023411</td>\n",
       "      <td>-0.040899</td>\n",
       "      <td>-0.015088</td>\n",
       "      <td>-0.024107</td>\n",
       "    </tr>\n",
       "    <tr>\n",
       "      <th>12</th>\n",
       "      <td>21-Jan-09</td>\n",
       "      <td>0.000865</td>\n",
       "      <td>0.001529</td>\n",
       "      <td>0.042572</td>\n",
       "      <td>0.005011</td>\n",
       "      <td>-0.007729</td>\n",
       "      <td>-0.020561</td>\n",
       "      <td>0.033532</td>\n",
       "      <td>-0.003339</td>\n",
       "      <td>-0.005092</td>\n",
       "    </tr>\n",
       "    <tr>\n",
       "      <th>13</th>\n",
       "      <td>22-Jan-09</td>\n",
       "      <td>-0.003815</td>\n",
       "      <td>0.005043</td>\n",
       "      <td>-0.015278</td>\n",
       "      <td>-0.009841</td>\n",
       "      <td>-0.001898</td>\n",
       "      <td>0.018818</td>\n",
       "      <td>-0.016982</td>\n",
       "      <td>-0.006552</td>\n",
       "      <td>-0.003227</td>\n",
       "    </tr>\n",
       "    <tr>\n",
       "      <th>14</th>\n",
       "      <td>23-Jan-09</td>\n",
       "      <td>0.005661</td>\n",
       "      <td>-0.010008</td>\n",
       "      <td>0.005363</td>\n",
       "      <td>-0.009640</td>\n",
       "      <td>0.000074</td>\n",
       "      <td>-0.038808</td>\n",
       "      <td>0.006261</td>\n",
       "      <td>-0.003620</td>\n",
       "      <td>-0.008077</td>\n",
       "    </tr>\n",
       "    <tr>\n",
       "      <th>15</th>\n",
       "      <td>26-Jan-09</td>\n",
       "      <td>0.046831</td>\n",
       "      <td>0.061708</td>\n",
       "      <td>0.005538</td>\n",
       "      <td>0.034787</td>\n",
       "      <td>0.037891</td>\n",
       "      <td>-0.008182</td>\n",
       "      <td>0.009838</td>\n",
       "      <td>0.032800</td>\n",
       "      <td>0.010320</td>\n",
       "    </tr>\n",
       "    <tr>\n",
       "      <th>16</th>\n",
       "      <td>27-Jan-09</td>\n",
       "      <td>-0.006635</td>\n",
       "      <td>0.010949</td>\n",
       "      <td>0.010866</td>\n",
       "      <td>-0.000798</td>\n",
       "      <td>-0.003475</td>\n",
       "      <td>0.048148</td>\n",
       "      <td>0.004922</td>\n",
       "      <td>-0.002642</td>\n",
       "      <td>0.006344</td>\n",
       "    </tr>\n",
       "    <tr>\n",
       "      <th>17</th>\n",
       "      <td>28-Jan-09</td>\n",
       "      <td>0.034567</td>\n",
       "      <td>0.035871</td>\n",
       "      <td>0.033007</td>\n",
       "      <td>0.044182</td>\n",
       "      <td>0.023748</td>\n",
       "      <td>0.005594</td>\n",
       "      <td>0.038725</td>\n",
       "      <td>0.029974</td>\n",
       "      <td>0.022104</td>\n",
       "    </tr>\n",
       "    <tr>\n",
       "      <th>18</th>\n",
       "      <td>29-Jan-09</td>\n",
       "      <td>-0.020528</td>\n",
       "      <td>-0.020272</td>\n",
       "      <td>-0.033681</td>\n",
       "      <td>-0.020256</td>\n",
       "      <td>-0.024774</td>\n",
       "      <td>0.017723</td>\n",
       "      <td>-0.014750</td>\n",
       "      <td>-0.023109</td>\n",
       "      <td>0.000409</td>\n",
       "    </tr>\n",
       "    <tr>\n",
       "      <th>19</th>\n",
       "      <td>30-Jan-09</td>\n",
       "      <td>-0.008777</td>\n",
       "      <td>-0.023458</td>\n",
       "      <td>-0.023053</td>\n",
       "      <td>-0.020479</td>\n",
       "      <td>-0.009713</td>\n",
       "      <td>-0.031666</td>\n",
       "      <td>-0.008538</td>\n",
       "      <td>-0.007201</td>\n",
       "      <td>0.002243</td>\n",
       "    </tr>\n",
       "    <tr>\n",
       "      <th>20</th>\n",
       "      <td>2-Feb-09</td>\n",
       "      <td>-0.025919</td>\n",
       "      <td>-0.035607</td>\n",
       "      <td>-0.000533</td>\n",
       "      <td>-0.015637</td>\n",
       "      <td>-0.017454</td>\n",
       "      <td>-0.015134</td>\n",
       "      <td>-0.016289</td>\n",
       "      <td>-0.019739</td>\n",
       "      <td>-0.019091</td>\n",
       "    </tr>\n",
       "    <tr>\n",
       "      <th>21</th>\n",
       "      <td>3-Feb-09</td>\n",
       "      <td>0.015279</td>\n",
       "      <td>0.022403</td>\n",
       "      <td>0.015710</td>\n",
       "      <td>0.024040</td>\n",
       "      <td>0.021039</td>\n",
       "      <td>-0.006175</td>\n",
       "      <td>0.027574</td>\n",
       "      <td>0.017862</td>\n",
       "      <td>0.012719</td>\n",
       "    </tr>\n",
       "    <tr>\n",
       "      <th>22</th>\n",
       "      <td>4-Feb-09</td>\n",
       "      <td>0.018578</td>\n",
       "      <td>0.023231</td>\n",
       "      <td>-0.007518</td>\n",
       "      <td>0.026577</td>\n",
       "      <td>0.015275</td>\n",
       "      <td>0.026908</td>\n",
       "      <td>0.009565</td>\n",
       "      <td>0.018770</td>\n",
       "      <td>0.015166</td>\n",
       "    </tr>\n",
       "    <tr>\n",
       "      <th>23</th>\n",
       "      <td>5-Feb-09</td>\n",
       "      <td>-0.014133</td>\n",
       "      <td>-0.014571</td>\n",
       "      <td>0.016233</td>\n",
       "      <td>0.003932</td>\n",
       "      <td>0.000071</td>\n",
       "      <td>-0.011169</td>\n",
       "      <td>0.024128</td>\n",
       "      <td>-0.004139</td>\n",
       "      <td>0.002073</td>\n",
       "    </tr>\n",
       "    <tr>\n",
       "      <th>24</th>\n",
       "      <td>6-Feb-09</td>\n",
       "      <td>0.036607</td>\n",
       "      <td>0.042759</td>\n",
       "      <td>0.026541</td>\n",
       "      <td>0.029306</td>\n",
       "      <td>0.014788</td>\n",
       "      <td>0.015846</td>\n",
       "      <td>0.039282</td>\n",
       "      <td>0.019127</td>\n",
       "      <td>0.032338</td>\n",
       "    </tr>\n",
       "    <tr>\n",
       "      <th>25</th>\n",
       "      <td>9-Feb-09</td>\n",
       "      <td>0.011353</td>\n",
       "      <td>0.021468</td>\n",
       "      <td>0.001484</td>\n",
       "      <td>0.004766</td>\n",
       "      <td>0.003651</td>\n",
       "      <td>-0.013411</td>\n",
       "      <td>-0.015462</td>\n",
       "      <td>0.005627</td>\n",
       "      <td>0.007895</td>\n",
       "    </tr>\n",
       "    <tr>\n",
       "      <th>26</th>\n",
       "      <td>10-Feb-09</td>\n",
       "      <td>-0.040542</td>\n",
       "      <td>-0.043907</td>\n",
       "      <td>-0.050369</td>\n",
       "      <td>-0.035170</td>\n",
       "      <td>-0.022182</td>\n",
       "      <td>-0.002902</td>\n",
       "      <td>-0.021440</td>\n",
       "      <td>-0.024388</td>\n",
       "      <td>-0.002139</td>\n",
       "    </tr>\n",
       "    <tr>\n",
       "      <th>27</th>\n",
       "      <td>11-Feb-09</td>\n",
       "      <td>-0.022106</td>\n",
       "      <td>-0.033893</td>\n",
       "      <td>0.007923</td>\n",
       "      <td>0.005434</td>\n",
       "      <td>0.005019</td>\n",
       "      <td>-0.030745</td>\n",
       "      <td>-0.008799</td>\n",
       "      <td>0.001097</td>\n",
       "      <td>-0.007926</td>\n",
       "    </tr>\n",
       "    <tr>\n",
       "      <th>28</th>\n",
       "      <td>12-Feb-09</td>\n",
       "      <td>-0.014888</td>\n",
       "      <td>-0.020825</td>\n",
       "      <td>0.001738</td>\n",
       "      <td>-0.027421</td>\n",
       "      <td>-0.007610</td>\n",
       "      <td>0.000000</td>\n",
       "      <td>-0.008482</td>\n",
       "      <td>-0.014092</td>\n",
       "      <td>-0.014773</td>\n",
       "    </tr>\n",
       "    <tr>\n",
       "      <th>29</th>\n",
       "      <td>13-Feb-09</td>\n",
       "      <td>0.007027</td>\n",
       "      <td>0.009709</td>\n",
       "      <td>-0.010048</td>\n",
       "      <td>0.001322</td>\n",
       "      <td>-0.003003</td>\n",
       "      <td>0.009563</td>\n",
       "      <td>0.028551</td>\n",
       "      <td>0.003032</td>\n",
       "      <td>0.017764</td>\n",
       "    </tr>\n",
       "    <tr>\n",
       "      <th>...</th>\n",
       "      <td>...</td>\n",
       "      <td>...</td>\n",
       "      <td>...</td>\n",
       "      <td>...</td>\n",
       "      <td>...</td>\n",
       "      <td>...</td>\n",
       "      <td>...</td>\n",
       "      <td>...</td>\n",
       "      <td>...</td>\n",
       "      <td>...</td>\n",
       "    </tr>\n",
       "    <tr>\n",
       "      <th>506</th>\n",
       "      <td>12-Jan-11</td>\n",
       "      <td>0.003761</td>\n",
       "      <td>0.009064</td>\n",
       "      <td>0.008967</td>\n",
       "      <td>0.018160</td>\n",
       "      <td>0.006084</td>\n",
       "      <td>0.000202</td>\n",
       "      <td>0.017036</td>\n",
       "      <td>0.014397</td>\n",
       "      <td>0.011872</td>\n",
       "    </tr>\n",
       "    <tr>\n",
       "      <th>507</th>\n",
       "      <td>13-Jan-11</td>\n",
       "      <td>0.009547</td>\n",
       "      <td>0.016298</td>\n",
       "      <td>-0.001712</td>\n",
       "      <td>0.000895</td>\n",
       "      <td>-0.004439</td>\n",
       "      <td>0.007294</td>\n",
       "      <td>-0.012813</td>\n",
       "      <td>-0.000367</td>\n",
       "      <td>-0.002109</td>\n",
       "    </tr>\n",
       "    <tr>\n",
       "      <th>508</th>\n",
       "      <td>14-Jan-11</td>\n",
       "      <td>-0.010199</td>\n",
       "      <td>-0.004700</td>\n",
       "      <td>0.007357</td>\n",
       "      <td>0.000083</td>\n",
       "      <td>-0.003625</td>\n",
       "      <td>-0.008604</td>\n",
       "      <td>0.003092</td>\n",
       "      <td>-0.000761</td>\n",
       "      <td>0.000238</td>\n",
       "    </tr>\n",
       "    <tr>\n",
       "      <th>509</th>\n",
       "      <td>17-Jan-11</td>\n",
       "      <td>-0.015563</td>\n",
       "      <td>-0.015368</td>\n",
       "      <td>0.001375</td>\n",
       "      <td>0.000333</td>\n",
       "      <td>-0.002736</td>\n",
       "      <td>0.000364</td>\n",
       "      <td>-0.004677</td>\n",
       "      <td>-0.002147</td>\n",
       "      <td>-0.004537</td>\n",
       "    </tr>\n",
       "    <tr>\n",
       "      <th>510</th>\n",
       "      <td>18-Jan-11</td>\n",
       "      <td>-0.006049</td>\n",
       "      <td>0.004580</td>\n",
       "      <td>0.000000</td>\n",
       "      <td>0.009196</td>\n",
       "      <td>0.011742</td>\n",
       "      <td>0.001534</td>\n",
       "      <td>0.004395</td>\n",
       "      <td>0.010995</td>\n",
       "      <td>0.002406</td>\n",
       "    </tr>\n",
       "    <tr>\n",
       "      <th>511</th>\n",
       "      <td>19-Jan-11</td>\n",
       "      <td>0.000521</td>\n",
       "      <td>-0.003209</td>\n",
       "      <td>-0.010167</td>\n",
       "      <td>-0.008532</td>\n",
       "      <td>-0.013247</td>\n",
       "      <td>0.003617</td>\n",
       "      <td>-0.012229</td>\n",
       "      <td>-0.010645</td>\n",
       "      <td>0.001086</td>\n",
       "    </tr>\n",
       "    <tr>\n",
       "      <th>512</th>\n",
       "      <td>20-Jan-11</td>\n",
       "      <td>-0.017835</td>\n",
       "      <td>-0.031652</td>\n",
       "      <td>-0.001296</td>\n",
       "      <td>-0.008292</td>\n",
       "      <td>-0.018372</td>\n",
       "      <td>-0.011412</td>\n",
       "      <td>-0.007105</td>\n",
       "      <td>-0.010088</td>\n",
       "      <td>-0.010442</td>\n",
       "    </tr>\n",
       "    <tr>\n",
       "      <th>513</th>\n",
       "      <td>21-Jan-11</td>\n",
       "      <td>0.009744</td>\n",
       "      <td>-0.000511</td>\n",
       "      <td>0.002411</td>\n",
       "      <td>0.005416</td>\n",
       "      <td>0.004828</td>\n",
       "      <td>-0.015720</td>\n",
       "      <td>-0.006186</td>\n",
       "      <td>0.008396</td>\n",
       "      <td>-0.006854</td>\n",
       "    </tr>\n",
       "    <tr>\n",
       "      <th>514</th>\n",
       "      <td>24-Jan-11</td>\n",
       "      <td>-0.011067</td>\n",
       "      <td>-0.007426</td>\n",
       "      <td>0.005819</td>\n",
       "      <td>0.000757</td>\n",
       "      <td>0.008040</td>\n",
       "      <td>0.006847</td>\n",
       "      <td>0.004244</td>\n",
       "      <td>0.004158</td>\n",
       "      <td>-0.001145</td>\n",
       "    </tr>\n",
       "    <tr>\n",
       "      <th>515</th>\n",
       "      <td>25-Jan-11</td>\n",
       "      <td>-0.000749</td>\n",
       "      <td>0.004639</td>\n",
       "      <td>0.000263</td>\n",
       "      <td>-0.001240</td>\n",
       "      <td>-0.004418</td>\n",
       "      <td>0.011467</td>\n",
       "      <td>-0.010396</td>\n",
       "      <td>-0.004044</td>\n",
       "      <td>-0.000885</td>\n",
       "    </tr>\n",
       "    <tr>\n",
       "      <th>516</th>\n",
       "      <td>26-Jan-11</td>\n",
       "      <td>0.012326</td>\n",
       "      <td>0.005404</td>\n",
       "      <td>0.004212</td>\n",
       "      <td>0.009635</td>\n",
       "      <td>0.008665</td>\n",
       "      <td>-0.005992</td>\n",
       "      <td>0.000000</td>\n",
       "      <td>0.007097</td>\n",
       "      <td>0.005019</td>\n",
       "    </tr>\n",
       "    <tr>\n",
       "      <th>517</th>\n",
       "      <td>27-Jan-11</td>\n",
       "      <td>-0.014082</td>\n",
       "      <td>-0.014976</td>\n",
       "      <td>0.002242</td>\n",
       "      <td>0.003953</td>\n",
       "      <td>-0.000687</td>\n",
       "      <td>0.007352</td>\n",
       "      <td>-0.009623</td>\n",
       "      <td>0.001919</td>\n",
       "      <td>-0.001149</td>\n",
       "    </tr>\n",
       "    <tr>\n",
       "      <th>518</th>\n",
       "      <td>28-Jan-11</td>\n",
       "      <td>-0.028498</td>\n",
       "      <td>-0.038599</td>\n",
       "      <td>-0.018014</td>\n",
       "      <td>-0.007403</td>\n",
       "      <td>-0.014131</td>\n",
       "      <td>-0.011356</td>\n",
       "      <td>-0.020082</td>\n",
       "      <td>-0.010478</td>\n",
       "      <td>-0.009912</td>\n",
       "    </tr>\n",
       "    <tr>\n",
       "      <th>519</th>\n",
       "      <td>31-Jan-11</td>\n",
       "      <td>0.001056</td>\n",
       "      <td>-0.008883</td>\n",
       "      <td>0.007633</td>\n",
       "      <td>-0.003571</td>\n",
       "      <td>-0.003150</td>\n",
       "      <td>-0.011887</td>\n",
       "      <td>-0.001846</td>\n",
       "      <td>-0.002650</td>\n",
       "      <td>-0.005789</td>\n",
       "    </tr>\n",
       "    <tr>\n",
       "      <th>520</th>\n",
       "      <td>1-Feb-11</td>\n",
       "      <td>0.024116</td>\n",
       "      <td>0.035257</td>\n",
       "      <td>0.016556</td>\n",
       "      <td>0.014976</td>\n",
       "      <td>0.016057</td>\n",
       "      <td>0.003567</td>\n",
       "      <td>0.018926</td>\n",
       "      <td>0.015089</td>\n",
       "      <td>0.006224</td>\n",
       "    </tr>\n",
       "    <tr>\n",
       "      <th>521</th>\n",
       "      <td>2-Feb-11</td>\n",
       "      <td>0.007447</td>\n",
       "      <td>0.014239</td>\n",
       "      <td>-0.002726</td>\n",
       "      <td>-0.000083</td>\n",
       "      <td>0.007075</td>\n",
       "      <td>0.017641</td>\n",
       "      <td>-0.017230</td>\n",
       "      <td>0.001618</td>\n",
       "      <td>0.003631</td>\n",
       "    </tr>\n",
       "    <tr>\n",
       "      <th>522</th>\n",
       "      <td>3-Feb-11</td>\n",
       "      <td>-0.024478</td>\n",
       "      <td>-0.027850</td>\n",
       "      <td>0.002351</td>\n",
       "      <td>0.001392</td>\n",
       "      <td>-0.002804</td>\n",
       "      <td>-0.002489</td>\n",
       "      <td>0.001154</td>\n",
       "      <td>-0.002883</td>\n",
       "      <td>0.000476</td>\n",
       "    </tr>\n",
       "    <tr>\n",
       "      <th>523</th>\n",
       "      <td>4-Feb-11</td>\n",
       "      <td>0.024507</td>\n",
       "      <td>0.013959</td>\n",
       "      <td>0.002880</td>\n",
       "      <td>0.003127</td>\n",
       "      <td>0.002354</td>\n",
       "      <td>0.010695</td>\n",
       "      <td>-0.022662</td>\n",
       "      <td>0.002761</td>\n",
       "      <td>-0.003185</td>\n",
       "    </tr>\n",
       "    <tr>\n",
       "      <th>524</th>\n",
       "      <td>7-Feb-11</td>\n",
       "      <td>-0.006196</td>\n",
       "      <td>0.008553</td>\n",
       "      <td>0.006221</td>\n",
       "      <td>0.009298</td>\n",
       "      <td>0.008898</td>\n",
       "      <td>0.004591</td>\n",
       "      <td>0.001424</td>\n",
       "      <td>0.008217</td>\n",
       "      <td>-0.003346</td>\n",
       "    </tr>\n",
       "    <tr>\n",
       "      <th>525</th>\n",
       "      <td>8-Feb-11</td>\n",
       "      <td>0.005356</td>\n",
       "      <td>0.006886</td>\n",
       "      <td>0.004176</td>\n",
       "      <td>0.005425</td>\n",
       "      <td>0.006638</td>\n",
       "      <td>0.004140</td>\n",
       "      <td>0.006238</td>\n",
       "      <td>0.003980</td>\n",
       "      <td>-0.004499</td>\n",
       "    </tr>\n",
       "    <tr>\n",
       "      <th>526</th>\n",
       "      <td>9-Feb-11</td>\n",
       "      <td>0.004823</td>\n",
       "      <td>-0.003255</td>\n",
       "      <td>-0.002790</td>\n",
       "      <td>-0.000320</td>\n",
       "      <td>-0.006423</td>\n",
       "      <td>-0.001708</td>\n",
       "      <td>-0.023895</td>\n",
       "      <td>-0.003024</td>\n",
       "      <td>-0.014249</td>\n",
       "    </tr>\n",
       "    <tr>\n",
       "      <th>527</th>\n",
       "      <td>10-Feb-11</td>\n",
       "      <td>-0.017664</td>\n",
       "      <td>-0.024921</td>\n",
       "      <td>0.000749</td>\n",
       "      <td>0.002644</td>\n",
       "      <td>-0.005351</td>\n",
       "      <td>-0.001148</td>\n",
       "      <td>0.005590</td>\n",
       "      <td>-0.003742</td>\n",
       "      <td>-0.014760</td>\n",
       "    </tr>\n",
       "    <tr>\n",
       "      <th>528</th>\n",
       "      <td>11-Feb-11</td>\n",
       "      <td>0.004782</td>\n",
       "      <td>0.006418</td>\n",
       "      <td>0.005492</td>\n",
       "      <td>0.004204</td>\n",
       "      <td>0.007101</td>\n",
       "      <td>0.011241</td>\n",
       "      <td>0.018077</td>\n",
       "      <td>0.004727</td>\n",
       "      <td>0.003931</td>\n",
       "    </tr>\n",
       "    <tr>\n",
       "      <th>529</th>\n",
       "      <td>14-Feb-11</td>\n",
       "      <td>-0.002498</td>\n",
       "      <td>0.000405</td>\n",
       "      <td>0.002382</td>\n",
       "      <td>0.003444</td>\n",
       "      <td>-0.000462</td>\n",
       "      <td>0.000000</td>\n",
       "      <td>0.012123</td>\n",
       "      <td>0.000169</td>\n",
       "      <td>0.013448</td>\n",
       "    </tr>\n",
       "    <tr>\n",
       "      <th>530</th>\n",
       "      <td>15-Feb-11</td>\n",
       "      <td>0.003606</td>\n",
       "      <td>0.000893</td>\n",
       "      <td>-0.003240</td>\n",
       "      <td>0.000461</td>\n",
       "      <td>-0.003803</td>\n",
       "      <td>0.001968</td>\n",
       "      <td>-0.003266</td>\n",
       "      <td>-0.000550</td>\n",
       "      <td>-0.001430</td>\n",
       "    </tr>\n",
       "    <tr>\n",
       "      <th>531</th>\n",
       "      <td>16-Feb-11</td>\n",
       "      <td>0.008599</td>\n",
       "      <td>0.013400</td>\n",
       "      <td>0.006238</td>\n",
       "      <td>0.001925</td>\n",
       "      <td>0.007952</td>\n",
       "      <td>0.005717</td>\n",
       "      <td>0.018371</td>\n",
       "      <td>0.006975</td>\n",
       "      <td>0.003039</td>\n",
       "    </tr>\n",
       "    <tr>\n",
       "      <th>532</th>\n",
       "      <td>17-Feb-11</td>\n",
       "      <td>0.009310</td>\n",
       "      <td>0.015977</td>\n",
       "      <td>0.003071</td>\n",
       "      <td>-0.001186</td>\n",
       "      <td>0.000345</td>\n",
       "      <td>0.002620</td>\n",
       "      <td>0.001686</td>\n",
       "      <td>-0.000581</td>\n",
       "      <td>0.001039</td>\n",
       "    </tr>\n",
       "    <tr>\n",
       "      <th>533</th>\n",
       "      <td>18-Feb-11</td>\n",
       "      <td>0.000191</td>\n",
       "      <td>-0.001653</td>\n",
       "      <td>0.001923</td>\n",
       "      <td>0.002872</td>\n",
       "      <td>-0.000723</td>\n",
       "      <td>0.000568</td>\n",
       "      <td>0.005628</td>\n",
       "      <td>0.000572</td>\n",
       "      <td>0.006938</td>\n",
       "    </tr>\n",
       "    <tr>\n",
       "      <th>534</th>\n",
       "      <td>21-Feb-11</td>\n",
       "      <td>-0.013069</td>\n",
       "      <td>-0.013706</td>\n",
       "      <td>-0.020742</td>\n",
       "      <td>-0.014239</td>\n",
       "      <td>-0.011275</td>\n",
       "      <td>0.001358</td>\n",
       "      <td>-0.011942</td>\n",
       "      <td>-0.012615</td>\n",
       "      <td>-0.000958</td>\n",
       "    </tr>\n",
       "    <tr>\n",
       "      <th>535</th>\n",
       "      <td>22-Feb-11</td>\n",
       "      <td>-0.007246</td>\n",
       "      <td>-0.019442</td>\n",
       "      <td>0.000000</td>\n",
       "      <td>-0.000473</td>\n",
       "      <td>-0.002997</td>\n",
       "      <td>-0.017920</td>\n",
       "      <td>-0.012252</td>\n",
       "      <td>-0.005465</td>\n",
       "      <td>-0.014297</td>\n",
       "    </tr>\n",
       "  </tbody>\n",
       "</table>\n",
       "<p>536 rows × 10 columns</p>\n",
       "</div>"
      ],
      "text/plain": [
       "          date       ISE     ISE.1        SP       DAX      FTSE    NIKKEI  \\\n",
       "0     5-Jan-09  0.035754  0.038376 -0.004679  0.002193  0.003894  0.000000   \n",
       "1     6-Jan-09  0.025426  0.031813  0.007787  0.008455  0.012866  0.004162   \n",
       "2     7-Jan-09 -0.028862 -0.026353 -0.030469 -0.017833 -0.028735  0.017293   \n",
       "3     8-Jan-09 -0.062208 -0.084716  0.003391 -0.011726 -0.000466 -0.040061   \n",
       "4     9-Jan-09  0.009860  0.009658 -0.021533 -0.019873 -0.012710 -0.004474   \n",
       "5    12-Jan-09 -0.029191 -0.042361 -0.022823 -0.013526 -0.005026 -0.049039   \n",
       "6    13-Jan-09  0.015445 -0.000272  0.001757 -0.017674 -0.006141  0.000000   \n",
       "7    14-Jan-09 -0.041168 -0.035552 -0.034032 -0.047383 -0.050945  0.002912   \n",
       "8    15-Jan-09  0.000662 -0.017268  0.001328 -0.019551 -0.014335 -0.050448   \n",
       "9    16-Jan-09  0.022037  0.032278  0.007533  0.006791  0.006289  0.025453   \n",
       "10   19-Jan-09 -0.022692 -0.044349 -0.054262 -0.011550 -0.009351  0.003239   \n",
       "11   20-Jan-09 -0.013709 -0.029661  0.000000 -0.017834 -0.004171 -0.023411   \n",
       "12   21-Jan-09  0.000865  0.001529  0.042572  0.005011 -0.007729 -0.020561   \n",
       "13   22-Jan-09 -0.003815  0.005043 -0.015278 -0.009841 -0.001898  0.018818   \n",
       "14   23-Jan-09  0.005661 -0.010008  0.005363 -0.009640  0.000074 -0.038808   \n",
       "15   26-Jan-09  0.046831  0.061708  0.005538  0.034787  0.037891 -0.008182   \n",
       "16   27-Jan-09 -0.006635  0.010949  0.010866 -0.000798 -0.003475  0.048148   \n",
       "17   28-Jan-09  0.034567  0.035871  0.033007  0.044182  0.023748  0.005594   \n",
       "18   29-Jan-09 -0.020528 -0.020272 -0.033681 -0.020256 -0.024774  0.017723   \n",
       "19   30-Jan-09 -0.008777 -0.023458 -0.023053 -0.020479 -0.009713 -0.031666   \n",
       "20    2-Feb-09 -0.025919 -0.035607 -0.000533 -0.015637 -0.017454 -0.015134   \n",
       "21    3-Feb-09  0.015279  0.022403  0.015710  0.024040  0.021039 -0.006175   \n",
       "22    4-Feb-09  0.018578  0.023231 -0.007518  0.026577  0.015275  0.026908   \n",
       "23    5-Feb-09 -0.014133 -0.014571  0.016233  0.003932  0.000071 -0.011169   \n",
       "24    6-Feb-09  0.036607  0.042759  0.026541  0.029306  0.014788  0.015846   \n",
       "25    9-Feb-09  0.011353  0.021468  0.001484  0.004766  0.003651 -0.013411   \n",
       "26   10-Feb-09 -0.040542 -0.043907 -0.050369 -0.035170 -0.022182 -0.002902   \n",
       "27   11-Feb-09 -0.022106 -0.033893  0.007923  0.005434  0.005019 -0.030745   \n",
       "28   12-Feb-09 -0.014888 -0.020825  0.001738 -0.027421 -0.007610  0.000000   \n",
       "29   13-Feb-09  0.007027  0.009709 -0.010048  0.001322 -0.003003  0.009563   \n",
       "..         ...       ...       ...       ...       ...       ...       ...   \n",
       "506  12-Jan-11  0.003761  0.009064  0.008967  0.018160  0.006084  0.000202   \n",
       "507  13-Jan-11  0.009547  0.016298 -0.001712  0.000895 -0.004439  0.007294   \n",
       "508  14-Jan-11 -0.010199 -0.004700  0.007357  0.000083 -0.003625 -0.008604   \n",
       "509  17-Jan-11 -0.015563 -0.015368  0.001375  0.000333 -0.002736  0.000364   \n",
       "510  18-Jan-11 -0.006049  0.004580  0.000000  0.009196  0.011742  0.001534   \n",
       "511  19-Jan-11  0.000521 -0.003209 -0.010167 -0.008532 -0.013247  0.003617   \n",
       "512  20-Jan-11 -0.017835 -0.031652 -0.001296 -0.008292 -0.018372 -0.011412   \n",
       "513  21-Jan-11  0.009744 -0.000511  0.002411  0.005416  0.004828 -0.015720   \n",
       "514  24-Jan-11 -0.011067 -0.007426  0.005819  0.000757  0.008040  0.006847   \n",
       "515  25-Jan-11 -0.000749  0.004639  0.000263 -0.001240 -0.004418  0.011467   \n",
       "516  26-Jan-11  0.012326  0.005404  0.004212  0.009635  0.008665 -0.005992   \n",
       "517  27-Jan-11 -0.014082 -0.014976  0.002242  0.003953 -0.000687  0.007352   \n",
       "518  28-Jan-11 -0.028498 -0.038599 -0.018014 -0.007403 -0.014131 -0.011356   \n",
       "519  31-Jan-11  0.001056 -0.008883  0.007633 -0.003571 -0.003150 -0.011887   \n",
       "520   1-Feb-11  0.024116  0.035257  0.016556  0.014976  0.016057  0.003567   \n",
       "521   2-Feb-11  0.007447  0.014239 -0.002726 -0.000083  0.007075  0.017641   \n",
       "522   3-Feb-11 -0.024478 -0.027850  0.002351  0.001392 -0.002804 -0.002489   \n",
       "523   4-Feb-11  0.024507  0.013959  0.002880  0.003127  0.002354  0.010695   \n",
       "524   7-Feb-11 -0.006196  0.008553  0.006221  0.009298  0.008898  0.004591   \n",
       "525   8-Feb-11  0.005356  0.006886  0.004176  0.005425  0.006638  0.004140   \n",
       "526   9-Feb-11  0.004823 -0.003255 -0.002790 -0.000320 -0.006423 -0.001708   \n",
       "527  10-Feb-11 -0.017664 -0.024921  0.000749  0.002644 -0.005351 -0.001148   \n",
       "528  11-Feb-11  0.004782  0.006418  0.005492  0.004204  0.007101  0.011241   \n",
       "529  14-Feb-11 -0.002498  0.000405  0.002382  0.003444 -0.000462  0.000000   \n",
       "530  15-Feb-11  0.003606  0.000893 -0.003240  0.000461 -0.003803  0.001968   \n",
       "531  16-Feb-11  0.008599  0.013400  0.006238  0.001925  0.007952  0.005717   \n",
       "532  17-Feb-11  0.009310  0.015977  0.003071 -0.001186  0.000345  0.002620   \n",
       "533  18-Feb-11  0.000191 -0.001653  0.001923  0.002872 -0.000723  0.000568   \n",
       "534  21-Feb-11 -0.013069 -0.013706 -0.020742 -0.014239 -0.011275  0.001358   \n",
       "535  22-Feb-11 -0.007246 -0.019442  0.000000 -0.000473 -0.002997 -0.017920   \n",
       "\n",
       "      BOVESPA        EU        EM  \n",
       "0    0.031190  0.012698  0.028524  \n",
       "1    0.018920  0.011341  0.008773  \n",
       "2   -0.035899 -0.017073 -0.020015  \n",
       "3    0.028283 -0.005561 -0.019424  \n",
       "4   -0.009764 -0.010989 -0.007802  \n",
       "5   -0.053849 -0.012451 -0.022630  \n",
       "6    0.003572 -0.012220 -0.004827  \n",
       "7   -0.040302 -0.045220 -0.008677  \n",
       "8    0.030314 -0.012070 -0.023429  \n",
       "9    0.004867  0.008561  0.010917  \n",
       "10  -0.013151 -0.012045 -0.004029  \n",
       "11  -0.040899 -0.015088 -0.024107  \n",
       "12   0.033532 -0.003339 -0.005092  \n",
       "13  -0.016982 -0.006552 -0.003227  \n",
       "14   0.006261 -0.003620 -0.008077  \n",
       "15   0.009838  0.032800  0.010320  \n",
       "16   0.004922 -0.002642  0.006344  \n",
       "17   0.038725  0.029974  0.022104  \n",
       "18  -0.014750 -0.023109  0.000409  \n",
       "19  -0.008538 -0.007201  0.002243  \n",
       "20  -0.016289 -0.019739 -0.019091  \n",
       "21   0.027574  0.017862  0.012719  \n",
       "22   0.009565  0.018770  0.015166  \n",
       "23   0.024128 -0.004139  0.002073  \n",
       "24   0.039282  0.019127  0.032338  \n",
       "25  -0.015462  0.005627  0.007895  \n",
       "26  -0.021440 -0.024388 -0.002139  \n",
       "27  -0.008799  0.001097 -0.007926  \n",
       "28  -0.008482 -0.014092 -0.014773  \n",
       "29   0.028551  0.003032  0.017764  \n",
       "..        ...       ...       ...  \n",
       "506  0.017036  0.014397  0.011872  \n",
       "507 -0.012813 -0.000367 -0.002109  \n",
       "508  0.003092 -0.000761  0.000238  \n",
       "509 -0.004677 -0.002147 -0.004537  \n",
       "510  0.004395  0.010995  0.002406  \n",
       "511 -0.012229 -0.010645  0.001086  \n",
       "512 -0.007105 -0.010088 -0.010442  \n",
       "513 -0.006186  0.008396 -0.006854  \n",
       "514  0.004244  0.004158 -0.001145  \n",
       "515 -0.010396 -0.004044 -0.000885  \n",
       "516  0.000000  0.007097  0.005019  \n",
       "517 -0.009623  0.001919 -0.001149  \n",
       "518 -0.020082 -0.010478 -0.009912  \n",
       "519 -0.001846 -0.002650 -0.005789  \n",
       "520  0.018926  0.015089  0.006224  \n",
       "521 -0.017230  0.001618  0.003631  \n",
       "522  0.001154 -0.002883  0.000476  \n",
       "523 -0.022662  0.002761 -0.003185  \n",
       "524  0.001424  0.008217 -0.003346  \n",
       "525  0.006238  0.003980 -0.004499  \n",
       "526 -0.023895 -0.003024 -0.014249  \n",
       "527  0.005590 -0.003742 -0.014760  \n",
       "528  0.018077  0.004727  0.003931  \n",
       "529  0.012123  0.000169  0.013448  \n",
       "530 -0.003266 -0.000550 -0.001430  \n",
       "531  0.018371  0.006975  0.003039  \n",
       "532  0.001686 -0.000581  0.001039  \n",
       "533  0.005628  0.000572  0.006938  \n",
       "534 -0.011942 -0.012615 -0.000958  \n",
       "535 -0.012252 -0.005465 -0.014297  \n",
       "\n",
       "[536 rows x 10 columns]"
      ]
     },
     "execution_count": 20,
     "metadata": {},
     "output_type": "execute_result"
    }
   ],
   "source": [
    "import pandas as pd\n",
    "import seaborn as sns\n",
    "\n",
    "#stock_Istambul = pd.read_excel('regression/data_akbilgic.xlsx')\n",
    "#df = pd.DataFrame(stock_Istambul)\n",
    "#df.to_csv('regression/data_akbilgic.csv')\n",
    "\n",
    "df = pd.read_csv('data_akbilgic.csv')\n",
    "df"
   ]
  },
  {
   "cell_type": "markdown",
   "metadata": {},
   "source": [
    "The TS that will be predicted is plotted. Notice that it is less \"clean\" than the toy problem shown in the example before."
   ]
  },
  {
   "cell_type": "code",
   "execution_count": 21,
   "metadata": {},
   "outputs": [
    {
     "data": {
      "image/png": "[encoded data removed]",
      "text/plain": [
       "<Figure size 432x288 with 1 Axes>"
      ]
     },
     "metadata": {
      "needs_background": "light"
     },
     "output_type": "display_data"
    }
   ],
   "source": [
    "plt.plot(df['ISE.1'])\n",
    "plt.xlabel(\"Time\")\n",
    "plt.ylabel(\"ISE.1 returns\")\n",
    "plt.show()"
   ]
  },
  {
   "cell_type": "markdown",
   "metadata": {},
   "source": [
    "For a correct estimation of the prediction quality we split the data between train and test in the following cell."
   ]
  },
  {
   "cell_type": "code",
   "execution_count": 22,
   "metadata": {},
   "outputs": [],
   "source": [
    "df_size = df.shape[0]\n",
    "df_train = df.iloc[:int(df_size/2),:]\n",
    "df_test = df.iloc[int(df_size/2):,:]"
   ]
  },
  {
   "cell_type": "markdown",
   "metadata": {},
   "source": [
    "The following cell is used to generate batches with which the RNN is trained. \n",
    "\n",
    "NOTICE: You will need to modify this function to answer the last part (point 4) of the exercise. But you do not need to change it to answer to complete the other parts. "
   ]
  },
  {
   "cell_type": "code",
   "execution_count": null,
   "metadata": {},
   "outputs": [],
   "source": []
  },
  {
   "cell_type": "code",
   "execution_count": 23,
   "metadata": {},
   "outputs": [],
   "source": [
    "# Receives the number of samples (batch_size) of size (n_steps) to extract\n",
    "# from the time series, and outputs such a sample\n",
    "def next_stock_batch(batch_size, n_steps, df_base):\n",
    "    t_min = 0\n",
    "    t_max = df_base.shape[0]\n",
    "  \n",
    "    # The inputs will be formed by 8 sequences taken from\n",
    "    # 8 time series [ISE.1,SP,DAX,FTSE,NIKKEI,BOVESPA,EU,EM]\n",
    "    x = np.zeros((batch_size,n_steps,7))\n",
    "    \n",
    "    # We want to predict the returns of the Istambul stock\n",
    "    # taken into consideration the previous n_steps days\n",
    "    y = np.zeros((batch_size,n_steps,1))\n",
    "\n",
    "    # We chose batch_size random points from time series x-axis\n",
    "\n",
    "    starting_points = np.random.randint(0,t_max-n_steps-1,size=batch_size)    \n",
    "    #print(starting_points)\n",
    "\n",
    "    # We create the batches for x using all time series (8) between t and t+n_steps    \n",
    "    # We create the batches for y using only one time series between t+1 and t+n_steps+1\n",
    "    \n",
    "    for k in np.arange(batch_size):\n",
    "        lmat = []\n",
    "        for j in np.arange(n_steps+1):\n",
    "            lmat.append(df_base.iloc[starting_points[k]+j,2:].as_matrix())  \n",
    "            mat = np.array(lmat)\n",
    "        # The x values include all columns (mat[:n_steps,:]), these are ([ISE.1,SP,DAX,FTSE,NIKKEI,BOVESPA,EU,EM])\n",
    "        # and TS values in mat between 0 and n_steps\n",
    "        x[k,:,:] = mat[:n_steps,1:]\n",
    "        \n",
    "        # The y values include only column 0 (mat[1:n_steps+1,0]), this is ([ISE.1]) \n",
    "        # and TS values in mat between 1 and n_steps+1\n",
    "        y[k,:,0] = mat[1:n_steps+1,0]\n",
    "   \n",
    "\n",
    "    return x,y\n",
    "\n"
   ]
  },
  {
   "cell_type": "markdown",
   "metadata": {},
   "source": [
    "Below is the cell that comprises the definition of the RNN and its input parameters. You should modify this part to answer the questions of the exercise."
   ]
  },
  {
   "cell_type": "code",
   "execution_count": null,
   "metadata": {},
   "outputs": [],
   "source": []
  },
  {
   "cell_type": "code",
   "execution_count": 31,
   "metadata": {},
   "outputs": [
    {
     "name": "stderr",
     "output_type": "stream",
     "text": [
      "/usr/local/lib/python3.6/dist-packages/ipykernel_launcher.py:26: FutureWarning: Method .as_matrix will be removed in a future version. Use .values instead.\n"
     ]
    },
    {
     "name": "stdout",
     "output_type": "stream",
     "text": [
      "0 \tBasic MSE: 0.00050212565\n"
     ]
    }
   ],
   "source": [
    "# The computation graph is initialized\n",
    "reset_graph()\n",
    "\n",
    "# n_steps is the size of the contiguous sequence that is taken from the TS\n",
    "# it coincides with the number of time steps for the RNN\n",
    "n_steps = 50\n",
    "\n",
    "# An RNN can take as inputs multiple input sequences (e.g, a matrix of n_seq x n_steps)\n",
    "n_inputs = 7\n",
    "\n",
    "# There is one layer of 60 recurrent neurons together\n",
    "n_neurons = 60\n",
    "\n",
    "# The ouput will be a single sequence\n",
    "n_outputs = 1\n",
    "\n",
    "# Notice the way the input and output are defined according to n_steps\n",
    "X = tf.placeholder(tf.float32, [None, n_steps, n_inputs])\n",
    "y = tf.placeholder(tf.float32, [None, n_steps, n_outputs])\n",
    "\n",
    "\n",
    "basic = tf.contrib.rnn.OutputProjectionWrapper(\n",
    "    tf.contrib.rnn.BasicRNNCell(num_units=n_neurons, activation=tf.nn.relu),\n",
    "    output_size=n_outputs)\n",
    "\n",
    "\n",
    "basic_outputs, basic_states = tf.nn.dynamic_rnn(basic, X, dtype=tf.float32)\n",
    "\n",
    "# Learning rate used by the gradient optimizer (ADAM)\n",
    "learning_rate = 0.001\n",
    "\n",
    "# The loss function is the Minimum Square Error between the predicted\n",
    "# TS and the target TS\n",
    "loss_basic = tf.reduce_mean(tf.square(basic_outputs - y)) # MSE\n",
    "\n",
    "# Optimizer is ADAM\n",
    "optimizer = tf.train.AdamOptimizer(learning_rate=learning_rate)\n",
    "\n",
    "# We will minimize the MSE\n",
    "training_basic = optimizer.minimize(loss_basic)\n",
    "\n",
    "\n",
    "# Tensorflow variables are initialized\n",
    "init = tf.global_variables_initializer()\n",
    "saver = tf.train.Saver()\n",
    "\n",
    "\n",
    "n_iterations = 500\n",
    "batch_size = 50\n",
    "printing_gap = 50\n",
    "\n",
    "with  tf.Session(config=config) as sess:\n",
    "    init.run()\n",
    "    for iteration in range(n_iterations):\n",
    "        X_batch, y_batch = next_stock_batch(batch_size, n_steps, df_train)\n",
    "        \n",
    "        sess.run(training_basic, feed_dict={X: X_batch, y: y_batch})\n",
    "\n",
    "        if iteration % printing_gap == 0:\n",
    "            mse = loss_basic.eval(feed_dict={X: X_batch, y: y_batch})\n",
    "            print(iteration, \"\\tBasic MSE:\", mse)\n",
    "\n",
    "    \n",
    "    saver.save(sess, \"./istambul_model\")\n",
    "\n",
    "\n"
   ]
  },
  {
   "cell_type": "code",
   "execution_count": null,
   "metadata": {},
   "outputs": [],
   "source": []
  },
  {
   "cell_type": "code",
   "execution_count": 33,
   "metadata": {},
   "outputs": [
    {
     "name": "stdout",
     "output_type": "stream",
     "text": [
      "INFO:tensorflow:Restoring parameters from ./istambul_model\n"
     ]
    },
    {
     "name": "stderr",
     "output_type": "stream",
     "text": [
      "/usr/local/lib/python3.6/dist-packages/ipykernel_launcher.py:26: FutureWarning: Method .as_matrix will be removed in a future version. Use .values instead.\n"
     ]
    }
   ],
   "source": [
    "# Making prediction for the train dataset (df_train)\n",
    "\n",
    "with  tf.Session(config=config) as sess:\n",
    "    # The session that we saved is restored\n",
    "    saver.restore(sess, \"./istambul_model\")  \n",
    "    # A segment of points is taken from the TS\n",
    "    X_new, y_new = next_stock_batch(1, n_steps, df_train)\n",
    "   \n",
    "    # Predictions are made\n",
    "    y_pred = sess.run(basic_outputs, feed_dict={X: X_new})"
   ]
  },
  {
   "cell_type": "code",
   "execution_count": null,
   "metadata": {},
   "outputs": [],
   "source": []
  },
  {
   "cell_type": "markdown",
   "metadata": {},
   "source": [
    "We plot the predictions"
   ]
  },
  {
   "cell_type": "code",
   "execution_count": 34,
   "metadata": {},
   "outputs": [
    {
     "name": "stdout",
     "output_type": "stream",
     "text": [
      "(1, 50, 1) (1, 50, 1)\n"
     ]
    },
    {
     "data": {
      "text/plain": [
       "<matplotlib.legend.Legend at 0x7f07047d6400>"
      ]
     },
     "execution_count": 34,
     "metadata": {},
     "output_type": "execute_result"
    },
    {
     "data": {
      "image/png": "[encoded data removed]",
      "text/plain": [
       "<Figure size 792x288 with 2 Axes>"
      ]
     },
     "metadata": {
      "needs_background": "light"
     },
     "output_type": "display_data"
    }
   ],
   "source": [
    "print(y_pred.shape,y_new.shape)\n",
    "\n",
    "\n",
    "plt.figure(figsize=(11,4))\n",
    "plt.subplot(121)\n",
    "plt.plot(y_pred.reshape(n_steps),y_new.reshape(n_steps),'.')\n",
    "plt.xlabel(\"Target value in train\")\n",
    "plt.ylabel(\"Predicted value for train\")\n",
    "\n",
    "plt.subplot(122)\n",
    "plt.plot(y_pred.reshape(n_steps), label=\"prediction for train\")\n",
    "plt.plot(y_new.reshape(n_steps), label=\"target in train\")\n",
    "plt.xlabel(\" Time \")\n",
    "plt.ylabel(\"Stock return\")\n",
    "plt.legend(loc=\"upper left\")\n",
    "\n"
   ]
  },
  {
   "cell_type": "markdown",
   "metadata": {},
   "source": [
    "We compute the predictions for the test data"
   ]
  },
  {
   "cell_type": "code",
   "execution_count": null,
   "metadata": {},
   "outputs": [],
   "source": []
  },
  {
   "cell_type": "markdown",
   "metadata": {},
   "source": [
    "## Solving the MNIST classification problem using an RNN"
   ]
  },
  {
   "cell_type": "markdown",
   "metadata": {
    "collapsed": true
   },
   "source": [
    "The next two examples show how to solve the MNIST problem using an RNN and a \"deep\" RNN of only 3 layers. For the classification problem the idea here is to treat each image as a sequence of 28 rows of 28 pixels each. Therefore the number of steps for the RNN is 28. In each step it uses the current row of the image and the output of the RNN in the previous step to make its prediction. However, in terms of the solution quality, we are only interested in the final prediction of the network (what digit the image represents)."
   ]
  },
  {
   "cell_type": "markdown",
   "metadata": {},
   "source": [
    "Reading the MNIST dataset"
   ]
  },
  {
   "cell_type": "code",
   "execution_count": 35,
   "metadata": {},
   "outputs": [],
   "source": [
    "def Read_And_Normalize_Image_Dataset(db_name='mnist', max_train_samples = 10000,max_test_samples = 10000):\n",
    "\n",
    "    if db_name=='mnist':\n",
    "        (x_train, y_train), (x_test, y_test) = mnist.load_data()               \n",
    "    elif db_name=='fashion':\n",
    "        (x_train, y_train), (x_test, y_test) = fashion_mnist.load_data()        \n",
    "        \n",
    "    #print(x_train.shape,y_train.shape)\n",
    "    #print(x_test.shape,y_test.shape)\n",
    "\n",
    "        \n",
    "    x_train = x_train.astype('float32') / 255.\n",
    "    x_test = x_test.astype('float32') / 255.\n",
    "    \n",
    "    #x_train = np.expand_dims(x_train, axis=3)\n",
    "    #x_test = np.expand_dims(x_test, axis=3)\n",
    "    #x_train = x_train.reshape((len(x_train), 28*28))\n",
    "    #x_test = x_test.reshape((len(x_test), 28*28))\n",
    "\n",
    "    return (x_train, y_train), (x_test, y_test) \n"
   ]
  },
  {
   "cell_type": "code",
   "execution_count": 36,
   "metadata": {},
   "outputs": [
    {
     "data": {
      "image/png": "[encoded data removed]",
      "text/plain": [
       "<Figure size 432x288 with 1 Axes>"
      ]
     },
     "metadata": {
      "needs_background": "light"
     },
     "output_type": "display_data"
    }
   ],
   "source": [
    "(X_train, y_train), (X_test, y_test) = Read_And_Normalize_Image_Dataset(\"mnist\")\n",
    "\n",
    "\n",
    "# This line is to test you have downloaded the right dataset\n",
    "plot_image(X_train[1,:])"
   ]
  },
  {
   "cell_type": "markdown",
   "metadata": {},
   "source": [
    "### Single-layer RNN"
   ]
  },
  {
   "cell_type": "markdown",
   "metadata": {},
   "source": [
    "The parameters and the architecture of the one-layer are defined. Pay attention to the size of the inputs and the type of loss function used. "
   ]
  },
  {
   "cell_type": "code",
   "execution_count": 37,
   "metadata": {},
   "outputs": [],
   "source": [
    "reset_graph()\n",
    "\n",
    "n_steps = 28\n",
    "n_inputs = 28\n",
    "n_neurons = 150\n",
    "n_outputs = 10\n",
    "\n",
    "\n",
    "learning_rate = 0.001\n",
    "\n",
    "\n",
    "X = tf.placeholder(tf.float32, [None, n_steps, n_inputs])\n",
    "y = tf.placeholder(tf.int32, [None])\n",
    "\n",
    "basic_cell = tf.contrib.rnn.BasicRNNCell(num_units=n_neurons)\n",
    "outputs, states = tf.nn.dynamic_rnn(basic_cell, X, dtype=tf.float32)\n",
    "\n",
    "# The last layer will be a dense layer\n",
    "logits = tf.layers.dense(states, n_outputs)\n",
    "\n",
    "# softmax cross-entropy is the loss function to optimize\n",
    "xentropy = tf.nn.sparse_softmax_cross_entropy_with_logits(labels=y,\n",
    "                                                          logits=logits)\n",
    "loss = tf.reduce_mean(xentropy)\n",
    "\n",
    "optimizer = tf.train.AdamOptimizer(learning_rate=learning_rate)\n",
    "training_op = optimizer.minimize(loss)\n",
    "\n",
    "# A classification is correct if the most probable class corresponds\n",
    "# with the true class\n",
    "correct = tf.nn.in_top_k(logits, y, 1)\n",
    "accuracy = tf.reduce_mean(tf.cast(correct, tf.float32))\n",
    "\n",
    "init = tf.global_variables_initializer()"
   ]
  },
  {
   "cell_type": "markdown",
   "metadata": {
    "collapsed": true
   },
   "source": [
    "The network is trained. "
   ]
  },
  {
   "cell_type": "code",
   "execution_count": 38,
   "metadata": {},
   "outputs": [
    {
     "name": "stdout",
     "output_type": "stream",
     "text": [
      "0 Train accuracy: 0.9533333 Test accuracy: 0.9373\n",
      "1 Train accuracy: 0.96 Test accuracy: 0.9408\n",
      "2 Train accuracy: 0.9533333 Test accuracy: 0.9562\n",
      "3 Train accuracy: 0.96 Test accuracy: 0.9651\n",
      "4 Train accuracy: 0.98 Test accuracy: 0.9672\n",
      "5 Train accuracy: 0.96666664 Test accuracy: 0.9607\n",
      "6 Train accuracy: 0.99333334 Test accuracy: 0.9725\n",
      "7 Train accuracy: 0.9866667 Test accuracy: 0.9641\n",
      "8 Train accuracy: 0.96666664 Test accuracy: 0.9686\n",
      "9 Train accuracy: 0.9866667 Test accuracy: 0.9708\n",
      "10 Train accuracy: 0.9866667 Test accuracy: 0.9732\n",
      "11 Train accuracy: 0.98 Test accuracy: 0.9679\n",
      "12 Train accuracy: 0.96 Test accuracy: 0.9705\n",
      "13 Train accuracy: 0.96666664 Test accuracy: 0.9763\n",
      "14 Train accuracy: 1.0 Test accuracy: 0.9745\n"
     ]
    }
   ],
   "source": [
    "n_epochs = 15\n",
    "batch_size = 150\n",
    "\n",
    "with  tf.Session(config=config) as sess:\n",
    "    init.run()\n",
    "    for epoch in range(n_epochs):\n",
    "        for iteration in range(X_train.shape[0] // batch_size):\n",
    "            random_batch = np.random.randint(0, X_train.shape[0], size=batch_size)\n",
    "            X_batch, y_batch = X_train[random_batch, :], y_train[random_batch]\n",
    "            X_batch = X_batch.reshape((-1, n_steps, n_inputs))\n",
    "            sess.run(training_op, feed_dict={X: X_batch, y: y_batch})\n",
    "        acc_train = accuracy.eval(feed_dict={X: X_batch, y: y_batch})\n",
    "\n",
    "        acc_test = accuracy.eval(feed_dict={X: X_test, y: y_test})\n",
    "        print(epoch, \"Train accuracy:\", acc_train, \"Test accuracy:\", acc_test)\n",
    "\n"
   ]
  },
  {
   "cell_type": "code",
   "execution_count": null,
   "metadata": {},
   "outputs": [],
   "source": []
  },
  {
   "cell_type": "markdown",
   "metadata": {},
   "source": [
    "### Three-layer RNN \n",
    "\n",
    "See how the architecture of the RNN is created."
   ]
  },
  {
   "cell_type": "code",
   "execution_count": 39,
   "metadata": {},
   "outputs": [
    {
     "name": "stdout",
     "output_type": "stream",
     "text": [
      "WARNING:tensorflow:From <ipython-input-39-93d0baca1c97>:19: BasicLSTMCell.__init__ (from tensorflow.python.ops.rnn_cell_impl) is deprecated and will be removed in a future version.\n",
      "Instructions for updating:\n",
      "This class is deprecated, please use tf.nn.rnn_cell.LSTMCell, which supports all the feature this cell currently has. Please replace the existing code with tf.nn.rnn_cell.LSTMCell(name='basic_lstm_cell').\n"
     ]
    },
    {
     "name": "stderr",
     "output_type": "stream",
     "text": [
      "/usr/local/lib/python3.6/dist-packages/tensorflow/python/ops/gradients_impl.py:112: UserWarning: Converting sparse IndexedSlices to a dense Tensor of unknown shape. This may consume a large amount of memory.\n",
      "  \"Converting sparse IndexedSlices to a dense Tensor of unknown shape. \"\n"
     ]
    }
   ],
   "source": [
    "reset_graph()\n",
    "\n",
    "\n",
    "n_steps = 28\n",
    "n_inputs = 28\n",
    "n_neurons_1 = 50\n",
    "n_neurons = 30\n",
    "\n",
    "n_outputs = 10\n",
    "\n",
    "\n",
    "learning_rate = 0.001\n",
    "\n",
    "\n",
    "X = tf.placeholder(tf.float32, [None, n_steps, n_inputs])\n",
    "y = tf.placeholder(tf.int32, [None])\n",
    "\n",
    "# We define RNN cells of two different classes\n",
    "rnn_cell1 = tf.contrib.rnn.BasicLSTMCell(num_units=n_neurons_1)\n",
    "\n",
    "# The cells are stacked within the RNN\n",
    "stack_rnn = [rnn_cell1]\n",
    "for i in range(1, 3):\n",
    "    stack_rnn.append(tf.contrib.rnn.BasicLSTMCell(num_units=n_neurons))\n",
    "multi_layer_cell = tf.contrib.rnn.MultiRNNCell(stack_rnn, state_is_tuple = True)\n",
    "\n",
    "outputs, states = tf.nn.dynamic_rnn(multi_layer_cell, X, dtype=tf.float32)\n",
    "\n",
    "# We need to transpose the outputs of the network because we are only interested\n",
    "# in the output of the last row. After transpose  the time axis is first\n",
    "outputs = tf.transpose(outputs, [1, 0, 2])\n",
    "\n",
    "# tf.gather() is used for selecting the last frame.\n",
    "last = tf.gather(outputs, int(outputs.get_shape()[0]) - 1)\n",
    "\n",
    "# The last layer will be a dense layer connecting all the last outputs\n",
    "# with a layer of the ten possible outputs we are interested in\n",
    "logits = tf.layers.dense(last, n_outputs)\n",
    "\n",
    "# softmax cross-entropy is the loss function to optimize\n",
    "xentropy = tf.nn.sparse_softmax_cross_entropy_with_logits(labels=y,\n",
    "                                                          logits=logits)\n",
    "loss = tf.reduce_mean(xentropy)\n",
    "\n",
    "optimizer = tf.train.AdamOptimizer(learning_rate=learning_rate)\n",
    "training_op = optimizer.minimize(loss)\n",
    "\n",
    "# A classification is correct if the most probable class corresponds\n",
    "# with the true class\n",
    "correct = tf.nn.in_top_k(logits, y, 1)\n",
    "accuracy = tf.reduce_mean(tf.cast(correct, tf.float32))\n",
    "\n",
    "init = tf.global_variables_initializer()"
   ]
  },
  {
   "cell_type": "code",
   "execution_count": 40,
   "metadata": {},
   "outputs": [
    {
     "name": "stdout",
     "output_type": "stream",
     "text": [
      "0 Train accuracy: 0.93333334 Test accuracy: 0.9233\n",
      "1 Train accuracy: 0.96666664 Test accuracy: 0.9478\n",
      "2 Train accuracy: 0.96666664 Test accuracy: 0.9606\n",
      "3 Train accuracy: 0.96 Test accuracy: 0.9694\n"
     ]
    },
    {
     "ename": "KeyboardInterrupt",
     "evalue": "",
     "output_type": "error",
     "traceback": [
      "\u001b[0;31m---------------------------------------------------------------------------\u001b[0m",
      "\u001b[0;31mKeyboardInterrupt\u001b[0m                         Traceback (most recent call last)",
      "\u001b[0;32m<ipython-input-40-7e4609df3c00>\u001b[0m in \u001b[0;36m<module>\u001b[0;34m\u001b[0m\n\u001b[1;32m     12\u001b[0m         \u001b[0macc_train\u001b[0m \u001b[0;34m=\u001b[0m \u001b[0maccuracy\u001b[0m\u001b[0;34m.\u001b[0m\u001b[0meval\u001b[0m\u001b[0;34m(\u001b[0m\u001b[0mfeed_dict\u001b[0m\u001b[0;34m=\u001b[0m\u001b[0;34m{\u001b[0m\u001b[0mX\u001b[0m\u001b[0;34m:\u001b[0m \u001b[0mX_batch\u001b[0m\u001b[0;34m,\u001b[0m \u001b[0my\u001b[0m\u001b[0;34m:\u001b[0m \u001b[0my_batch\u001b[0m\u001b[0;34m}\u001b[0m\u001b[0;34m)\u001b[0m\u001b[0;34m\u001b[0m\u001b[0m\n\u001b[1;32m     13\u001b[0m \u001b[0;34m\u001b[0m\u001b[0m\n\u001b[0;32m---> 14\u001b[0;31m         \u001b[0macc_test\u001b[0m \u001b[0;34m=\u001b[0m \u001b[0maccuracy\u001b[0m\u001b[0;34m.\u001b[0m\u001b[0meval\u001b[0m\u001b[0;34m(\u001b[0m\u001b[0mfeed_dict\u001b[0m\u001b[0;34m=\u001b[0m\u001b[0;34m{\u001b[0m\u001b[0mX\u001b[0m\u001b[0;34m:\u001b[0m \u001b[0mX_test\u001b[0m\u001b[0;34m,\u001b[0m \u001b[0my\u001b[0m\u001b[0;34m:\u001b[0m \u001b[0my_test\u001b[0m\u001b[0;34m}\u001b[0m\u001b[0;34m)\u001b[0m\u001b[0;34m\u001b[0m\u001b[0m\n\u001b[0m\u001b[1;32m     15\u001b[0m         \u001b[0mprint\u001b[0m\u001b[0;34m(\u001b[0m\u001b[0mepoch\u001b[0m\u001b[0;34m,\u001b[0m \u001b[0;34m\"Train accuracy:\"\u001b[0m\u001b[0;34m,\u001b[0m \u001b[0macc_train\u001b[0m\u001b[0;34m,\u001b[0m \u001b[0;34m\"Test accuracy:\"\u001b[0m\u001b[0;34m,\u001b[0m \u001b[0macc_test\u001b[0m\u001b[0;34m)\u001b[0m\u001b[0;34m\u001b[0m\u001b[0m\n\u001b[1;32m     16\u001b[0m \u001b[0;34m\u001b[0m\u001b[0m\n",
      "\u001b[0;32m/usr/local/lib/python3.6/dist-packages/tensorflow/python/framework/ops.py\u001b[0m in \u001b[0;36meval\u001b[0;34m(self, feed_dict, session)\u001b[0m\n\u001b[1;32m    711\u001b[0m \u001b[0;34m\u001b[0m\u001b[0m\n\u001b[1;32m    712\u001b[0m     \"\"\"\n\u001b[0;32m--> 713\u001b[0;31m     \u001b[0;32mreturn\u001b[0m \u001b[0m_eval_using_default_session\u001b[0m\u001b[0;34m(\u001b[0m\u001b[0mself\u001b[0m\u001b[0;34m,\u001b[0m \u001b[0mfeed_dict\u001b[0m\u001b[0;34m,\u001b[0m \u001b[0mself\u001b[0m\u001b[0;34m.\u001b[0m\u001b[0mgraph\u001b[0m\u001b[0;34m,\u001b[0m \u001b[0msession\u001b[0m\u001b[0;34m)\u001b[0m\u001b[0;34m\u001b[0m\u001b[0m\n\u001b[0m\u001b[1;32m    714\u001b[0m \u001b[0;34m\u001b[0m\u001b[0m\n\u001b[1;32m    715\u001b[0m \u001b[0;34m\u001b[0m\u001b[0m\n",
      "\u001b[0;32m/usr/local/lib/python3.6/dist-packages/tensorflow/python/framework/ops.py\u001b[0m in \u001b[0;36m_eval_using_default_session\u001b[0;34m(tensors, feed_dict, graph, session)\u001b[0m\n\u001b[1;32m   5155\u001b[0m                        \u001b[0;34m\"the tensor's graph is different from the session's \"\u001b[0m\u001b[0;34m\u001b[0m\u001b[0m\n\u001b[1;32m   5156\u001b[0m                        \"graph.\")\n\u001b[0;32m-> 5157\u001b[0;31m   \u001b[0;32mreturn\u001b[0m \u001b[0msession\u001b[0m\u001b[0;34m.\u001b[0m\u001b[0mrun\u001b[0m\u001b[0;34m(\u001b[0m\u001b[0mtensors\u001b[0m\u001b[0;34m,\u001b[0m \u001b[0mfeed_dict\u001b[0m\u001b[0;34m)\u001b[0m\u001b[0;34m\u001b[0m\u001b[0m\n\u001b[0m\u001b[1;32m   5158\u001b[0m \u001b[0;34m\u001b[0m\u001b[0m\n\u001b[1;32m   5159\u001b[0m \u001b[0;34m\u001b[0m\u001b[0m\n",
      "\u001b[0;32m/usr/local/lib/python3.6/dist-packages/tensorflow/python/client/session.py\u001b[0m in \u001b[0;36mrun\u001b[0;34m(self, fetches, feed_dict, options, run_metadata)\u001b[0m\n\u001b[1;32m    927\u001b[0m     \u001b[0;32mtry\u001b[0m\u001b[0;34m:\u001b[0m\u001b[0;34m\u001b[0m\u001b[0m\n\u001b[1;32m    928\u001b[0m       result = self._run(None, fetches, feed_dict, options_ptr,\n\u001b[0;32m--> 929\u001b[0;31m                          run_metadata_ptr)\n\u001b[0m\u001b[1;32m    930\u001b[0m       \u001b[0;32mif\u001b[0m \u001b[0mrun_metadata\u001b[0m\u001b[0;34m:\u001b[0m\u001b[0;34m\u001b[0m\u001b[0m\n\u001b[1;32m    931\u001b[0m         \u001b[0mproto_data\u001b[0m \u001b[0;34m=\u001b[0m \u001b[0mtf_session\u001b[0m\u001b[0;34m.\u001b[0m\u001b[0mTF_GetBuffer\u001b[0m\u001b[0;34m(\u001b[0m\u001b[0mrun_metadata_ptr\u001b[0m\u001b[0;34m)\u001b[0m\u001b[0;34m\u001b[0m\u001b[0m\n",
      "\u001b[0;32m/usr/local/lib/python3.6/dist-packages/tensorflow/python/client/session.py\u001b[0m in \u001b[0;36m_run\u001b[0;34m(self, handle, fetches, feed_dict, options, run_metadata)\u001b[0m\n\u001b[1;32m   1150\u001b[0m     \u001b[0;32mif\u001b[0m \u001b[0mfinal_fetches\u001b[0m \u001b[0;32mor\u001b[0m \u001b[0mfinal_targets\u001b[0m \u001b[0;32mor\u001b[0m \u001b[0;34m(\u001b[0m\u001b[0mhandle\u001b[0m \u001b[0;32mand\u001b[0m \u001b[0mfeed_dict_tensor\u001b[0m\u001b[0;34m)\u001b[0m\u001b[0;34m:\u001b[0m\u001b[0;34m\u001b[0m\u001b[0m\n\u001b[1;32m   1151\u001b[0m       results = self._do_run(handle, final_targets, final_fetches,\n\u001b[0;32m-> 1152\u001b[0;31m                              feed_dict_tensor, options, run_metadata)\n\u001b[0m\u001b[1;32m   1153\u001b[0m     \u001b[0;32melse\u001b[0m\u001b[0;34m:\u001b[0m\u001b[0;34m\u001b[0m\u001b[0m\n\u001b[1;32m   1154\u001b[0m       \u001b[0mresults\u001b[0m \u001b[0;34m=\u001b[0m \u001b[0;34m[\u001b[0m\u001b[0;34m]\u001b[0m\u001b[0;34m\u001b[0m\u001b[0m\n",
      "\u001b[0;32m/usr/local/lib/python3.6/dist-packages/tensorflow/python/client/session.py\u001b[0m in \u001b[0;36m_do_run\u001b[0;34m(self, handle, target_list, fetch_list, feed_dict, options, run_metadata)\u001b[0m\n\u001b[1;32m   1326\u001b[0m     \u001b[0;32mif\u001b[0m \u001b[0mhandle\u001b[0m \u001b[0;32mis\u001b[0m \u001b[0;32mNone\u001b[0m\u001b[0;34m:\u001b[0m\u001b[0;34m\u001b[0m\u001b[0m\n\u001b[1;32m   1327\u001b[0m       return self._do_call(_run_fn, feeds, fetches, targets, options,\n\u001b[0;32m-> 1328\u001b[0;31m                            run_metadata)\n\u001b[0m\u001b[1;32m   1329\u001b[0m     \u001b[0;32melse\u001b[0m\u001b[0;34m:\u001b[0m\u001b[0;34m\u001b[0m\u001b[0m\n\u001b[1;32m   1330\u001b[0m       \u001b[0;32mreturn\u001b[0m \u001b[0mself\u001b[0m\u001b[0;34m.\u001b[0m\u001b[0m_do_call\u001b[0m\u001b[0;34m(\u001b[0m\u001b[0m_prun_fn\u001b[0m\u001b[0;34m,\u001b[0m \u001b[0mhandle\u001b[0m\u001b[0;34m,\u001b[0m \u001b[0mfeeds\u001b[0m\u001b[0;34m,\u001b[0m \u001b[0mfetches\u001b[0m\u001b[0;34m)\u001b[0m\u001b[0;34m\u001b[0m\u001b[0m\n",
      "\u001b[0;32m/usr/local/lib/python3.6/dist-packages/tensorflow/python/client/session.py\u001b[0m in \u001b[0;36m_do_call\u001b[0;34m(self, fn, *args)\u001b[0m\n\u001b[1;32m   1332\u001b[0m   \u001b[0;32mdef\u001b[0m \u001b[0m_do_call\u001b[0m\u001b[0;34m(\u001b[0m\u001b[0mself\u001b[0m\u001b[0;34m,\u001b[0m \u001b[0mfn\u001b[0m\u001b[0;34m,\u001b[0m \u001b[0;34m*\u001b[0m\u001b[0margs\u001b[0m\u001b[0;34m)\u001b[0m\u001b[0;34m:\u001b[0m\u001b[0;34m\u001b[0m\u001b[0m\n\u001b[1;32m   1333\u001b[0m     \u001b[0;32mtry\u001b[0m\u001b[0;34m:\u001b[0m\u001b[0;34m\u001b[0m\u001b[0m\n\u001b[0;32m-> 1334\u001b[0;31m       \u001b[0;32mreturn\u001b[0m \u001b[0mfn\u001b[0m\u001b[0;34m(\u001b[0m\u001b[0;34m*\u001b[0m\u001b[0margs\u001b[0m\u001b[0;34m)\u001b[0m\u001b[0;34m\u001b[0m\u001b[0m\n\u001b[0m\u001b[1;32m   1335\u001b[0m     \u001b[0;32mexcept\u001b[0m \u001b[0merrors\u001b[0m\u001b[0;34m.\u001b[0m\u001b[0mOpError\u001b[0m \u001b[0;32mas\u001b[0m \u001b[0me\u001b[0m\u001b[0;34m:\u001b[0m\u001b[0;34m\u001b[0m\u001b[0m\n\u001b[1;32m   1336\u001b[0m       \u001b[0mmessage\u001b[0m \u001b[0;34m=\u001b[0m \u001b[0mcompat\u001b[0m\u001b[0;34m.\u001b[0m\u001b[0mas_text\u001b[0m\u001b[0;34m(\u001b[0m\u001b[0me\u001b[0m\u001b[0;34m.\u001b[0m\u001b[0mmessage\u001b[0m\u001b[0;34m)\u001b[0m\u001b[0;34m\u001b[0m\u001b[0m\n",
      "\u001b[0;32m/usr/local/lib/python3.6/dist-packages/tensorflow/python/client/session.py\u001b[0m in \u001b[0;36m_run_fn\u001b[0;34m(feed_dict, fetch_list, target_list, options, run_metadata)\u001b[0m\n\u001b[1;32m   1317\u001b[0m       \u001b[0mself\u001b[0m\u001b[0;34m.\u001b[0m\u001b[0m_extend_graph\u001b[0m\u001b[0;34m(\u001b[0m\u001b[0;34m)\u001b[0m\u001b[0;34m\u001b[0m\u001b[0m\n\u001b[1;32m   1318\u001b[0m       return self._call_tf_sessionrun(\n\u001b[0;32m-> 1319\u001b[0;31m           options, feed_dict, fetch_list, target_list, run_metadata)\n\u001b[0m\u001b[1;32m   1320\u001b[0m \u001b[0;34m\u001b[0m\u001b[0m\n\u001b[1;32m   1321\u001b[0m     \u001b[0;32mdef\u001b[0m \u001b[0m_prun_fn\u001b[0m\u001b[0;34m(\u001b[0m\u001b[0mhandle\u001b[0m\u001b[0;34m,\u001b[0m \u001b[0mfeed_dict\u001b[0m\u001b[0;34m,\u001b[0m \u001b[0mfetch_list\u001b[0m\u001b[0;34m)\u001b[0m\u001b[0;34m:\u001b[0m\u001b[0;34m\u001b[0m\u001b[0m\n",
      "\u001b[0;32m/usr/local/lib/python3.6/dist-packages/tensorflow/python/client/session.py\u001b[0m in \u001b[0;36m_call_tf_sessionrun\u001b[0;34m(self, options, feed_dict, fetch_list, target_list, run_metadata)\u001b[0m\n\u001b[1;32m   1405\u001b[0m     return tf_session.TF_SessionRun_wrapper(\n\u001b[1;32m   1406\u001b[0m         \u001b[0mself\u001b[0m\u001b[0;34m.\u001b[0m\u001b[0m_session\u001b[0m\u001b[0;34m,\u001b[0m \u001b[0moptions\u001b[0m\u001b[0;34m,\u001b[0m \u001b[0mfeed_dict\u001b[0m\u001b[0;34m,\u001b[0m \u001b[0mfetch_list\u001b[0m\u001b[0;34m,\u001b[0m \u001b[0mtarget_list\u001b[0m\u001b[0;34m,\u001b[0m\u001b[0;34m\u001b[0m\u001b[0m\n\u001b[0;32m-> 1407\u001b[0;31m         run_metadata)\n\u001b[0m\u001b[1;32m   1408\u001b[0m \u001b[0;34m\u001b[0m\u001b[0m\n\u001b[1;32m   1409\u001b[0m   \u001b[0;32mdef\u001b[0m \u001b[0m_call_tf_sessionprun\u001b[0m\u001b[0;34m(\u001b[0m\u001b[0mself\u001b[0m\u001b[0;34m,\u001b[0m \u001b[0mhandle\u001b[0m\u001b[0;34m,\u001b[0m \u001b[0mfeed_dict\u001b[0m\u001b[0;34m,\u001b[0m \u001b[0mfetch_list\u001b[0m\u001b[0;34m)\u001b[0m\u001b[0;34m:\u001b[0m\u001b[0;34m\u001b[0m\u001b[0m\n",
      "\u001b[0;31mKeyboardInterrupt\u001b[0m: "
     ]
    }
   ],
   "source": [
    "n_epochs = 15\n",
    "batch_size = 150\n",
    "\n",
    "with  tf.Session(config=config) as sess:\n",
    "    init.run()\n",
    "    for epoch in range(n_epochs):\n",
    "        for iteration in range(X_train.shape[0] // batch_size):\n",
    "            random_batch = np.random.randint(0, X_train.shape[0], size=batch_size)\n",
    "            X_batch, y_batch = X_train[random_batch, :], y_train[random_batch]\n",
    "            X_batch = X_batch.reshape((-1, n_steps, n_inputs))\n",
    "            sess.run(training_op, feed_dict={X: X_batch, y: y_batch})\n",
    "        acc_train = accuracy.eval(feed_dict={X: X_batch, y: y_batch})\n",
    "\n",
    "        acc_test = accuracy.eval(feed_dict={X: X_test, y: y_test})\n",
    "        print(epoch, \"Train accuracy:\", acc_train, \"Test accuracy:\", acc_test)\n",
    "\n"
   ]
  },
  {
   "cell_type": "code",
   "execution_count": null,
   "metadata": {},
   "outputs": [],
   "source": []
  },
  {
   "cell_type": "markdown",
   "metadata": {
    "collapsed": true
   },
   "source": [
    "## Exercise 2\n",
    "\n",
    "1. Create a multi-layer RNN of 5 layers (25,40,40,40,25) with GRU cells that learns to classify the fashion dataset.\n",
    "2. Modify the network to consider a classification as correct if it is within the 3 most probable outputs of the network.\n",
    "3. Create a new RNN network that classifies the join dataset of MNIST and fashion data.\n",
    "\n"
   ]
  },
  {
   "cell_type": "code",
   "execution_count": null,
   "metadata": {},
   "outputs": [],
   "source": [
    "(X_train_fashion, y_train_fashion), (X_test_fashion, y_test_fashion) = Read_And_Normalize_Image_Dataset(\"fashion\")\n",
    "\n",
    "\n",
    "# This line is to test you have downloaded the right dataset\n",
    "plot_image(X_train_fashion[1,:])"
   ]
  },
  {
   "cell_type": "code",
   "execution_count": null,
   "metadata": {},
   "outputs": [],
   "source": []
  },
  {
   "cell_type": "code",
   "execution_count": null,
   "metadata": {},
   "outputs": [],
   "source": []
  },
  {
   "cell_type": "code",
   "execution_count": null,
   "metadata": {},
   "outputs": [],
   "source": []
  },
  {
   "cell_type": "markdown",
   "metadata": {},
   "source": [
    "## Stock prediction with RNNs in Keras\n",
    "\n",
    "In this example we build RNN architectures to predict the stock market in a period between 2003 and 2008. First, information about 56 stocks is downloaded. "
   ]
  },
  {
   "cell_type": "markdown",
   "metadata": {},
   "source": [
    "The stock data is downloaded"
   ]
  },
  {
   "cell_type": "code",
   "execution_count": 41,
   "metadata": {},
   "outputs": [
    {
     "name": "stderr",
     "output_type": "stream",
     "text": [
      "Fetching quote history for 'AAPL'\n",
      "Fetching quote history for 'AIG'\n",
      "Fetching quote history for 'AMZN'\n",
      "Fetching quote history for 'AXP'\n",
      "Fetching quote history for 'BA'\n",
      "Fetching quote history for 'BAC'\n",
      "Fetching quote history for 'CAJ'\n",
      "Fetching quote history for 'CAT'\n",
      "Fetching quote history for 'CL'\n",
      "Fetching quote history for 'CMCSA'\n",
      "Fetching quote history for 'COP'\n",
      "Fetching quote history for 'CSCO'\n",
      "Fetching quote history for 'CVC'\n",
      "Fetching quote history for 'CVS'\n",
      "Fetching quote history for 'CVX'\n",
      "Fetching quote history for 'DD'\n",
      "Fetching quote history for 'DELL'\n",
      "Fetching quote history for 'F'\n",
      "Fetching quote history for 'GD'\n",
      "Fetching quote history for 'GE'\n",
      "Fetching quote history for 'GS'\n",
      "Fetching quote history for 'GSK'\n",
      "Fetching quote history for 'HD'\n",
      "Fetching quote history for 'HMC'\n",
      "Fetching quote history for 'HPQ'\n",
      "Fetching quote history for 'IBM'\n",
      "Fetching quote history for 'JPM'\n",
      "Fetching quote history for 'K'\n",
      "Fetching quote history for 'KMB'\n",
      "Fetching quote history for 'KO'\n",
      "Fetching quote history for 'MAR'\n",
      "Fetching quote history for 'MCD'\n",
      "Fetching quote history for 'MMM'\n",
      "Fetching quote history for 'MSFT'\n",
      "Fetching quote history for 'NAV'\n",
      "Fetching quote history for 'NOC'\n",
      "Fetching quote history for 'NVS'\n",
      "Fetching quote history for 'PEP'\n",
      "Fetching quote history for 'PFE'\n",
      "Fetching quote history for 'PG'\n",
      "Fetching quote history for 'R'\n",
      "Fetching quote history for 'RTN'\n",
      "Fetching quote history for 'SAP'\n",
      "Fetching quote history for 'SNE'\n",
      "Fetching quote history for 'SNY'\n",
      "Fetching quote history for 'TM'\n",
      "Fetching quote history for 'TOT'\n",
      "Fetching quote history for 'TWX'\n",
      "Fetching quote history for 'TXN'\n",
      "Fetching quote history for 'UN'\n",
      "Fetching quote history for 'VLO'\n",
      "Fetching quote history for 'WFC'\n",
      "Fetching quote history for 'WMT'\n",
      "Fetching quote history for 'XOM'\n",
      "Fetching quote history for 'XRX'\n",
      "Fetching quote history for 'YHOO'\n"
     ]
    }
   ],
   "source": [
    "# #############################################################################\n",
    "# Retrieve the data from Internet\n",
    "\n",
    "# The data is from 2003 - 2008. This is reasonably calm: (not too long ago so\n",
    "# that we get high-tech firms, and before the 2008 crash). This kind of\n",
    "# historical data can be obtained for from APIs like the quandl.com and\n",
    "# alphavantage.co ones.\n",
    "#start_date = datetime(2003, 1, 1).date()\n",
    "#end_date = datetime(2008, 1, 1).date()\n",
    "\n",
    "symbol_dict = {\n",
    "    'TOT': 'Total',\n",
    "    'XOM': 'Exxon',\n",
    "    'CVX': 'Chevron',\n",
    "    'COP': 'ConocoPhillips',\n",
    "    'VLO': 'Valero Energy',\n",
    "    'MSFT': 'Microsoft',\n",
    "    'IBM': 'IBM',\n",
    "    'TWX': 'Time Warner',\n",
    "    'CMCSA': 'Comcast',\n",
    "    'CVC': 'Cablevision',\n",
    "    'YHOO': 'Yahoo',\n",
    "    'DELL': 'Dell',\n",
    "    'HPQ': 'HP',\n",
    "    'AMZN': 'Amazon',\n",
    "    'TM': 'Toyota',\n",
    "    'CAJ': 'Canon',\n",
    "    'SNE': 'Sony',\n",
    "    'F': 'Ford',\n",
    "    'HMC': 'Honda',\n",
    "    'NAV': 'Navistar',\n",
    "    'NOC': 'Northrop Grumman',\n",
    "    'BA': 'Boeing',\n",
    "    'KO': 'Coca Cola',\n",
    "    'MMM': '3M',\n",
    "    'MCD': 'McDonald\\'s',\n",
    "    'PEP': 'Pepsi',\n",
    "    'K': 'Kellogg',\n",
    "    'UN': 'Unilever',\n",
    "    'MAR': 'Marriott',\n",
    "    'PG': 'Procter Gamble',\n",
    "    'CL': 'Colgate-Palmolive',\n",
    "    'GE': 'General Electrics',\n",
    "    'WFC': 'Wells Fargo',\n",
    "    'JPM': 'JPMorgan Chase',\n",
    "    'AIG': 'AIG',\n",
    "    'AXP': 'American express',\n",
    "    'BAC': 'Bank of America',\n",
    "    'GS': 'Goldman Sachs',\n",
    "    'AAPL': 'Apple',\n",
    "    'SAP': 'SAP',\n",
    "    'CSCO': 'Cisco',\n",
    "    'TXN': 'Texas Instruments',\n",
    "    'XRX': 'Xerox',\n",
    "    'WMT': 'Wal-Mart',\n",
    "    'HD': 'Home Depot',\n",
    "    'GSK': 'GlaxoSmithKline',\n",
    "    'PFE': 'Pfizer',\n",
    "    'SNY': 'Sanofi-Aventis',\n",
    "    'NVS': 'Novartis',\n",
    "    'KMB': 'Kimberly-Clark',\n",
    "    'R': 'Ryder',\n",
    "    'GD': 'General Dynamics',\n",
    "    'RTN': 'Raytheon',\n",
    "    'CVS': 'CVS',\n",
    "    'CAT': 'Caterpillar',\n",
    "    'DD': 'DuPont de Nemours'}\n",
    "\n",
    "\n",
    "symbols, names = np.array(sorted(symbol_dict.items())).T\n",
    "\n",
    "quotes = []\n",
    "\n",
    "for symbol in symbols:\n",
    "    print('Fetching quote history for %r' % symbol, file=sys.stderr)\n",
    "    url = ('https://raw.githubusercontent.com/scikit-learn/examples-data/'\n",
    "           'master/financial-data/{}.csv')\n",
    "    data = list(csv.DictReader(l.decode('utf8')\n",
    "                               for l in urlopen(url.format(symbol))))\n",
    "    quotes.append({'close': [float(rec['close']) for rec in data],\n",
    "                   'open': [float(rec['open']) for rec in data]})\n",
    "\n",
    "close_prices = np.vstack([q['close'] for q in quotes])\n",
    "open_prices = np.vstack([q['open'] for q in quotes])\n",
    "\n",
    "# The daily variations of the quotes are what carry most information\n",
    "variation = close_prices - open_prices\n"
   ]
  },
  {
   "cell_type": "markdown",
   "metadata": {},
   "source": [
    "We visualize data for two of the time series, AAPL and AIG indices"
   ]
  },
  {
   "cell_type": "code",
   "execution_count": 42,
   "metadata": {},
   "outputs": [
    {
     "data": {
      "text/plain": [
       "Text(0,0.5,'Variation')"
      ]
     },
     "execution_count": 42,
     "metadata": {},
     "output_type": "execute_result"
    },
    {
     "data": {
      "image/png": "[encoded data removed]",
      "text/plain": [
       "<Figure size 792x288 with 2 Axes>"
      ]
     },
     "metadata": {
      "needs_background": "light"
     },
     "output_type": "display_data"
    }
   ],
   "source": [
    "period = np.arange(400,650)\n",
    "plt.figure(figsize=(11,4))\n",
    "plt.subplot(121)\n",
    "plt.title(\"Variation for AAPL index\", fontsize=14)\n",
    "plt.plot(variation[0,period],'b')\n",
    "#plt.plot(variation[1,:],'r.')\n",
    "plt.xlabel(\"Time\")\n",
    "plt.ylabel(\"Value\")\n",
    "\n",
    "plt.subplot(122)\n",
    "plt.title(\"Variation for AIG index\", fontsize=14)\n",
    "plt.plot(variation[1,period],'r-')\n",
    "plt.xlabel(\"Time\")\n",
    "plt.ylabel(\"Variation\")\n"
   ]
  },
  {
   "cell_type": "code",
   "execution_count": 43,
   "metadata": {},
   "outputs": [
    {
     "data": {
      "text/plain": [
       "(56, 1258)"
      ]
     },
     "execution_count": 43,
     "metadata": {},
     "output_type": "execute_result"
    }
   ],
   "source": [
    "variation.shape\n"
   ]
  },
  {
   "cell_type": "markdown",
   "metadata": {},
   "source": [
    "Auxiliary function to create batches for a single time-series"
   ]
  },
  {
   "cell_type": "code",
   "execution_count": 44,
   "metadata": {},
   "outputs": [],
   "source": [
    "\n",
    "def Create_Data(data,look_back,number_samples):\n",
    "    n_seq = data.shape[-1]    \n",
    "    X = np.zeros((number_samples,look_back))\n",
    "    # We select random positions to get the sequences for learning\n",
    "    pos =  look_back + np.random.randint(n_seq-look_back,size=number_samples)\n",
    "    \n",
    "    # The target variable is the stock time series at that position\n",
    "    Y = data[pos]\n",
    "    for i in np.arange(number_samples):\n",
    "        X[i,:] = data[(pos[i]-look_back):pos[i]]\n",
    "        \n",
    "        \n",
    "    return X,Y\n",
    "    "
   ]
  },
  {
   "cell_type": "code",
   "execution_count": null,
   "metadata": {},
   "outputs": [],
   "source": []
  },
  {
   "cell_type": "markdown",
   "metadata": {},
   "source": [
    "In the first approach we will predict one time series using a sequence of lookup observations from the same time series, i.e., input_features=look_back and output_features=1"
   ]
  },
  {
   "cell_type": "markdown",
   "metadata": {},
   "source": [
    "The train and test datasets are created. Observe the way in which they are created. "
   ]
  },
  {
   "cell_type": "code",
   "execution_count": 45,
   "metadata": {},
   "outputs": [
    {
     "data": {
      "text/plain": [
       "(1000, 5, 1)"
      ]
     },
     "execution_count": 45,
     "metadata": {},
     "output_type": "execute_result"
    }
   ],
   "source": [
    "number_observations = variation.shape[-1]\n",
    "indices_for_train = np.arange(0,int(number_observations/2))\n",
    "indices_for_test = np.arange(int(number_observations/2),number_observations)\n",
    "\n",
    "look_back = 5\n",
    "nsamples = 1000\n",
    "\n",
    "trainX, trainY = Create_Data(variation[0,indices_for_train],look_back,nsamples)\n",
    "testX, testY = Create_Data(variation[0,indices_for_test],look_back,nsamples)\n",
    "\n",
    "\n",
    "trainX = np.reshape(trainX, (trainX.shape[0], trainX.shape[1], 1))\n",
    "testX = np.reshape(testX,   (testX.shape[0], testX.shape[1],    1))\n",
    "trainY = np.reshape(trainY, (trainY.shape[0],1))\n",
    "testY = np.reshape(testY, (testY.shape[0], 1))\n",
    "\n",
    "trainX.shape\n"
   ]
  },
  {
   "cell_type": "markdown",
   "metadata": {},
   "source": [
    "An Simple RNN model is created. "
   ]
  },
  {
   "cell_type": "code",
   "execution_count": 46,
   "metadata": {},
   "outputs": [
    {
     "name": "stdout",
     "output_type": "stream",
     "text": [
      "_________________________________________________________________\n",
      "Layer (type)                 Output Shape              Param #   \n",
      "=================================================================\n",
      "simple_rnn_1 (SimpleRNN)     (None, 25)                675       \n",
      "_________________________________________________________________\n",
      "dropout_1 (Dropout)          (None, 25)                0         \n",
      "_________________________________________________________________\n",
      "dense_1 (Dense)              (None, 1)                 26        \n",
      "=================================================================\n",
      "Total params: 701\n",
      "Trainable params: 701\n",
      "Non-trainable params: 0\n",
      "_________________________________________________________________\n",
      "None\n"
     ]
    }
   ],
   "source": [
    "number_cells = 25\n",
    "\n",
    "stock_model = Sequential ()\n",
    "stock_model.add(SimpleRNN(number_cells, input_shape =(look_back, 1) ))\n",
    "stock_model.add(Dropout(0.2))\n",
    "stock_model.add (Dense (activation = 'linear',units=1))\n",
    "stock_model.compile (loss =\"mean_squared_error\" , metrics=['mse'], optimizer = \"adam\")  \n",
    "print(stock_model.summary())\n"
   ]
  },
  {
   "cell_type": "markdown",
   "metadata": {},
   "source": [
    "The model is trained and run"
   ]
  },
  {
   "cell_type": "code",
   "execution_count": 47,
   "metadata": {},
   "outputs": [
    {
     "name": "stdout",
     "output_type": "stream",
     "text": [
      "Train on 1000 samples, validate on 1000 samples\n",
      "Epoch 1/50\n",
      "1000/1000 [==============================] - 1s 968us/step - loss: 0.5871 - mean_squared_error: 0.5871 - val_loss: 3.5747 - val_mean_squared_error: 3.5747\n",
      "Epoch 2/50\n",
      "1000/1000 [==============================] - 0s 260us/step - loss: 0.5778 - mean_squared_error: 0.5778 - val_loss: 3.5617 - val_mean_squared_error: 3.5617\n",
      "Epoch 3/50\n",
      "1000/1000 [==============================] - 0s 246us/step - loss: 0.5819 - mean_squared_error: 0.5819 - val_loss: 3.5657 - val_mean_squared_error: 3.5657\n",
      "Epoch 4/50\n",
      "1000/1000 [==============================] - 0s 253us/step - loss: 0.5721 - mean_squared_error: 0.5721 - val_loss: 3.5797 - val_mean_squared_error: 3.5797\n",
      "Epoch 5/50\n",
      "1000/1000 [==============================] - 0s 253us/step - loss: 0.5588 - mean_squared_error: 0.5588 - val_loss: 3.5751 - val_mean_squared_error: 3.5751\n",
      "Epoch 6/50\n",
      "1000/1000 [==============================] - 0s 313us/step - loss: 0.5322 - mean_squared_error: 0.5322 - val_loss: 3.5702 - val_mean_squared_error: 3.5702\n",
      "Epoch 7/50\n",
      "1000/1000 [==============================] - 0s 271us/step - loss: 0.5440 - mean_squared_error: 0.5440 - val_loss: 3.5726 - val_mean_squared_error: 3.5726\n",
      "Epoch 8/50\n",
      "1000/1000 [==============================] - 0s 300us/step - loss: 0.5385 - mean_squared_error: 0.5385 - val_loss: 3.5807 - val_mean_squared_error: 3.5807\n",
      "Epoch 9/50\n",
      "1000/1000 [==============================] - 0s 260us/step - loss: 0.5255 - mean_squared_error: 0.5255 - val_loss: 3.5757 - val_mean_squared_error: 3.5757\n",
      "Epoch 10/50\n",
      "1000/1000 [==============================] - 0s 245us/step - loss: 0.5363 - mean_squared_error: 0.5363 - val_loss: 3.5776 - val_mean_squared_error: 3.5776\n",
      "Epoch 11/50\n",
      "1000/1000 [==============================] - 0s 258us/step - loss: 0.5425 - mean_squared_error: 0.5425 - val_loss: 3.5756 - val_mean_squared_error: 3.5756\n",
      "Epoch 12/50\n",
      "1000/1000 [==============================] - 0s 258us/step - loss: 0.5278 - mean_squared_error: 0.5278 - val_loss: 3.5756 - val_mean_squared_error: 3.5756\n",
      "Epoch 13/50\n",
      "1000/1000 [==============================] - 0s 250us/step - loss: 0.5149 - mean_squared_error: 0.5149 - val_loss: 3.5794 - val_mean_squared_error: 3.5794\n",
      "Epoch 14/50\n",
      "1000/1000 [==============================] - 0s 255us/step - loss: 0.5128 - mean_squared_error: 0.5128 - val_loss: 3.5943 - val_mean_squared_error: 3.5943\n",
      "Epoch 15/50\n",
      "1000/1000 [==============================] - 0s 256us/step - loss: 0.5206 - mean_squared_error: 0.5206 - val_loss: 3.5887 - val_mean_squared_error: 3.5887\n",
      "Epoch 16/50\n",
      "1000/1000 [==============================] - 0s 249us/step - loss: 0.5247 - mean_squared_error: 0.5247 - val_loss: 3.5983 - val_mean_squared_error: 3.5983\n",
      "Epoch 17/50\n",
      "1000/1000 [==============================] - 0s 249us/step - loss: 0.5129 - mean_squared_error: 0.5129 - val_loss: 3.5984 - val_mean_squared_error: 3.5984\n",
      "Epoch 18/50\n",
      "1000/1000 [==============================] - 0s 254us/step - loss: 0.5186 - mean_squared_error: 0.5186 - val_loss: 3.6020 - val_mean_squared_error: 3.6020\n",
      "Epoch 19/50\n",
      "1000/1000 [==============================] - 0s 251us/step - loss: 0.5119 - mean_squared_error: 0.5119 - val_loss: 3.5976 - val_mean_squared_error: 3.5976\n",
      "Epoch 20/50\n",
      "1000/1000 [==============================] - 0s 260us/step - loss: 0.5223 - mean_squared_error: 0.5223 - val_loss: 3.6092 - val_mean_squared_error: 3.6092\n",
      "Epoch 21/50\n",
      "1000/1000 [==============================] - 0s 317us/step - loss: 0.5117 - mean_squared_error: 0.5117 - val_loss: 3.6094 - val_mean_squared_error: 3.6094\n",
      "Epoch 22/50\n",
      "1000/1000 [==============================] - 0s 281us/step - loss: 0.4942 - mean_squared_error: 0.4942 - val_loss: 3.6144 - val_mean_squared_error: 3.6144\n",
      "Epoch 23/50\n",
      "1000/1000 [==============================] - 0s 284us/step - loss: 0.5055 - mean_squared_error: 0.5055 - val_loss: 3.6231 - val_mean_squared_error: 3.6231\n",
      "Epoch 24/50\n",
      "1000/1000 [==============================] - 0s 289us/step - loss: 0.5005 - mean_squared_error: 0.5005 - val_loss: 3.6223 - val_mean_squared_error: 3.6223\n",
      "Epoch 25/50\n",
      "1000/1000 [==============================] - 0s 284us/step - loss: 0.5041 - mean_squared_error: 0.5041 - val_loss: 3.6139 - val_mean_squared_error: 3.6139\n",
      "Epoch 26/50\n",
      "1000/1000 [==============================] - 0s 289us/step - loss: 0.5230 - mean_squared_error: 0.5230 - val_loss: 3.6211 - val_mean_squared_error: 3.6211\n",
      "Epoch 27/50\n",
      "1000/1000 [==============================] - 0s 288us/step - loss: 0.5143 - mean_squared_error: 0.5143 - val_loss: 3.6117 - val_mean_squared_error: 3.6117\n",
      "Epoch 28/50\n",
      "1000/1000 [==============================] - 0s 290us/step - loss: 0.5041 - mean_squared_error: 0.5041 - val_loss: 3.6327 - val_mean_squared_error: 3.6327\n",
      "Epoch 29/50\n",
      "1000/1000 [==============================] - 0s 313us/step - loss: 0.5019 - mean_squared_error: 0.5019 - val_loss: 3.6283 - val_mean_squared_error: 3.6283\n",
      "Epoch 30/50\n",
      "1000/1000 [==============================] - 0s 306us/step - loss: 0.4903 - mean_squared_error: 0.4903 - val_loss: 3.6324 - val_mean_squared_error: 3.6324\n",
      "Epoch 31/50\n",
      "1000/1000 [==============================] - 0s 267us/step - loss: 0.4931 - mean_squared_error: 0.4931 - val_loss: 3.6369 - val_mean_squared_error: 3.6369\n",
      "Epoch 32/50\n",
      "1000/1000 [==============================] - 0s 253us/step - loss: 0.4800 - mean_squared_error: 0.4800 - val_loss: 3.6427 - val_mean_squared_error: 3.6427\n",
      "Epoch 33/50\n",
      "1000/1000 [==============================] - 0s 252us/step - loss: 0.4781 - mean_squared_error: 0.4781 - val_loss: 3.6393 - val_mean_squared_error: 3.6393\n",
      "Epoch 34/50\n",
      "1000/1000 [==============================] - 0s 288us/step - loss: 0.4908 - mean_squared_error: 0.4908 - val_loss: 3.6460 - val_mean_squared_error: 3.6460\n",
      "Epoch 35/50\n",
      "1000/1000 [==============================] - 0s 283us/step - loss: 0.5036 - mean_squared_error: 0.5036 - val_loss: 3.6451 - val_mean_squared_error: 3.6451\n",
      "Epoch 36/50\n",
      "1000/1000 [==============================] - 0s 262us/step - loss: 0.4966 - mean_squared_error: 0.4966 - val_loss: 3.6537 - val_mean_squared_error: 3.6537\n",
      "Epoch 37/50\n",
      "1000/1000 [==============================] - 0s 283us/step - loss: 0.4839 - mean_squared_error: 0.4839 - val_loss: 3.6682 - val_mean_squared_error: 3.6682\n",
      "Epoch 38/50\n",
      "1000/1000 [==============================] - 0s 275us/step - loss: 0.4761 - mean_squared_error: 0.4761 - val_loss: 3.6790 - val_mean_squared_error: 3.6790\n",
      "Epoch 39/50\n",
      "1000/1000 [==============================] - 0s 264us/step - loss: 0.4990 - mean_squared_error: 0.4990 - val_loss: 3.6640 - val_mean_squared_error: 3.6640\n",
      "Epoch 40/50\n",
      "1000/1000 [==============================] - 0s 276us/step - loss: 0.4690 - mean_squared_error: 0.4690 - val_loss: 3.6828 - val_mean_squared_error: 3.6828\n",
      "Epoch 41/50\n",
      "1000/1000 [==============================] - 0s 275us/step - loss: 0.4783 - mean_squared_error: 0.4783 - val_loss: 3.6772 - val_mean_squared_error: 3.6772\n",
      "Epoch 42/50\n",
      "1000/1000 [==============================] - 0s 256us/step - loss: 0.4775 - mean_squared_error: 0.4775 - val_loss: 3.6861 - val_mean_squared_error: 3.6861\n",
      "Epoch 43/50\n",
      "1000/1000 [==============================] - 0s 242us/step - loss: 0.4809 - mean_squared_error: 0.4809 - val_loss: 3.6864 - val_mean_squared_error: 3.6864\n",
      "Epoch 44/50\n",
      "1000/1000 [==============================] - 0s 251us/step - loss: 0.4725 - mean_squared_error: 0.4725 - val_loss: 3.6840 - val_mean_squared_error: 3.6840\n",
      "Epoch 45/50\n",
      "1000/1000 [==============================] - 0s 253us/step - loss: 0.4790 - mean_squared_error: 0.4790 - val_loss: 3.6810 - val_mean_squared_error: 3.6810\n",
      "Epoch 46/50\n",
      "1000/1000 [==============================] - 0s 251us/step - loss: 0.4705 - mean_squared_error: 0.4705 - val_loss: 3.6867 - val_mean_squared_error: 3.6867\n",
      "Epoch 47/50\n",
      "1000/1000 [==============================] - 0s 284us/step - loss: 0.4841 - mean_squared_error: 0.4841 - val_loss: 3.6698 - val_mean_squared_error: 3.6698\n",
      "Epoch 48/50\n",
      "1000/1000 [==============================] - 0s 261us/step - loss: 0.4775 - mean_squared_error: 0.4775 - val_loss: 3.6775 - val_mean_squared_error: 3.6775\n",
      "Epoch 49/50\n",
      "1000/1000 [==============================] - 0s 259us/step - loss: 0.4933 - mean_squared_error: 0.4933 - val_loss: 3.6858 - val_mean_squared_error: 3.6858\n"
     ]
    },
    {
     "name": "stdout",
     "output_type": "stream",
     "text": [
      "Epoch 50/50\n",
      "1000/1000 [==============================] - 0s 272us/step - loss: 0.4737 - mean_squared_error: 0.4737 - val_loss: 3.6826 - val_mean_squared_error: 3.6826\n",
      "1000/1000 [==============================] - 0s 92us/step\n",
      "1000/1000 [==============================] - 0s 96us/step\n",
      "[0.44788307476043704, 0.44788307476043704] [3.6825645713806154, 3.6825645713806154]\n"
     ]
    }
   ],
   "source": [
    "nepochs = 50\n",
    "batch_size = 16\n",
    "history = stock_model.fit(trainX, trainY, validation_data=(testX,testY), batch_size =batch_size, \n",
    "                epochs =nepochs, shuffle = False)\n",
    "\n",
    "\n",
    "stock_model_train_error = stock_model.evaluate(trainX, trainY, batch_size=batch_size)\n",
    "stock_model_test_error = stock_model.evaluate(testX, testY, batch_size=batch_size)\n",
    "print(stock_model_train_error,stock_model_test_error)\n"
   ]
  },
  {
   "cell_type": "code",
   "execution_count": 48,
   "metadata": {},
   "outputs": [
    {
     "data": {
      "image/png": "[encoded data removed]",
      "text/plain": [
       "<Figure size 432x288 with 1 Axes>"
      ]
     },
     "metadata": {
      "needs_background": "light"
     },
     "output_type": "display_data"
    },
    {
     "data": {
      "image/png": "[encoded data removed]",
      "text/plain": [
       "<Figure size 432x288 with 1 Axes>"
      ]
     },
     "metadata": {
      "needs_background": "light"
     },
     "output_type": "display_data"
    }
   ],
   "source": [
    "plt.title(\"Variation for AIG index\", fontsize=14)\n",
    "plt.plot(history.history[\"mean_squared_error\"],'r-')\n",
    "plt.xlabel(\"Time\")\n",
    "plt.ylabel(\"Variation\")\n",
    "plt.show()\n",
    "plt.title(\"Variation for AIG index\", fontsize=14)\n",
    "plt.plot(history.history[\"val_mean_squared_error\"],'r-')\n",
    "plt.xlabel(\"Time\")\n",
    "plt.ylabel(\"Variation\")\n",
    "plt.show()"
   ]
  },
  {
   "cell_type": "code",
   "execution_count": null,
   "metadata": {},
   "outputs": [],
   "source": []
  },
  {
   "cell_type": "markdown",
   "metadata": {},
   "source": [
    "## Exercise 3\n",
    "\n",
    "In the previous example we predicted the variation for the first stock variation[0,:] using only information about that stock. In the next exercise we would like to use information from all the stocks. \n",
    "\n",
    "Function Create_Data_Multiple, creates batches for solving this problem. \n",
    "\n",
    "Define a Keras model that contains a single LSTM with 50 cells and one fully connected hidden layer with 50 neurons. Between each layer, include a dropout, with 0.2 probability. Select an adecquate loss function for this problem.\n",
    "\n",
    "Finally, show the accuracy of the model both in the training set, and in the test set"
   ]
  },
  {
   "cell_type": "code",
   "execution_count": 49,
   "metadata": {},
   "outputs": [],
   "source": [
    "def Create_Data_Multiple(data,look_back,number_samples,index_to_predict):\n",
    "    n_seq = data.shape[-1]   \n",
    "    n_col = data.shape[0] \n",
    "    X = np.zeros((number_samples,look_back,n_col))\n",
    "    # We select random positions to get the sequences for learning\n",
    "    pos =  look_back + np.random.randint(n_seq-look_back,size=number_samples)\n",
    "    \n",
    "    # The target variable is the stock time series at that position\n",
    "    Y = data[index_to_predict,pos]\n",
    "    for i in np.arange(number_samples):\n",
    "        X[i,:,:] = data[:,(pos[i]-look_back):pos[i]].transpose()\n",
    "        \n",
    "    return X,Y"
   ]
  },
  {
   "cell_type": "code",
   "execution_count": null,
   "metadata": {},
   "outputs": [],
   "source": []
  },
  {
   "cell_type": "code",
   "execution_count": 50,
   "metadata": {},
   "outputs": [
    {
     "data": {
      "text/plain": [
       "(10000, 30, 56)"
      ]
     },
     "execution_count": 50,
     "metadata": {},
     "output_type": "execute_result"
    }
   ],
   "source": [
    "nsamples = 10000\n",
    "look_back = 30\n",
    "index_to_predict = 0\n",
    "indices_to_take = np.arange(0,56)  #[0,1,2,3,4,5,6]\n",
    "reduced_variation = variation[indices_to_take,:]\n",
    "\n",
    "trainX, trainY = Create_Data_Multiple(reduced_variation[:,indices_for_train],\n",
    "                                      look_back,nsamples,index_to_predict)\n",
    "\n",
    "testX, testY = Create_Data_Multiple(reduced_variation[:,indices_for_test],\n",
    "                                      look_back,nsamples,index_to_predict)\n",
    "trainY = np.reshape(trainY, (trainY.shape[0],1))\n",
    "testY = np.reshape(testY, (testY.shape[0], 1))\n",
    "\n",
    "testX.shape"
   ]
  },
  {
   "cell_type": "code",
   "execution_count": null,
   "metadata": {},
   "outputs": [],
   "source": []
  },
  {
   "cell_type": "code",
   "execution_count": null,
   "metadata": {},
   "outputs": [],
   "source": [
    "nepochs = 10\n",
    "batch_size = 16"
   ]
  },
  {
   "cell_type": "code",
   "execution_count": null,
   "metadata": {},
   "outputs": [],
   "source": []
  },
  {
   "cell_type": "code",
   "execution_count": null,
   "metadata": {},
   "outputs": [],
   "source": []
  },
  {
   "cell_type": "markdown",
   "metadata": {},
   "source": [
    "## Exercise 4\n",
    "### Solving the MNIST classification problem using an RNN.\n",
    "\n",
    "Below is an incomplete model of an application of an LSTM to solve the MNIST problem. Here, we want to solve the same problem that was treated before Exercise 2, but using Keras instead of vanilla tensorflow.\n",
    "\n",
    "For that, we define a model onsisting of a single LSTM with 50 neurons, and a single dense layer. Therefore, the model will only have one single hidden layer, with 50 neurons.\n",
    "\n",
    "After training the model, obtain its accuracy in the test set.\n"
   ]
  },
  {
   "cell_type": "code",
   "execution_count": null,
   "metadata": {},
   "outputs": [],
   "source": [
    "\n"
   ]
  },
  {
   "cell_type": "code",
   "execution_count": 51,
   "metadata": {},
   "outputs": [
    {
     "name": "stdout",
     "output_type": "stream",
     "text": [
      "Dimension of the samples in the training set:  (60000, 28, 28)\n",
      "Dimension of samples in the test set:  (10000, 28, 28)\n",
      "Dimension of the labels training set (one_hot):  (60000, 10)\n",
      "Dimension of the labels test set (one_hot):  (10000, 10)\n"
     ]
    }
   ],
   "source": [
    "(x_mnist_train, y_mnist_train), (x_mnist_test, y_mnist_test) \\\n",
    "                                = Read_And_Normalize_Image_Dataset(db_name='mnist', \\\n",
    "                                max_train_samples = 10000, max_test_samples = 10000)\n",
    "\n",
    "\n",
    "print(\"Dimension of the samples in the training set: \", x_mnist_train.shape)\n",
    "print(\"Dimension of samples in the test set: \", x_mnist_test.shape)\n",
    "\n",
    "number_mnist_classes = 10\n",
    "y_mnist_train_one_hot  = to_categorical(y_mnist_train)\n",
    "y_mnist_test_one_hot  = to_categorical(y_mnist_test)\n",
    "\n",
    "print(\"Dimension of the labels training set (one_hot): \", y_mnist_train_one_hot.shape)\n",
    "print(\"Dimension of the labels test set (one_hot): \", y_mnist_test_one_hot.shape)"
   ]
  },
  {
   "cell_type": "code",
   "execution_count": 52,
   "metadata": {},
   "outputs": [],
   "source": [
    "number_neurons = 50\n",
    "time_steps = 1\n",
    "n_inputs = 28\n",
    "number_classes = 10\n",
    "number_epochs = 10\n",
    "batch_size = 32\n"
   ]
  },
  {
   "cell_type": "code",
   "execution_count": 53,
   "metadata": {},
   "outputs": [
    {
     "ename": "NameError",
     "evalue": "name 'mnist_scores' is not defined",
     "output_type": "error",
     "traceback": [
      "\u001b[0;31m---------------------------------------------------------------------------\u001b[0m",
      "\u001b[0;31mNameError\u001b[0m                                 Traceback (most recent call last)",
      "\u001b[0;32m<ipython-input-53-2d085774819a>\u001b[0m in \u001b[0;36m<module>\u001b[0;34m\u001b[0m\n\u001b[1;32m      2\u001b[0m \u001b[0;34m\u001b[0m\u001b[0m\n\u001b[1;32m      3\u001b[0m \u001b[0;34m\u001b[0m\u001b[0m\n\u001b[0;32m----> 4\u001b[0;31m \u001b[0mprint\u001b[0m\u001b[0;34m(\u001b[0m\u001b[0;34m\"The accuracy on test data was: %.2f%%\"\u001b[0m \u001b[0;34m%\u001b[0m \u001b[0;34m(\u001b[0m\u001b[0mmnist_scores\u001b[0m\u001b[0;34m[\u001b[0m\u001b[0;36m1\u001b[0m\u001b[0;34m]\u001b[0m\u001b[0;34m*\u001b[0m\u001b[0;36m100\u001b[0m\u001b[0;34m)\u001b[0m\u001b[0;34m)\u001b[0m\u001b[0;34m\u001b[0m\u001b[0m\n\u001b[0m",
      "\u001b[0;31mNameError\u001b[0m: name 'mnist_scores' is not defined"
     ]
    }
   ],
   "source": [
    "\n",
    "\n",
    "\n",
    "print(\"The accuracy on test data was: %.2f%%\" % (mnist_scores[1]*100))"
   ]
  },
  {
   "cell_type": "code",
   "execution_count": null,
   "metadata": {},
   "outputs": [],
   "source": []
  },
  {
   "cell_type": "markdown",
   "metadata": {},
   "source": [
    "### Tensorflow implementation of a RNN\n",
    "\n",
    "In the following cell, we set common parameters of a RNN implementation. "
   ]
  },
  {
   "cell_type": "code",
   "execution_count": 56,
   "metadata": {},
   "outputs": [],
   "source": [
    "seed = 1\n",
    "\n",
    "tf.set_random_seed(seed)\n",
    "np.random.seed(seed)\n",
    "random.seed(seed)\n",
    "\n",
    "num_epochs = 500\n",
    "total_series_length = 10000\n",
    "truncated_backprop_length = 20\n",
    "state_size = 4\n",
    "batch_size = 20\n",
    "num_batches = total_series_length//batch_size//truncated_backprop_length"
   ]
  },
  {
   "cell_type": "markdown",
   "metadata": {},
   "source": [
    "We are also going to redefine the time series we are working with, so that the values are independent of the place we take the batch from"
   ]
  },
  {
   "cell_type": "code",
   "execution_count": 57,
   "metadata": {},
   "outputs": [],
   "source": [
    "def time_series(t):\n",
    "    return  np.sin(t) / 3 + 2 * np.sin(t*5)\n",
    "\n",
    "t_min, t_max = 0, 30\n",
    "resolution = 0.1\n",
    "\n",
    "# Receives the number of samples (batch_size) of size (n_steps) to extract\n",
    "# from the time series, and outputs such a sample\n",
    "def next_batch(btch_sz, n_steps):\n",
    "    t0 = np.random.rand(btch_sz, 1) * (t_max - t_min - n_steps * resolution)\n",
    "    ts = t0 + np.arange(0., n_steps + 1) * resolution\n",
    "    ys = time_series(ts)\n",
    "    return ys[:, :-1].reshape(-1, n_steps), ys[:, 1:].reshape(-1, n_steps)"
   ]
  },
  {
   "cell_type": "code",
   "execution_count": 63,
   "metadata": {},
   "outputs": [
    {
     "name": "stdout",
     "output_type": "stream",
     "text": [
      "20 Tensor(\"Placeholder_5:0\", shape=(?, 20), dtype=float32)\n"
     ]
    }
   ],
   "source": [
    "X = tf.placeholder(tf.float32, [None, truncated_backprop_length])\n",
    "Y = tf.placeholder(tf.int32, [None, truncated_backprop_length])\n",
    "\n",
    "init_state = tf.placeholder(tf.float32, [None, state_size])\n",
    "\n",
    "W = tf.Variable(np.random.rand(state_size+1, state_size), dtype=tf.float32)\n",
    "b = tf.Variable(np.zeros((1,state_size)), dtype=tf.float32)\n",
    "\n",
    "W2 = tf.Variable(np.random.rand(state_size, 1),dtype=tf.float32)\n",
    "b2 = tf.Variable(np.zeros((1,1)), dtype=tf.float32)\n",
    "\n",
    "# Unpack columns\n",
    "inputs_series = tf.unstack(X, axis=1)\n",
    "g_truth_series = tf.unstack(Y, axis=1)\n",
    "\n",
    "print(len(inputs_series), X)\n",
    "saver = tf.train.Saver()"
   ]
  },
  {
   "cell_type": "markdown",
   "metadata": {},
   "source": [
    "Definition of the recurrent part of the network:"
   ]
  },
  {
   "cell_type": "code",
   "execution_count": 64,
   "metadata": {},
   "outputs": [],
   "source": [
    "current_state = init_state\n",
    "states_series = []\n",
    "\n",
    "for current_input in inputs_series:\n",
    "    current_input = tf.reshape(current_input, [-1, 1])\n",
    "    input_and_state_concatenated = tf.concat([current_input, current_state], 1)  # Increasing number of columns\n",
    "\n",
    "    next_state = tf.tanh(tf.matmul(input_and_state_concatenated, W) + b)  # Broadcasted addition\n",
    "    states_series.append(next_state)\n",
    "    current_state = next_state\n",
    "\n",
    "predictions_series = [tf.matmul(state, W2) + b2 for state in states_series] #Broadcasted addition"
   ]
  },
  {
   "cell_type": "code",
   "execution_count": 65,
   "metadata": {},
   "outputs": [],
   "source": [
    "losses = [tf.losses.mean_squared_error(pred, tf.reshape(val, (-1,1))) for pred, val in zip(predictions_series, g_truth_series)]\n",
    "\n",
    "total_loss = tf.reduce_mean(losses)\n",
    "\n",
    "train_step = tf.train.AdagradOptimizer(0.001).minimize(total_loss)"
   ]
  },
  {
   "cell_type": "code",
   "execution_count": 66,
   "metadata": {},
   "outputs": [
    {
     "name": "stdout",
     "output_type": "stream",
     "text": [
      "Epoch 0 Loss 2.3694263\n",
      "Epoch 1 Loss 2.3253148\n",
      "Epoch 2 Loss 2.2288299\n",
      "Epoch 3 Loss 2.2260008\n",
      "Epoch 4 Loss 2.2458444\n",
      "Epoch 5 Loss 2.1638577\n",
      "Epoch 6 Loss 2.1259868\n",
      "Epoch 7 Loss 2.1694922\n",
      "Epoch 8 Loss 2.0442545\n",
      "Epoch 9 Loss 2.0501285\n",
      "Epoch 10 Loss 1.9973438\n",
      "Epoch 11 Loss 2.0166454\n",
      "Epoch 12 Loss 1.9646384\n",
      "Epoch 13 Loss 1.9952183\n",
      "Epoch 14 Loss 1.9235433\n",
      "Epoch 15 Loss 1.9646496\n",
      "Epoch 16 Loss 1.9413369\n",
      "Epoch 17 Loss 1.8826668\n",
      "Epoch 18 Loss 1.8595221\n",
      "Epoch 19 Loss 1.8682861\n",
      "Epoch 20 Loss 1.7737167\n",
      "Epoch 21 Loss 1.879549\n",
      "Epoch 22 Loss 1.7548325\n",
      "Epoch 23 Loss 1.7861\n",
      "Epoch 24 Loss 1.7723515\n",
      "Epoch 25 Loss 1.8126364\n",
      "Epoch 26 Loss 1.8030361\n",
      "Epoch 27 Loss 1.7097557\n",
      "Epoch 28 Loss 1.7299236\n",
      "Epoch 29 Loss 1.737064\n",
      "Epoch 30 Loss 1.7157109\n",
      "Epoch 31 Loss 1.7204012\n",
      "Epoch 32 Loss 1.7109613\n",
      "Epoch 33 Loss 1.6877254\n",
      "Epoch 34 Loss 1.7254384\n",
      "Epoch 35 Loss 1.7123026\n",
      "Epoch 36 Loss 1.6958745\n",
      "Epoch 37 Loss 1.6183503\n",
      "Epoch 38 Loss 1.6491325\n",
      "Epoch 39 Loss 1.6537908\n",
      "Epoch 40 Loss 1.6071932\n",
      "Epoch 41 Loss 1.6244335\n",
      "Epoch 42 Loss 1.6069502\n",
      "Epoch 43 Loss 1.5685762\n",
      "Epoch 44 Loss 1.5829985\n",
      "Epoch 45 Loss 1.5592906\n",
      "Epoch 46 Loss 1.5801257\n",
      "Epoch 47 Loss 1.5888598\n",
      "Epoch 48 Loss 1.5904187\n",
      "Epoch 49 Loss 1.557102\n",
      "Epoch 50 Loss 1.5766547\n",
      "Epoch 51 Loss 1.5994965\n",
      "Epoch 52 Loss 1.4922382\n",
      "Epoch 53 Loss 1.5792539\n",
      "Epoch 54 Loss 1.5018438\n",
      "Epoch 55 Loss 1.50985\n",
      "Epoch 56 Loss 1.4819129\n",
      "Epoch 57 Loss 1.4756562\n",
      "Epoch 58 Loss 1.5325583\n",
      "Epoch 59 Loss 1.4832306\n",
      "Epoch 60 Loss 1.4561098\n",
      "Epoch 61 Loss 1.4915771\n",
      "Epoch 62 Loss 1.4559479\n",
      "Epoch 63 Loss 1.4907922\n",
      "Epoch 64 Loss 1.3993502\n",
      "Epoch 65 Loss 1.4528712\n",
      "Epoch 66 Loss 1.4154488\n",
      "Epoch 67 Loss 1.4559201\n",
      "Epoch 68 Loss 1.4305027\n",
      "Epoch 69 Loss 1.4059958\n",
      "Epoch 70 Loss 1.4355633\n",
      "Epoch 71 Loss 1.3968389\n",
      "Epoch 72 Loss 1.3957429\n",
      "Epoch 73 Loss 1.4296678\n",
      "Epoch 74 Loss 1.3905718\n",
      "Epoch 75 Loss 1.4044086\n"
     ]
    },
    {
     "ename": "KeyboardInterrupt",
     "evalue": "",
     "output_type": "error",
     "traceback": [
      "\u001b[0;31m---------------------------------------------------------------------------\u001b[0m",
      "\u001b[0;31mKeyboardInterrupt\u001b[0m                         Traceback (most recent call last)",
      "\u001b[0;32m<ipython-input-66-c06e24aa33a2>\u001b[0m in \u001b[0;36m<module>\u001b[0;34m\u001b[0m\n\u001b[1;32m     23\u001b[0m \u001b[0;34m\u001b[0m\u001b[0m\n\u001b[1;32m     24\u001b[0m \u001b[0;34m\u001b[0m\u001b[0m\n\u001b[0;32m---> 25\u001b[0;31m         \u001b[0msaver\u001b[0m\u001b[0;34m.\u001b[0m\u001b[0msave\u001b[0m\u001b[0;34m(\u001b[0m\u001b[0msess\u001b[0m\u001b[0;34m,\u001b[0m \u001b[0;34m\"./myRNN\"\u001b[0m\u001b[0;34m)\u001b[0m\u001b[0;34m\u001b[0m\u001b[0m\n\u001b[0m",
      "\u001b[0;32m/usr/local/lib/python3.6/dist-packages/tensorflow/python/training/saver.py\u001b[0m in \u001b[0;36msave\u001b[0;34m(self, sess, save_path, global_step, latest_filename, meta_graph_suffix, write_meta_graph, write_state, strip_default_attrs)\u001b[0m\n\u001b[1;32m   1464\u001b[0m         \u001b[0;32mwith\u001b[0m \u001b[0msess\u001b[0m\u001b[0;34m.\u001b[0m\u001b[0mgraph\u001b[0m\u001b[0;34m.\u001b[0m\u001b[0mas_default\u001b[0m\u001b[0;34m(\u001b[0m\u001b[0;34m)\u001b[0m\u001b[0;34m:\u001b[0m\u001b[0;34m\u001b[0m\u001b[0m\n\u001b[1;32m   1465\u001b[0m           self.export_meta_graph(\n\u001b[0;32m-> 1466\u001b[0;31m               meta_graph_filename, strip_default_attrs=strip_default_attrs)\n\u001b[0m\u001b[1;32m   1467\u001b[0m \u001b[0;34m\u001b[0m\u001b[0m\n\u001b[1;32m   1468\u001b[0m     \u001b[0;32mif\u001b[0m \u001b[0mself\u001b[0m\u001b[0;34m.\u001b[0m\u001b[0m_is_empty\u001b[0m\u001b[0;34m:\u001b[0m\u001b[0;34m\u001b[0m\u001b[0m\n",
      "\u001b[0;32m/usr/local/lib/python3.6/dist-packages/tensorflow/python/training/saver.py\u001b[0m in \u001b[0;36mexport_meta_graph\u001b[0;34m(self, filename, collection_list, as_text, export_scope, clear_devices, clear_extraneous_savers, strip_default_attrs)\u001b[0m\n\u001b[1;32m   1509\u001b[0m         \u001b[0mclear_devices\u001b[0m\u001b[0;34m=\u001b[0m\u001b[0mclear_devices\u001b[0m\u001b[0;34m,\u001b[0m\u001b[0;34m\u001b[0m\u001b[0m\n\u001b[1;32m   1510\u001b[0m         \u001b[0mclear_extraneous_savers\u001b[0m\u001b[0;34m=\u001b[0m\u001b[0mclear_extraneous_savers\u001b[0m\u001b[0;34m,\u001b[0m\u001b[0;34m\u001b[0m\u001b[0m\n\u001b[0;32m-> 1511\u001b[0;31m         strip_default_attrs=strip_default_attrs)\n\u001b[0m\u001b[1;32m   1512\u001b[0m \u001b[0;34m\u001b[0m\u001b[0m\n\u001b[1;32m   1513\u001b[0m   \u001b[0;32mdef\u001b[0m \u001b[0mrestore\u001b[0m\u001b[0;34m(\u001b[0m\u001b[0mself\u001b[0m\u001b[0;34m,\u001b[0m \u001b[0msess\u001b[0m\u001b[0;34m,\u001b[0m \u001b[0msave_path\u001b[0m\u001b[0;34m)\u001b[0m\u001b[0;34m:\u001b[0m\u001b[0;34m\u001b[0m\u001b[0m\n",
      "\u001b[0;32m/usr/local/lib/python3.6/dist-packages/tensorflow/python/training/saver.py\u001b[0m in \u001b[0;36mexport_meta_graph\u001b[0;34m(filename, meta_info_def, graph_def, saver_def, collection_list, as_text, graph, export_scope, clear_devices, clear_extraneous_savers, strip_default_attrs, **kwargs)\u001b[0m\n\u001b[1;32m   1798\u001b[0m       \u001b[0mclear_extraneous_savers\u001b[0m\u001b[0;34m=\u001b[0m\u001b[0mclear_extraneous_savers\u001b[0m\u001b[0;34m,\u001b[0m\u001b[0;34m\u001b[0m\u001b[0m\n\u001b[1;32m   1799\u001b[0m       \u001b[0mstrip_default_attrs\u001b[0m\u001b[0;34m=\u001b[0m\u001b[0mstrip_default_attrs\u001b[0m\u001b[0;34m,\u001b[0m\u001b[0;34m\u001b[0m\u001b[0m\n\u001b[0;32m-> 1800\u001b[0;31m       **kwargs)\n\u001b[0m\u001b[1;32m   1801\u001b[0m   \u001b[0;32mreturn\u001b[0m \u001b[0mmeta_graph_def\u001b[0m\u001b[0;34m\u001b[0m\u001b[0m\n\u001b[1;32m   1802\u001b[0m \u001b[0;34m\u001b[0m\u001b[0m\n",
      "\u001b[0;32m/usr/local/lib/python3.6/dist-packages/tensorflow/python/framework/meta_graph.py\u001b[0m in \u001b[0;36mexport_scoped_meta_graph\u001b[0;34m(filename, graph_def, graph, export_scope, as_text, unbound_inputs_col_name, clear_devices, saver_def, clear_extraneous_savers, strip_default_attrs, **kwargs)\u001b[0m\n\u001b[1;32m    998\u001b[0m       \u001b[0msaver_def\u001b[0m\u001b[0;34m=\u001b[0m\u001b[0msaver_def\u001b[0m\u001b[0;34m,\u001b[0m\u001b[0;34m\u001b[0m\u001b[0m\n\u001b[1;32m    999\u001b[0m       \u001b[0mstrip_default_attrs\u001b[0m\u001b[0;34m=\u001b[0m\u001b[0mstrip_default_attrs\u001b[0m\u001b[0;34m,\u001b[0m\u001b[0;34m\u001b[0m\u001b[0m\n\u001b[0;32m-> 1000\u001b[0;31m       **kwargs)\n\u001b[0m\u001b[1;32m   1001\u001b[0m \u001b[0;34m\u001b[0m\u001b[0m\n\u001b[1;32m   1002\u001b[0m   \u001b[0;32mif\u001b[0m \u001b[0mfilename\u001b[0m\u001b[0;34m:\u001b[0m\u001b[0;34m\u001b[0m\u001b[0m\n",
      "\u001b[0;32m/usr/local/lib/python3.6/dist-packages/tensorflow/python/framework/meta_graph.py\u001b[0m in \u001b[0;36mcreate_meta_graph_def\u001b[0;34m(meta_info_def, graph_def, saver_def, collection_list, graph, export_scope, exclude_nodes, clear_extraneous_savers, strip_default_attrs)\u001b[0m\n\u001b[1;32m    577\u001b[0m     \u001b[0mmeta_graph_def\u001b[0m\u001b[0;34m.\u001b[0m\u001b[0mgraph_def\u001b[0m\u001b[0;34m.\u001b[0m\u001b[0mMergeFrom\u001b[0m\u001b[0;34m(\u001b[0m\u001b[0mgraph\u001b[0m\u001b[0;34m.\u001b[0m\u001b[0mas_graph_def\u001b[0m\u001b[0;34m(\u001b[0m\u001b[0madd_shapes\u001b[0m\u001b[0;34m=\u001b[0m\u001b[0;32mTrue\u001b[0m\u001b[0;34m)\u001b[0m\u001b[0;34m)\u001b[0m\u001b[0;34m\u001b[0m\u001b[0m\n\u001b[1;32m    578\u001b[0m   \u001b[0;32melse\u001b[0m\u001b[0;34m:\u001b[0m\u001b[0;34m\u001b[0m\u001b[0m\n\u001b[0;32m--> 579\u001b[0;31m     \u001b[0mmeta_graph_def\u001b[0m\u001b[0;34m.\u001b[0m\u001b[0mgraph_def\u001b[0m\u001b[0;34m.\u001b[0m\u001b[0mMergeFrom\u001b[0m\u001b[0;34m(\u001b[0m\u001b[0mgraph_def\u001b[0m\u001b[0;34m)\u001b[0m\u001b[0;34m\u001b[0m\u001b[0m\n\u001b[0m\u001b[1;32m    580\u001b[0m \u001b[0;34m\u001b[0m\u001b[0m\n\u001b[1;32m    581\u001b[0m   \u001b[0;31m# Fills in meta_info_def.stripped_op_list using the ops from graph_def.\u001b[0m\u001b[0;34m\u001b[0m\u001b[0;34m\u001b[0m\u001b[0m\n",
      "\u001b[0;31mKeyboardInterrupt\u001b[0m: "
     ]
    }
   ],
   "source": [
    "with tf.Session() as sess:\n",
    "    sess.run(tf.initialize_all_variables())\n",
    "\n",
    "    for epoch_idx in range(num_epochs):\n",
    "        x,y = next_batch(batch_size, total_series_length)\n",
    "\n",
    "        _current_state = np.zeros((batch_size, state_size))\n",
    "\n",
    "\n",
    "        for batch_idx in range(num_batches):\n",
    "            start_idx = batch_idx * truncated_backprop_length\n",
    "            end_idx = start_idx + truncated_backprop_length\n",
    "\n",
    "            batchX = x[:,start_idx:end_idx]\n",
    "            batchY = y[:,start_idx:end_idx]\n",
    "\n",
    "            #print(batchY.shape)\n",
    "\n",
    "            _total_loss, _train_step, _current_state = sess.run([total_loss, train_step, current_state],feed_dict={X:batchX, Y:batchY, init_state:_current_state})\n",
    "\n",
    "\n",
    "        print(\"Epoch\",epoch_idx, \"Loss\", _total_loss)\n",
    "\n",
    "\n",
    "    saver.save(sess, \"./myRNN\")\n"
   ]
  },
  {
   "cell_type": "code",
   "execution_count": null,
   "metadata": {},
   "outputs": [],
   "source": []
  },
  {
   "cell_type": "code",
   "execution_count": null,
   "metadata": {},
   "outputs": [],
   "source": [
    "with tf.Session() as sess:\n",
    "\n",
    "    saver.restore(sess, \"./myRNN\")\n",
    "\n",
    "    x, y = next_batch(batch_size, truncated_backprop_length)\n",
    "\n",
    "    p = np.array(sess.run(predictions_series, feed_dict={X: x, init_state: np.zeros((batch_size, state_size))}))\n",
    "\n",
    "    print(p.shape, x.shape)\n",
    "\n",
    "    plt.plot(p[:,0], label=\"prediction\")\n",
    "    plt.plot(x[0,:], label=\"truth\")\n",
    "    plt.plot(y[0,:], label=\"truth+1\")\n",
    "\n",
    "    plt.legend()\n",
    "    plt.show()"
   ]
  },
  {
   "cell_type": "markdown",
   "metadata": {},
   "source": [
    "## Exercise 5\n",
    "\n",
    "We have taken advantage of the RNN implementations available in both Keras and Tensorflow. Now, we are digging one step deeper into the implementation, by implementing RNN cells ourselves. Following the example, define different variants of the common RNN."
   ]
  },
  {
   "cell_type": "code",
   "execution_count": null,
   "metadata": {},
   "outputs": [],
   "source": []
  },
  {
   "cell_type": "code",
   "execution_count": null,
   "metadata": {},
   "outputs": [],
   "source": []
  },
  {
   "cell_type": "code",
   "execution_count": null,
   "metadata": {},
   "outputs": [],
   "source": []
  }
 ],
 "metadata": {
  "kernelspec": {
   "display_name": "Python 3",
   "language": "python",
   "name": "python3"
  },
  "language_info": {
   "codemirror_mode": {
    "name": "ipython",
    "version": 3
   },
   "file_extension": ".py",
   "mimetype": "text/x-python",
   "name": "python",
   "nbconvert_exporter": "python",
   "pygments_lexer": "ipython3",
   "version": "3.6.6"
  }
 },
 "nbformat": 4,
 "nbformat_minor": 2
}
