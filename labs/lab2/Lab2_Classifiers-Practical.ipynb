{
 "cells": [
  {
   "cell_type": "markdown",
   "metadata": {},
   "source": [
    "## Topic 1. Introduction to Machine learning\n",
    "## Supervised Classification: Linear models\n"
   ]
  },
  {
   "cell_type": "code",
   "execution_count": 4,
   "metadata": {},
   "outputs": [
    {
     "name": "stdout",
     "output_type": "stream",
     "text": [
      "The scikit-learn version is 0.19.2.\n"
     ]
    }
   ],
   "source": [
    "# We start by importing the python libraries required to solve the exercises\n",
    "\n",
    "import numpy as np\n",
    "import matplotlib\n",
    "from matplotlib import pylab as plt\n",
    "import matplotlib.patches as mpatches\n",
    "import sklearn\n",
    "print('The scikit-learn version is {}.'.format(sklearn.__version__))\n",
    "\n",
    "# Enables interactivity with the plots\n",
    "%matplotlib notebook\n",
    "\n"
   ]
  },
  {
   "cell_type": "code",
   "execution_count": 2,
   "metadata": {},
   "outputs": [],
   "source": [
    "# We create two sets of points (XA,yA)  and (XB,yB) corresponding to two different classes\n",
    "\n",
    "# Font size\n",
    "fsize = 20     \n",
    "\n",
    "# Points in Class A\n",
    "xA = 20*np.random.rand(50)\n",
    "shiftA = 20*np.random.rand(50)\n",
    "yA = xA/2.0 - shiftA - 0.1\n",
    "\n",
    "\n",
    "# Points in Class B\n",
    "xB = 20*np.random.rand(50)\n",
    "shiftB = 20*np.random.rand(50)\n",
    "yB = xB/2.0 + shiftB + 0.1\n"
   ]
  },
  {
   "cell_type": "code",
   "execution_count": 5,
   "metadata": {},
   "outputs": [
    {
     "data": {
      "image/png": "[encoded data removed]",
      "text/plain": [
       "<Figure size 432x288 with 1 Axes>"
      ]
     },
     "metadata": {
      "needs_background": "light"
     },
     "output_type": "display_data"
    }
   ],
   "source": [
    "# The points in the two classes are visualized with different colors \n",
    "# Points in Class I in blue. Points in Class II in red\n",
    "\n",
    "plt.figure()\n",
    "plt.plot(xA, yA, 'ro')\n",
    "plt.plot(xB, yB, 'bs')\n",
    "\n",
    "blue_patch = mpatches.Patch(color='blue', label='Class I')\n",
    "red_patch = mpatches.Patch(color='red', label='Class II')\n",
    "plt.legend(handles=[blue_patch,red_patch])\n",
    "\n",
    "plt.xlabel(r'$x$', fontsize=fsize)\n",
    "plt.ylabel(r'$y$', fontsize=fsize)\n",
    "\n",
    "\n",
    "plt.show()"
   ]
  },
  {
   "cell_type": "code",
   "execution_count": 3,
   "metadata": {},
   "outputs": [
    {
     "data": {
      "image/png": "[encoded data removed]",
      "text/plain": [
       "<Figure size 432x288 with 1 Axes>"
      ]
     },
     "metadata": {},
     "output_type": "display_data"
    }
   ],
   "source": [
    "# We show that there exists a hyperplane that allows to perfectly divides\n",
    "# points in the two classes.\n",
    "# In 2-d this hyperplane corresponds to a line that is represented in green.\n",
    "\n",
    "\n",
    "x1 = np.linspace(0, 20, 2000)\n",
    "y1 = x1/2.0\n",
    "\n",
    "plt.figure()\n",
    "\n",
    "plt.plot(xA, yA, 'ro')\n",
    "plt.plot(xB, yB, 'bs')\n",
    "\n",
    "blue_patch = mpatches.Patch(color='blue', label='Class I')\n",
    "red_patch = mpatches.Patch(color='red', label='Class II')\n",
    "plt.legend(handles=[blue_patch,red_patch])\n",
    "\n",
    "plt.xlabel(r'$x$', fontsize=fsize)\n",
    "plt.ylabel(r'$y$', fontsize=fsize)\n",
    "\n",
    "\n",
    "# Show hyperplane dividing the classes\n",
    "plt.plot(x1, y1,'g', lw=4)\n",
    "plt.show()\n"
   ]
  },
  {
   "cell_type": "markdown",
   "metadata": {},
   "source": [
    "##  Linear Regression with sklearn\n",
    "\n",
    "Let us try to learn a linear regression model that approximates all the points, regardless the  classes they belong to."
   ]
  },
  {
   "cell_type": "code",
   "execution_count": 4,
   "metadata": {
    "scrolled": true
   },
   "outputs": [
    {
     "name": "stderr",
     "output_type": "stream",
     "text": [
      "/usr/lib/python3.5/importlib/_bootstrap.py:222: RuntimeWarning: numpy.dtype size changed, may indicate binary incompatibility. Expected 96, got 88\n",
      "  return f(*args, **kwds)\n"
     ]
    }
   ],
   "source": [
    "# We import the linear function from sklearn\n",
    "from sklearn.linear_model import LinearRegression\n",
    "\n",
    "# We define the linear regression model\n",
    "lr = LinearRegression(fit_intercept=True, normalize=True)\n"
   ]
  },
  {
   "cell_type": "markdown",
   "metadata": {},
   "source": [
    "Now we will learn the model. In this case what we want is a regression model for ALL the points. The regression model should predict, given a value of x, what will be the y value."
   ]
  },
  {
   "cell_type": "code",
   "execution_count": 5,
   "metadata": {},
   "outputs": [
    {
     "name": "stdout",
     "output_type": "stream",
     "text": [
      "The coefficients associated to x in the regression model is: 0.5526400681175391. The intercept value  is : -0.14492979373593862.\n"
     ]
    }
   ],
   "source": [
    "# We define our set of observations (the union of points from the two classes)\n",
    "# We concatenate the vectors\n",
    "x = np.hstack((xA,xB)).reshape(-1,1)\n",
    "y = np.hstack((yA,yB)).reshape(-1,1)\n",
    "#print(x.shape,y.shape)\n",
    "\n",
    "# We fit the linear model to the data\n",
    "# This produces the linear regression model (Object lr is updated)\n",
    "lr.fit(x,y)\n",
    "\n",
    "# We print the coefficient and the intercept of the linear model\n",
    "# Most probably they are different to the coefficient and intercept of the original hyperplane (0.5 and 0, respectively)\n",
    "\n",
    "print(\"The coefficients associated to x in the regression model is: \"+str(lr.coef_[0][0])+\". The intercept value  is : \"+str(lr.intercept_[0])+\".\")\n"
   ]
  },
  {
   "cell_type": "markdown",
   "metadata": {},
   "source": [
    "Finally, we will use the linear regression model to predict the y values, given the x values. \n",
    "\n",
    "\n",
    " We will use the model to predict in the same dataset (x) used to learn  the model. In general, this is not a good practice since it can give a poor estimation  of the generalization of the solutions. A better practice is to learn in one training set and testing using a different one\n"
   ]
  },
  {
   "cell_type": "code",
   "execution_count": 6,
   "metadata": {},
   "outputs": [],
   "source": [
    "# We predict the new values using the model\n",
    "y_l_predicted = lr.predict(x)\n"
   ]
  },
  {
   "cell_type": "markdown",
   "metadata": {},
   "source": [
    "The following chart will display, the points from the two classes, the original hyperplane (in green) and the prediction produced by the regression model (in magenta). Notice that even if the decision function learned by the linear model and the original hyperplanes have different equations, the are both good decision functions. At least for the training data!!!\n"
   ]
  },
  {
   "cell_type": "code",
   "execution_count": 7,
   "metadata": {},
   "outputs": [
    {
     "data": {
      "image/png": "[encoded data removed]",
      "text/plain": [
       "<Figure size 432x288 with 1 Axes>"
      ]
     },
     "metadata": {},
     "output_type": "display_data"
    }
   ],
   "source": [
    "plt.figure()\n",
    "plt.plot(x,y_l_predicted,'m*', lw=4)\n",
    "plt.plot(xA, yA, 'ro', lw=4)\n",
    "plt.plot(xB, yB, 'bs', lw=4)\n",
    "plt.plot(x1, y1,'g', lw=4)\n",
    "\n",
    "blue_patch = mpatches.Patch(color='blue', label='Class I')\n",
    "red_patch = mpatches.Patch(color='red', label='Class II')\n",
    "plt.legend(handles=[blue_patch,red_patch])\n",
    "plt.xlabel(r'$x$', fontsize=fsize)\n",
    "plt.ylabel(r'$y$', fontsize=fsize)\n",
    "\n",
    "plt.show()"
   ]
  },
  {
   "cell_type": "markdown",
   "metadata": {},
   "source": [
    "## Linear discriminant analysis with sklearn\n",
    "\n",
    "Now we consider the LinearDiscriminant Analysis Classifier."
   ]
  },
  {
   "cell_type": "code",
   "execution_count": 8,
   "metadata": {},
   "outputs": [],
   "source": [
    "from sklearn.discriminant_analysis import LinearDiscriminantAnalysis\n",
    "import numpy as np\n",
    "\n",
    "# The classifier is defined\n",
    "llda = LinearDiscriminantAnalysis(solver='lsqr')\n",
    "#llda = LinearDiscriminantAnalysis(solver='svd')"
   ]
  },
  {
   "cell_type": "markdown",
   "metadata": {},
   "source": [
    "Since this is a classifier (not a regressor). We will need to define our features, and to specify the classes.\n"
   ]
  },
  {
   "cell_type": "code",
   "execution_count": 9,
   "metadata": {},
   "outputs": [],
   "source": [
    "# We will assign value -1 to the points in the first class, and value 1 to points in the second class.\n",
    "# Usually, classes can be also assigned values 0 and 1. \n",
    "# The dependent or class variable will be \"y_binary\"\n",
    "y_binary = np.hstack((-1*np.ones((50)),np.ones((50))))\n",
    "\n",
    "# Now we define our features. We will use as features the coordinates of each point (x,y)\n",
    "# Notice the difference with regression where \"y\" was a dependent variable. Here \"y\" is an independent variable as x.\n",
    "# The matrix containing the 100 observations will be: enlarged_x\n",
    "\n",
    "enlarged_x = np.hstack((x,y))\n",
    "\n"
   ]
  },
  {
   "cell_type": "markdown",
   "metadata": {},
   "source": [
    "We learn the LDA model. This means that the parameters of the linear model (the coefficients and the intercept are learned from the data.)"
   ]
  },
  {
   "cell_type": "code",
   "execution_count": 10,
   "metadata": {},
   "outputs": [
    {
     "name": "stdout",
     "output_type": "stream",
     "text": [
      "The coefficients associated to x in the LDA model is: -0.3164655303748007, and to y is: 0.6222573887551873. The intercept value is :-0.18032207514480936.\n"
     ]
    }
   ],
   "source": [
    "llda.fit(enlarged_x,y_binary)\n",
    "\n",
    "print(\"The coefficients associated to x in the LDA model is: \"+str(llda.coef_[0][0])+\", and to y is: \"\n",
    "      +str(llda.coef_[0][1]) +\". The intercept value is :\"+str(llda.intercept_[0])+\".\")\n",
    "\n"
   ]
  },
  {
   "cell_type": "markdown",
   "metadata": {},
   "source": [
    "Now let us make the prediction using the model. Determine whether the prediction is correct. "
   ]
  },
  {
   "cell_type": "code",
   "execution_count": 11,
   "metadata": {},
   "outputs": [
    {
     "name": "stdout",
     "output_type": "stream",
     "text": [
      "The class values associated to the points are [-1. -1. -1. -1. -1. -1. -1. -1. -1. -1. -1. -1. -1. -1. -1. -1. -1. -1.\n",
      " -1. -1. -1. -1. -1. -1. -1. -1. -1. -1. -1. -1. -1. -1. -1. -1. -1. -1.\n",
      " -1. -1. -1. -1. -1. -1. -1. -1. -1. -1. -1. -1. -1. -1.  1.  1. -1.  1.\n",
      "  1.  1.  1.  1.  1.  1.  1.  1.  1.  1.  1.  1.  1.  1.  1.  1.  1.  1.\n",
      "  1.  1.  1.  1.  1.  1.  1.  1.  1.  1.  1.  1.  1.  1.  1.  1.  1.  1.\n",
      "  1.  1.  1.  1.  1.  1.  1.  1.  1.  1.]\n"
     ]
    }
   ],
   "source": [
    "y_llda_predicted = llda.predict(enlarged_x)\n",
    "print(\"The class values associated to the points are \"+str(y_llda_predicted) )"
   ]
  },
  {
   "cell_type": "markdown",
   "metadata": {},
   "source": [
    "In the following cell, we use the coefficients of the model and the intercept to compute the expression of a line. \n",
    "Evaluate the cell. "
   ]
  },
  {
   "cell_type": "code",
   "execution_count": 12,
   "metadata": {},
   "outputs": [
    {
     "data": {
      "image/png": "[encoded data removed]",
      "text/plain": [
       "<Figure size 432x288 with 1 Axes>"
      ]
     },
     "metadata": {},
     "output_type": "display_data"
    }
   ],
   "source": [
    "decision_function =  (-llda.intercept_ -llda.coef_[0][0]*x)/llda.coef_[0][1]\n",
    "#print(llda_line)\n",
    "\n",
    "plt.figure()\n",
    "plt.plot(x,decision_function,'y*', lw=4)\n",
    "plt.plot(xA, yA, 'ro', lw=4)\n",
    "plt.plot(xB, yB, 'bs', lw=4)\n",
    "#plt.plot(x1, y1,'g', lw=4)\n",
    "\n",
    "blue_patch = mpatches.Patch(color='blue', label='Class I')\n",
    "red_patch = mpatches.Patch(color='red', label='Class II')\n",
    "plt.legend(handles=[blue_patch,red_patch])\n",
    "plt.xlabel(r'$x$', fontsize=fsize)\n",
    "plt.ylabel(r'$y$', fontsize=fsize)\n",
    "\n",
    "plt.show()\n"
   ]
  },
  {
   "cell_type": "markdown",
   "metadata": {},
   "source": [
    "## Exercise 1\n",
    "\n",
    "It can be appreciated in the chart above that the line is a good separator of the two classes. \n",
    "\n",
    "1.1) Explain why is this expression a good separator \n",
    "\n",
    "1.2) Can you explain how has it been derived?\n",
    "\n",
    "1.3) Go back to the cell where the LDA model has been defined. Modify the solver to 'svd'. Re-run the cells from the one in which the classifier is defined onwards, and check whether the learned model can discriminate classes too."
   ]
  },
  {
   "cell_type": "markdown",
   "metadata": {},
   "source": [
    "# Binary problems where the points of the two classes overlap"
   ]
  },
  {
   "cell_type": "markdown",
   "metadata": {},
   "source": [
    "Now we create a more difficult classification problem where the two region classes overlap."
   ]
  },
  {
   "cell_type": "code",
   "execution_count": 13,
   "metadata": {},
   "outputs": [],
   "source": [
    "# Points in Class A\n",
    "xA1 = 20*np.random.rand(50)\n",
    "shiftA1 = 20*np.random.rand(50)\n",
    "yA1 = (4+xA1)/2.0 - shiftA1 + 5.0\n",
    "\n",
    "# Points in Class B\n",
    "xB1 = 20*np.random.rand(50)\n",
    "shiftB1 = 20*np.random.rand(50)\n",
    "yB1 = (4+xB1)/2.0 + shiftB1 - 5.0\n",
    "\n",
    "# Hyperplane dividing the two classes\n",
    "x1 = np.linspace(0, 20, 2000)\n",
    "y1 = (4+x1)/2.0"
   ]
  },
  {
   "cell_type": "markdown",
   "metadata": {},
   "source": [
    "The points corresponding to the two classes are plotted.  We use the same hyperplane to divide points from the two classes. As it can be appreciated, the classification provided by this hyperplane is not perfect"
   ]
  },
  {
   "cell_type": "code",
   "execution_count": 14,
   "metadata": {
    "scrolled": true
   },
   "outputs": [
    {
     "data": {
      "image/png": "[encoded data removed]",
      "text/plain": [
       "<Figure size 432x288 with 1 Axes>"
      ]
     },
     "metadata": {},
     "output_type": "display_data"
    }
   ],
   "source": [
    "plt.figure()\n",
    "\n",
    "# Show the points for the new two classes\n",
    "plt.plot(xA1, yA1, 'ro', lw=4)\n",
    "plt.plot(xB1, yB1, 'bs', lw=4)\n",
    "\n",
    "# Show hyperplane dividing the classes\n",
    "plt.plot(x1, y1,'g', lw=4)\n",
    "\n",
    "blue_patch = mpatches.Patch(color='blue', label='Class I')\n",
    "red_patch = mpatches.Patch(color='red', label='Class II')\n",
    "plt.legend(handles=[blue_patch,red_patch])\n",
    "plt.xlabel(r'$x$', fontsize=fsize)\n",
    "plt.ylabel(r'$y$', fontsize=fsize)\n",
    "\n",
    "\n",
    "plt.show()\n"
   ]
  },
  {
   "cell_type": "markdown",
   "metadata": {},
   "source": [
    "We create a more difficult classification problem where the two region classes seem to overlap and where\n",
    "it is not evident that a linear separator exists.\n"
   ]
  },
  {
   "cell_type": "code",
   "execution_count": 15,
   "metadata": {},
   "outputs": [],
   "source": [
    "\n",
    "# Points in Class A\n",
    "xA2 = 20*np.random.rand(50)\n",
    "shiftA2 = 20*np.random.rand(50)\n",
    "yA2 = 20*np.cos(0.2*np.pi*xA2) - shiftA2 \n",
    "\n",
    "# Points in Class B\n",
    "xB2 = 20*np.random.rand(50)\n",
    "shiftB2 = 20*np.random.rand(50)\n",
    "yB2 = 20*np.cos(0.2*np.pi*xB2) + shiftB2 \n",
    "\n",
    "# Sinusoidal curve dividing the two classes      \n",
    "x2 = np.linspace(0, 20, 2000)\n",
    "y2 = 20*np.cos(0.2*np.pi*x2) "
   ]
  },
  {
   "cell_type": "markdown",
   "metadata": {},
   "source": [
    "The points corresponding to the two classes are plotted"
   ]
  },
  {
   "cell_type": "code",
   "execution_count": 16,
   "metadata": {},
   "outputs": [
    {
     "data": {
      "image/png": "[encoded data removed]",
      "text/plain": [
       "<Figure size 432x288 with 1 Axes>"
      ]
     },
     "metadata": {},
     "output_type": "display_data"
    }
   ],
   "source": [
    "plt.figure()\n",
    "\n",
    "plt.plot(xA2, yA2, 'ro')\n",
    "plt.plot(xB2, yB2, 'bs')\n",
    "\n",
    "blue_patch = mpatches.Patch(color='blue', label='Class I')\n",
    "red_patch = mpatches.Patch(color='red', label='Class II')\n",
    "plt.legend(handles=[blue_patch,red_patch])\n",
    "\n",
    "plt.xlabel(r'$x$', fontsize=fsize)\n",
    "plt.ylabel(r'$y$', fontsize=fsize)\n",
    "plt.show()\n",
    "\n"
   ]
  },
  {
   "cell_type": "markdown",
   "metadata": {},
   "source": [
    "## Exercise 2\n",
    "\n",
    "Knowing that the points in the two classes are (xA2, yA2) for Class I;  and (xB2, yB2) for class II.\n",
    "\n",
    "\n",
    "2.1) Learn a Linear Discriminant Analysis classifier for this data\n",
    "\n",
    "\n",
    "2.2) Predict the labels using the learned model. \n",
    "\n",
    "\n",
    "2.3) Plot the hyplane that divides the two classes as learned by LDA \n",
    "\n",
    "\n",
    "\n",
    "Suggestion: Go to the previous cells and copy the relevant code for defining, learning and using the classifier for prediction. Paste the cells in the following BLANK cells. You can insert as many new cells as needed but do not delete the context of the next exercises."
   ]
  },
  {
   "cell_type": "code",
   "execution_count": null,
   "metadata": {},
   "outputs": [],
   "source": []
  },
  {
   "cell_type": "code",
   "execution_count": null,
   "metadata": {},
   "outputs": [],
   "source": []
  },
  {
   "cell_type": "code",
   "execution_count": null,
   "metadata": {},
   "outputs": [],
   "source": []
  },
  {
   "cell_type": "code",
   "execution_count": null,
   "metadata": {},
   "outputs": [],
   "source": []
  },
  {
   "cell_type": "code",
   "execution_count": null,
   "metadata": {},
   "outputs": [],
   "source": []
  },
  {
   "cell_type": "markdown",
   "metadata": {},
   "source": [
    "We show a curve that makes a perfect separation of the data"
   ]
  },
  {
   "cell_type": "code",
   "execution_count": 17,
   "metadata": {},
   "outputs": [
    {
     "data": {
      "image/png": "[encoded data removed]",
      "text/plain": [
       "<Figure size 432x288 with 1 Axes>"
      ]
     },
     "metadata": {},
     "output_type": "display_data"
    }
   ],
   "source": [
    "# Finally we also show a curve that makes a perfect separation of the data\n",
    "\n",
    "plt.figure()\n",
    "\n",
    "plt.plot(xA2, yA2, 'ro')\n",
    "plt.plot(xB2, yB2, 'bs')\n",
    "\n",
    "blue_patch = mpatches.Patch(color='blue', label='Class I')\n",
    "red_patch = mpatches.Patch(color='red', label='Class II')\n",
    "plt.legend(handles=[blue_patch,red_patch])\n",
    "\n",
    "plt.xlabel(r'$x$', fontsize=fsize)\n",
    "plt.ylabel(r'$y$', fontsize=fsize)\n",
    "\n",
    "\n",
    "# Show the curve dividing the classes\n",
    "plt.plot(x2, y2,'m', lw=4)\n",
    "plt.show()\n",
    "\n"
   ]
  },
  {
   "cell_type": "code",
   "execution_count": null,
   "metadata": {},
   "outputs": [],
   "source": []
  },
  {
   "cell_type": "markdown",
   "metadata": {},
   "source": [
    "## EXERCISE 3"
   ]
  },
  {
   "cell_type": "markdown",
   "metadata": {},
   "source": [
    "Implement a python function $myclassifier([XA,yA],[XB,yB])$ that given the sets of points for the two classes \n",
    "$(XA,yA)$ and $(XB,yB)$ determines the accuracy of the hyperplane $y=\\frac{4+x}{2}$ to correctly predict the classes\n",
    "of the points. \n",
    "\n"
   ]
  },
  {
   "cell_type": "code",
   "execution_count": 30,
   "metadata": {},
   "outputs": [],
   "source": [
    "# Example of the function definition. \n",
    "# Modify this code to implement your function\n",
    "\n",
    "def myclassifier(point_classA,point_classB):\n",
    "   \"\"\"\n",
    "   point_classA: This parameter should be a list/array of two elements, the X and Y coordinates for points in class A\n",
    "   point_classB: This parameter should be a list/array of two elements, the X and Y coordinates for points in class B\n",
    "   \"\"\"\n",
    "   # Do something here with the points and the hyperplane\n",
    "   # See the suggestion in the cell below\n",
    "   # Compute the accuracy\n",
    "   accuracy = 0\n",
    "   return accuracy\n",
    "\n",
    "\n",
    "\n"
   ]
  },
  {
   "cell_type": "markdown",
   "metadata": {},
   "source": [
    "Suggestion: Create an auxiliary function $aux\\_class(x_i,y_i)$ that for any point $(xi,yi)$ determines the sign of\n",
    " $(y_i-\\frac{4+x_i}{2})$ and use this function to check in which region is the point located with respect to the hyperplane.\n",
    "    "
   ]
  },
  {
   "cell_type": "code",
   "execution_count": 21,
   "metadata": {
    "scrolled": true
   },
   "outputs": [
    {
     "ename": "NameError",
     "evalue": "name 'myclassifier' is not defined",
     "output_type": "error",
     "traceback": [
      "\u001b[0;31m---------------------------------------------------------------------------\u001b[0m",
      "\u001b[0;31mNameError\u001b[0m                                 Traceback (most recent call last)",
      "\u001b[0;32m<ipython-input-21-ed176565043a>\u001b[0m in \u001b[0;36m<module>\u001b[0;34m()\u001b[0m\n\u001b[1;32m      2\u001b[0m \u001b[0;31m# of the previously analyzed problems.\u001b[0m\u001b[0;34m\u001b[0m\u001b[0;34m\u001b[0m\u001b[0m\n\u001b[1;32m      3\u001b[0m \u001b[0;34m\u001b[0m\u001b[0m\n\u001b[0;32m----> 4\u001b[0;31m \u001b[0maccuracy_easy_problem\u001b[0m \u001b[0;34m=\u001b[0m \u001b[0mmyclassifier\u001b[0m\u001b[0;34m(\u001b[0m\u001b[0;34m[\u001b[0m\u001b[0mxA\u001b[0m\u001b[0;34m,\u001b[0m\u001b[0myA\u001b[0m\u001b[0;34m]\u001b[0m\u001b[0;34m,\u001b[0m\u001b[0;34m[\u001b[0m\u001b[0mxB\u001b[0m\u001b[0;34m,\u001b[0m\u001b[0myB\u001b[0m\u001b[0;34m]\u001b[0m\u001b[0;34m)\u001b[0m\u001b[0;34m\u001b[0m\u001b[0m\n\u001b[0m\u001b[1;32m      5\u001b[0m \u001b[0maccuracy_overlapp_problem\u001b[0m \u001b[0;34m=\u001b[0m \u001b[0mmyclassifier\u001b[0m\u001b[0;34m(\u001b[0m\u001b[0;34m[\u001b[0m\u001b[0mxA1\u001b[0m\u001b[0;34m,\u001b[0m\u001b[0myA1\u001b[0m\u001b[0;34m]\u001b[0m\u001b[0;34m,\u001b[0m\u001b[0;34m[\u001b[0m\u001b[0mxB1\u001b[0m\u001b[0;34m,\u001b[0m\u001b[0myB1\u001b[0m\u001b[0;34m]\u001b[0m\u001b[0;34m)\u001b[0m\u001b[0;34m\u001b[0m\u001b[0m\n\u001b[1;32m      6\u001b[0m \u001b[0maccuracy_sine_problem\u001b[0m \u001b[0;34m=\u001b[0m \u001b[0mmyclassifier\u001b[0m\u001b[0;34m(\u001b[0m\u001b[0;34m[\u001b[0m\u001b[0mxA2\u001b[0m\u001b[0;34m,\u001b[0m\u001b[0myA2\u001b[0m\u001b[0;34m]\u001b[0m\u001b[0;34m,\u001b[0m\u001b[0;34m[\u001b[0m\u001b[0mxB2\u001b[0m\u001b[0;34m,\u001b[0m\u001b[0myB2\u001b[0m\u001b[0;34m]\u001b[0m\u001b[0;34m)\u001b[0m\u001b[0;34m\u001b[0m\u001b[0m\n",
      "\u001b[0;31mNameError\u001b[0m: name 'myclassifier' is not defined"
     ]
    }
   ],
   "source": [
    "# Example of function evaluation with points corresponding to the classes\n",
    "# of the previously analyzed problems.\n",
    "\n",
    "accuracy_easy_problem = myclassifier([xA,yA],[xB,yB])\n",
    "accuracy_overlapp_problem = myclassifier([xA1,yA1],[xB1,yB1])\n",
    "accuracy_sine_problem = myclassifier([xA2,yA2],[xB2,yB2])\n",
    "\n",
    "print(\"The accuraccies produced by the hyperplane for the three problems are, respectively,: \"+str(accuracy_easy_problem)+\", \"\n",
    "      +str(accuracy_overlapp_problem)+\", and \"+str(accuracy_sine_problem))\n"
   ]
  },
  {
   "cell_type": "markdown",
   "metadata": {},
   "source": [
    "## EXERCISE 4\n"
   ]
  },
  {
   "cell_type": "markdown",
   "metadata": {},
   "source": [
    "Implement a new python function that computes the accuracy for curve:  $y=20 \\frac{cos(x \\pi)}{5}$.    "
   ]
  },
  {
   "cell_type": "code",
   "execution_count": 32,
   "metadata": {},
   "outputs": [],
   "source": [
    "# Example of the new function definition. \n",
    "# Modify this code to implement your function\n",
    "\n",
    "def myclassifier_cosine(point_classA,point_classB):    \n",
    "   # Do something here with the points and the expression of the function   \n",
    "   # Compute the accuracy\n",
    "   accuracy = 0\n",
    "   return accuracy\n",
    "\n",
    "\n"
   ]
  },
  {
   "cell_type": "code",
   "execution_count": 33,
   "metadata": {
    "scrolled": true
   },
   "outputs": [
    {
     "name": "stdout",
     "output_type": "stream",
     "text": [
      "The accuraccies produced by the hyperplane for the three problems are, respectively,: 0, 0, and 0\n"
     ]
    }
   ],
   "source": [
    "# Example of function evaluation with points corresponding to the classes\n",
    "# of the previously analyzed problems.\n",
    "\n",
    "accuracy_easy_problem = myclassifier_cosine([xA,yA],[xB,yB])\n",
    "accuracy_overlapp_problem = myclassifier_cosine([xA1,yA1],[xB1,yB1])\n",
    "accuracy_sine_problem = myclassifier_cosine([xA2,yA2],[xB2,yB2])\n",
    "\n",
    "print(\"The accuraccies produced by the hyperplane for the three problems are, respectively,: \"+str(accuracy_easy_problem)+\", \"\n",
    "      +str(accuracy_overlapp_problem)+\", and \"+str(accuracy_sine_problem))"
   ]
  },
  {
   "cell_type": "code",
   "execution_count": null,
   "metadata": {},
   "outputs": [],
   "source": []
  },
  {
   "cell_type": "code",
   "execution_count": null,
   "metadata": {},
   "outputs": [],
   "source": []
  },
  {
   "cell_type": "markdown",
   "metadata": {},
   "source": [
    "# Classification Scoring, and Pipelines"
   ]
  },
  {
   "cell_type": "markdown",
   "metadata": {},
   "source": [
    "Now, we are going to learn classification models using different algorithms available in sk-learn, in addition to using the pipeline structure."
   ]
  },
  {
   "cell_type": "markdown",
   "metadata": {},
   "source": [
    "### We import several classifiers from sklearn"
   ]
  },
  {
   "cell_type": "code",
   "execution_count": 3,
   "metadata": {},
   "outputs": [],
   "source": [
    "from sklearn.linear_model import LogisticRegression\n",
    "from sklearn.tree import DecisionTreeClassifier\n",
    "from sklearn.ensemble import RandomForestClassifier\n",
    "from sklearn import svm\n",
    "from sklearn.neighbors import KNeighborsClassifier\n",
    "\n",
    "# We alse import the datasets available in sklearn\n",
    "import sklearn.datasets as data_load"
   ]
  },
  {
   "cell_type": "markdown",
   "metadata": {},
   "source": [
    "###  Finally, we import the methods for validating the classifiers and for constructing ML pipelines are also  imported"
   ]
  },
  {
   "cell_type": "code",
   "execution_count": 23,
   "metadata": {},
   "outputs": [],
   "source": [
    "from sklearn.model_selection import cross_val_score\n",
    "from sklearn.model_selection import cross_val_predict\n",
    "from sklearn.metrics import recall_score\n",
    "from sklearn import metrics\n",
    "\n",
    "\n",
    "\n",
    "from sklearn import preprocessing\n",
    "from sklearn.pipeline import Pipeline"
   ]
  },
  {
   "cell_type": "markdown",
   "metadata": {},
   "source": [
    "### We will also use the TPOT package to search for (almost) optimal pipelines"
   ]
  },
  {
   "cell_type": "code",
   "execution_count": 24,
   "metadata": {},
   "outputs": [
    {
     "name": "stderr",
     "output_type": "stream",
     "text": [
      "/usr/lib/python3.5/importlib/_bootstrap.py:222: RuntimeWarning: numpy.dtype size changed, may indicate binary incompatibility. Expected 96, got 88\n",
      "  return f(*args, **kwds)\n"
     ]
    }
   ],
   "source": [
    "from tpot import TPOTClassifier"
   ]
  },
  {
   "cell_type": "markdown",
   "metadata": {
    "collapsed": true
   },
   "source": [
    "## Inspecting the Real-World datasets"
   ]
  },
  {
   "cell_type": "markdown",
   "metadata": {},
   "source": [
    "We will use the breast cancer dataset, included in UCI ML Repository https://archive.ics.uci.edu/ml/datasets/Breast+Cancer+Wisconsin+(Diagnostic)\n",
    "\n",
    "\n",
    "It has been used for the application of ML to Cancer diagnosis and prognosis: http://pages.cs.wisc.edu/~olvi/uwmp/cancer.html"
   ]
  },
  {
   "cell_type": "code",
   "execution_count": 25,
   "metadata": {},
   "outputs": [],
   "source": [
    "# The dataset is loaded\n",
    "breast_cancer_data = data_load.load_breast_cancer()"
   ]
  },
  {
   "cell_type": "code",
   "execution_count": null,
   "metadata": {},
   "outputs": [],
   "source": []
  },
  {
   "cell_type": "code",
   "execution_count": 26,
   "metadata": {},
   "outputs": [],
   "source": [
    "#Display options\n",
    "np.set_printoptions(suppress=True)"
   ]
  },
  {
   "cell_type": "markdown",
   "metadata": {},
   "source": [
    "It is a good practices to inspect the dataset before applying any ML technique, its header and also the characteristics of the data. "
   ]
  },
  {
   "cell_type": "code",
   "execution_count": 27,
   "metadata": {},
   "outputs": [
    {
     "name": "stdout",
     "output_type": "stream",
     "text": [
      "Breast Cancer Wisconsin (Diagnostic) Database\n",
      "=============================================\n",
      "\n",
      "Notes\n",
      "-----\n",
      "Data Set Characteristics:\n",
      "    :Number of Instances: 569\n",
      "\n",
      "    :Number of Attributes: 30 numeric, predictive attributes and the class\n",
      "\n",
      "    :Attribute Information:\n",
      "        - radius (mean of distances from center to points on the perimeter)\n",
      "        - texture (standard deviation of gray-scale values)\n",
      "        - perimeter\n",
      "        - area\n",
      "        - smoothness (local variation in radius lengths)\n",
      "        - compactness (perimeter^2 / area - 1.0)\n",
      "        - concavity (severity of concave portions of the contour)\n",
      "        - concave points (number of concave portions of the contour)\n",
      "        - symmetry \n",
      "        - fractal dimension (\"coastline approximation\" - 1)\n",
      "\n",
      "        The mean, standard error, and \"worst\" or largest (mean of the three\n",
      "        largest values) of these features were computed for each image,\n",
      "        resulting in 30 features.  For instance, field 3 is Mean Radius, field\n",
      "        13 is Radius SE, field 23 is Worst Radius.\n",
      "\n",
      "        - class:\n",
      "                - WDBC-Malignant\n",
      "                - WDBC-Benign\n",
      "\n",
      "    :Summary Statistics:\n",
      "\n",
      "    ===================================== ====== ======\n",
      "                                           Min    Max\n",
      "    ===================================== ====== ======\n",
      "    radius (mean):                        6.981  28.11\n",
      "    texture (mean):                       9.71   39.28\n",
      "    perimeter (mean):                     43.79  188.5\n",
      "    area (mean):                          143.5  2501.0\n",
      "    smoothness (mean):                    0.053  0.163\n",
      "    compactness (mean):                   0.019  0.345\n",
      "    concavity (mean):                     0.0    0.427\n",
      "    concave points (mean):                0.0    0.201\n",
      "    symmetry (mean):                      0.106  0.304\n",
      "    fractal dimension (mean):             0.05   0.097\n",
      "    radius (standard error):              0.112  2.873\n",
      "    texture (standard error):             0.36   4.885\n",
      "    perimeter (standard error):           0.757  21.98\n",
      "    area (standard error):                6.802  542.2\n",
      "    smoothness (standard error):          0.002  0.031\n",
      "    compactness (standard error):         0.002  0.135\n",
      "    concavity (standard error):           0.0    0.396\n",
      "    concave points (standard error):      0.0    0.053\n",
      "    symmetry (standard error):            0.008  0.079\n",
      "    fractal dimension (standard error):   0.001  0.03\n",
      "    radius (worst):                       7.93   36.04\n",
      "    texture (worst):                      12.02  49.54\n",
      "    perimeter (worst):                    50.41  251.2\n",
      "    area (worst):                         185.2  4254.0\n",
      "    smoothness (worst):                   0.071  0.223\n",
      "    compactness (worst):                  0.027  1.058\n",
      "    concavity (worst):                    0.0    1.252\n",
      "    concave points (worst):               0.0    0.291\n",
      "    symmetry (worst):                     0.156  0.664\n",
      "    fractal dimension (worst):            0.055  0.208\n",
      "    ===================================== ====== ======\n",
      "\n",
      "    :Missing Attribute Values: None\n",
      "\n",
      "    :Class Distribution: 212 - Malignant, 357 - Benign\n",
      "\n",
      "    :Creator:  Dr. William H. Wolberg, W. Nick Street, Olvi L. Mangasarian\n",
      "\n",
      "    :Donor: Nick Street\n",
      "\n",
      "    :Date: November, 1995\n",
      "\n",
      "This is a copy of UCI ML Breast Cancer Wisconsin (Diagnostic) datasets.\n",
      "https://goo.gl/U2Uwz2\n",
      "\n",
      "Features are computed from a digitized image of a fine needle\n",
      "aspirate (FNA) of a breast mass.  They describe\n",
      "characteristics of the cell nuclei present in the image.\n",
      "\n",
      "Separating plane described above was obtained using\n",
      "Multisurface Method-Tree (MSM-T) [K. P. Bennett, \"Decision Tree\n",
      "Construction Via Linear Programming.\" Proceedings of the 4th\n",
      "Midwest Artificial Intelligence and Cognitive Science Society,\n",
      "pp. 97-101, 1992], a classification method which uses linear\n",
      "programming to construct a decision tree.  Relevant features\n",
      "were selected using an exhaustive search in the space of 1-4\n",
      "features and 1-3 separating planes.\n",
      "\n",
      "The actual linear program used to obtain the separating plane\n",
      "in the 3-dimensional space is that described in:\n",
      "[K. P. Bennett and O. L. Mangasarian: \"Robust Linear\n",
      "Programming Discrimination of Two Linearly Inseparable Sets\",\n",
      "Optimization Methods and Software 1, 1992, 23-34].\n",
      "\n",
      "This database is also available through the UW CS ftp server:\n",
      "\n",
      "ftp ftp.cs.wisc.edu\n",
      "cd math-prog/cpo-dataset/machine-learn/WDBC/\n",
      "\n",
      "References\n",
      "----------\n",
      "   - W.N. Street, W.H. Wolberg and O.L. Mangasarian. Nuclear feature extraction \n",
      "     for breast tumor diagnosis. IS&T/SPIE 1993 International Symposium on \n",
      "     Electronic Imaging: Science and Technology, volume 1905, pages 861-870,\n",
      "     San Jose, CA, 1993.\n",
      "   - O.L. Mangasarian, W.N. Street and W.H. Wolberg. Breast cancer diagnosis and \n",
      "     prognosis via linear programming. Operations Research, 43(4), pages 570-577, \n",
      "     July-August 1995.\n",
      "   - W.H. Wolberg, W.N. Street, and O.L. Mangasarian. Machine learning techniques\n",
      "     to diagnose breast cancer from fine-needle aspirates. Cancer Letters 77 (1994) \n",
      "     163-171.\n",
      "\n"
     ]
    }
   ],
   "source": [
    "#Some information about the dataset, understand what we are aiming for\n",
    "print(breast_cancer_data[\"DESCR\"])"
   ]
  },
  {
   "cell_type": "markdown",
   "metadata": {},
   "source": [
    "We analyze more details of the database. Rows define observations (instances of our classification problem). Columns represent variables captured in each observation.\n"
   ]
  },
  {
   "cell_type": "code",
   "execution_count": 40,
   "metadata": {},
   "outputs": [
    {
     "data": {
      "text/plain": [
       "array([[ 17.99   ,  10.38   , 122.8    , ...,   0.2654 ,   0.4601 ,\n",
       "          0.1189 ],\n",
       "       [ 20.57   ,  17.77   , 132.9    , ...,   0.186  ,   0.275  ,\n",
       "          0.08902],\n",
       "       [ 19.69   ,  21.25   , 130.     , ...,   0.243  ,   0.3613 ,\n",
       "          0.08758],\n",
       "       ...,\n",
       "       [ 16.6    ,  28.08   , 108.3    , ...,   0.1418 ,   0.2218 ,\n",
       "          0.0782 ],\n",
       "       [ 20.6    ,  29.33   , 140.1    , ...,   0.265  ,   0.4087 ,\n",
       "          0.124  ],\n",
       "       [  7.76   ,  24.54   ,  47.92   , ...,   0.     ,   0.2871 ,\n",
       "          0.07039]])"
      ]
     },
     "execution_count": 40,
     "metadata": {},
     "output_type": "execute_result"
    }
   ],
   "source": [
    "breast_cancer_data[\"data\"]"
   ]
  },
  {
   "cell_type": "markdown",
   "metadata": {},
   "source": [
    "Notice in the rows shown above that the range of values change among the columns. Some columns seem to have values between 0 and 1 and others much higher values. This has to be taken into account for the application of the classifiers. "
   ]
  },
  {
   "cell_type": "code",
   "execution_count": 41,
   "metadata": {},
   "outputs": [
    {
     "data": {
      "text/plain": [
       "array([0, 0, 0, 0, 0, 0, 0, 0, 0, 0, 0, 0, 0, 0, 0, 0, 0, 0, 0, 1, 1, 1,\n",
       "       0, 0, 0, 0, 0, 0, 0, 0, 0, 0, 0, 0, 0, 0, 0, 1, 0, 0, 0, 0, 0, 0,\n",
       "       0, 0, 1, 0, 1, 1, 1, 1, 1, 0, 0, 1, 0, 0, 1, 1, 1, 1, 0, 1, 0, 0,\n",
       "       1, 1, 1, 1, 0, 1, 0, 0, 1, 0, 1, 0, 0, 1, 1, 1, 0, 0, 1, 0, 0, 0,\n",
       "       1, 1, 1, 0, 1, 1, 0, 0, 1, 1, 1, 0, 0, 1, 1, 1, 1, 0, 1, 1, 0, 1,\n",
       "       1, 1, 1, 1, 1, 1, 1, 0, 0, 0, 1, 0, 0, 1, 1, 1, 0, 0, 1, 0, 1, 0,\n",
       "       0, 1, 0, 0, 1, 1, 0, 1, 1, 0, 1, 1, 1, 1, 0, 1, 1, 1, 1, 1, 1, 1,\n",
       "       1, 1, 0, 1, 1, 1, 1, 0, 0, 1, 0, 1, 1, 0, 0, 1, 1, 0, 0, 1, 1, 1,\n",
       "       1, 0, 1, 1, 0, 0, 0, 1, 0, 1, 0, 1, 1, 1, 0, 1, 1, 0, 0, 1, 0, 0,\n",
       "       0, 0, 1, 0, 0, 0, 1, 0, 1, 0, 1, 1, 0, 1, 0, 0, 0, 0, 1, 1, 0, 0,\n",
       "       1, 1, 1, 0, 1, 1, 1, 1, 1, 0, 0, 1, 1, 0, 1, 1, 0, 0, 1, 0, 1, 1,\n",
       "       1, 1, 0, 1, 1, 1, 1, 1, 0, 1, 0, 0, 0, 0, 0, 0, 0, 0, 0, 0, 0, 0,\n",
       "       0, 0, 1, 1, 1, 1, 1, 1, 0, 1, 0, 1, 1, 0, 1, 1, 0, 1, 0, 0, 1, 1,\n",
       "       1, 1, 1, 1, 1, 1, 1, 1, 1, 1, 1, 0, 1, 1, 0, 1, 0, 1, 1, 1, 1, 1,\n",
       "       1, 1, 1, 1, 1, 1, 1, 1, 1, 0, 1, 1, 1, 0, 1, 0, 1, 1, 1, 1, 0, 0,\n",
       "       0, 1, 1, 1, 1, 0, 1, 0, 1, 0, 1, 1, 1, 0, 1, 1, 1, 1, 1, 1, 1, 0,\n",
       "       0, 0, 1, 1, 1, 1, 1, 1, 1, 1, 1, 1, 1, 0, 0, 1, 0, 0, 0, 1, 0, 0,\n",
       "       1, 1, 1, 1, 1, 0, 1, 1, 1, 1, 1, 0, 1, 1, 1, 0, 1, 1, 0, 0, 1, 1,\n",
       "       1, 1, 1, 1, 0, 1, 1, 1, 1, 1, 1, 1, 0, 1, 1, 1, 1, 1, 0, 1, 1, 0,\n",
       "       1, 1, 1, 1, 1, 1, 1, 1, 1, 1, 1, 1, 0, 1, 0, 0, 1, 0, 1, 1, 1, 1,\n",
       "       1, 0, 1, 1, 0, 1, 0, 1, 1, 0, 1, 0, 1, 1, 1, 1, 1, 1, 1, 1, 0, 0,\n",
       "       1, 1, 1, 1, 1, 1, 0, 1, 1, 1, 1, 1, 1, 1, 1, 1, 1, 0, 1, 1, 1, 1,\n",
       "       1, 1, 1, 0, 1, 0, 1, 1, 0, 1, 1, 1, 1, 1, 0, 0, 1, 0, 1, 0, 1, 1,\n",
       "       1, 1, 1, 0, 1, 1, 0, 1, 0, 1, 0, 0, 1, 1, 1, 0, 1, 1, 1, 1, 1, 1,\n",
       "       1, 1, 1, 1, 1, 0, 1, 0, 0, 1, 1, 1, 1, 1, 1, 1, 1, 1, 1, 1, 1, 1,\n",
       "       1, 1, 1, 1, 1, 1, 1, 1, 1, 1, 1, 1, 0, 0, 0, 0, 0, 0, 1])"
      ]
     },
     "execution_count": 41,
     "metadata": {},
     "output_type": "execute_result"
    }
   ],
   "source": [
    "#Classes in the database\n",
    "breast_cancer_data[\"target\"]"
   ]
  },
  {
   "cell_type": "markdown",
   "metadata": {},
   "source": [
    "In the previous analysis, notice that we have used:   data[\"data\"] to visualize the features and data[\"target\"] to see the classes. "
   ]
  },
  {
   "cell_type": "markdown",
   "metadata": {},
   "source": [
    "### Learning and validating classifiers "
   ]
  },
  {
   "cell_type": "markdown",
   "metadata": {},
   "source": [
    "We define a logistic regression classifier"
   ]
  },
  {
   "cell_type": "code",
   "execution_count": 42,
   "metadata": {},
   "outputs": [],
   "source": [
    "lr = LogisticRegression()"
   ]
  },
  {
   "cell_type": "markdown",
   "metadata": {},
   "source": [
    "We estimate the classifier accuracy using k-fold cross-validation with k=5. The result of cross-validation will be the predictions for all instances"
   ]
  },
  {
   "cell_type": "code",
   "execution_count": 43,
   "metadata": {},
   "outputs": [],
   "source": [
    "prediction = cross_val_predict(lr,breast_cancer_data.data, breast_cancer_data.target,cv=5)"
   ]
  },
  {
   "cell_type": "code",
   "execution_count": 44,
   "metadata": {},
   "outputs": [
    {
     "name": "stdout",
     "output_type": "stream",
     "text": [
      "[0 0 0 1 0 0 0 0 0 0 0 0 0 1 0 0 0 0 0 1 1 1 0 0 0 0 0 0 0 0 0 0 0 0 0 0 0\n",
      " 1 1 1 1 1 0 0 1 0 1 0 1 1 1 1 1 0 0 1 0 0 1 1 1 1 0 1 0 0 1 1 1 1 0 1 0 1\n",
      " 1 0 1 0 0 1 1 1 0 0 1 0 1 0 1 1 1 1 0 1 0 0 1 1 1 0 0 1 1 1 1 0 1 1 0 1 1\n",
      " 1 1 1 1 1 1 0 0 0 1 0 0 1 1 1 0 0 1 0 1 0 0 1 0 1 1 1 0 1 1 0 1 1 1 1 1 1\n",
      " 1 1 1 1 1 1 1 1 0 0 1 1 1 0 0 1 0 1 1 0 0 1 1 0 0 1 1 1 1 0 1 1 0 0 0 1 0\n",
      " 1 0 1 1 1 0 1 1 0 1 1 0 0 0 0 1 0 0 0 1 0 1 0 1 1 0 1 0 0 0 1 1 1 0 0 1 1\n",
      " 1 0 1 1 1 1 1 0 0 1 1 0 1 1 0 0 0 0 1 1 1 1 0 1 1 1 1 1 0 1 0 0 0 0 0 0 0\n",
      " 0 0 0 0 0 0 0 1 1 1 1 1 1 0 1 0 1 1 0 1 1 0 1 0 0 1 1 1 1 1 1 0 1 1 1 1 1\n",
      " 1 1 1 1 0 1 0 1 1 1 1 1 1 1 1 1 1 1 1 1 1 0 1 1 1 0 1 0 1 1 1 1 0 0 0 1 1\n",
      " 1 1 0 1 0 1 0 1 1 1 0 1 1 1 1 1 1 1 0 0 0 1 1 1 1 1 1 1 1 1 1 1 0 0 1 0 0\n",
      " 0 1 0 0 1 1 1 1 1 0 1 1 1 1 1 1 1 1 1 0 1 1 0 0 1 1 1 1 1 1 0 1 1 1 1 1 1\n",
      " 1 0 1 1 1 1 0 0 1 1 0 1 1 1 1 1 1 1 1 1 1 1 1 0 1 0 0 1 0 1 1 1 1 1 0 1 1\n",
      " 0 1 0 1 1 0 1 0 1 1 1 0 1 1 1 1 0 0 1 1 1 0 1 1 0 1 1 1 1 1 1 1 0 1 1 0 1\n",
      " 1 1 1 1 1 1 0 1 0 1 0 0 1 1 1 1 1 0 0 1 0 1 0 1 1 1 1 1 0 1 1 0 1 0 1 0 0\n",
      " 1 1 1 0 1 1 1 1 1 1 1 1 1 1 1 0 1 0 1 1 1 1 1 0 1 1 1 1 1 1 1 1 1 1 1 1 1\n",
      " 1 1 1 1 1 1 1 0 0 0 0 0 0 1]\n"
     ]
    }
   ],
   "source": [
    "# Let us print the predictions\n",
    "print(prediction)"
   ]
  },
  {
   "cell_type": "markdown",
   "metadata": {},
   "source": [
    "With the prediction  and the target (true class value) we can compute different accuracy measures for the classifier.We do this for the accuracy metric below. "
   ]
  },
  {
   "cell_type": "code",
   "execution_count": 45,
   "metadata": {},
   "outputs": [
    {
     "name": "stdout",
     "output_type": "stream",
     "text": [
      "The accuracy of the logistic regression classifier, as computed using 5-fold crossvalidation, is:  0.9525483304042179\n"
     ]
    }
   ],
   "source": [
    "lr_accuracy = metrics.accuracy_score(breast_cancer_data.target, prediction) \n",
    "print(\"The accuracy of the logistic regression classifier, as computed using 5-fold crossvalidation, is: \",lr_accuracy)\n"
   ]
  },
  {
   "cell_type": "markdown",
   "metadata": {
    "collapsed": true
   },
   "source": [
    "We can also compute the confusion matrix for the predictions made by the logistic regression classifier"
   ]
  },
  {
   "cell_type": "code",
   "execution_count": 46,
   "metadata": {},
   "outputs": [
    {
     "name": "stdout",
     "output_type": "stream",
     "text": [
      "Confusion matrix for the predictions made by the logistic regression classifier:\n",
      "[[195  17]\n",
      " [ 10 347]]\n"
     ]
    }
   ],
   "source": [
    "lr_confusion_matrix = metrics.confusion_matrix(breast_cancer_data.target, prediction)\n",
    "print(\"Confusion matrix for the predictions made by the logistic regression classifier:\")\n",
    "print(lr_confusion_matrix)"
   ]
  },
  {
   "cell_type": "markdown",
   "metadata": {},
   "source": [
    "# Exercise 5"
   ]
  },
  {
   "cell_type": "markdown",
   "metadata": {},
   "source": [
    "Using the examples from the previous cells, and the information given in http://scikit-learn.org/stable/modules/model_evaluation.html#classification-metrics   \n",
    "\n",
    "Compute\n",
    "\n",
    "1.1) Precision and recall scores for the logistic regression classifier\n",
    "\n",
    "\n",
    "1.2) f1_score for the predictions made by a decision tree "
   ]
  },
  {
   "cell_type": "code",
   "execution_count": null,
   "metadata": {},
   "outputs": [],
   "source": []
  },
  {
   "cell_type": "code",
   "execution_count": null,
   "metadata": {},
   "outputs": [],
   "source": []
  },
  {
   "cell_type": "code",
   "execution_count": null,
   "metadata": {},
   "outputs": [],
   "source": []
  },
  {
   "cell_type": "code",
   "execution_count": null,
   "metadata": {},
   "outputs": [],
   "source": []
  },
  {
   "cell_type": "code",
   "execution_count": null,
   "metadata": {},
   "outputs": [],
   "source": []
  },
  {
   "cell_type": "code",
   "execution_count": null,
   "metadata": {},
   "outputs": [],
   "source": []
  },
  {
   "cell_type": "code",
   "execution_count": null,
   "metadata": {},
   "outputs": [],
   "source": []
  },
  {
   "cell_type": "markdown",
   "metadata": {},
   "source": [
    "# Exercise 6"
   ]
  },
  {
   "cell_type": "markdown",
   "metadata": {},
   "source": [
    "Program a function that receives one classifier (of any type), the training data, and the classes,  and outputs three metrics: accuracy, precision score and recall score, all computed using cross-validation. \n",
    "\n",
    "\n",
    "SUGGESTION: Complete the following function and test it in the following cell. "
   ]
  },
  {
   "cell_type": "code",
   "execution_count": 28,
   "metadata": {},
   "outputs": [
    {
     "ename": "SyntaxError",
     "evalue": "invalid syntax (<ipython-input-28-63f244c78916>, line 2)",
     "output_type": "error",
     "traceback": [
      "\u001b[0;36m  File \u001b[0;32m\"<ipython-input-28-63f244c78916>\"\u001b[0;36m, line \u001b[0;32m2\u001b[0m\n\u001b[0;31m    clf_prediction =\u001b[0m\n\u001b[0m                    ^\u001b[0m\n\u001b[0;31mSyntaxError\u001b[0m\u001b[0;31m:\u001b[0m invalid syntax\n"
     ]
    }
   ],
   "source": [
    "def my_scores_function(clf,train_data,train_class):\n",
    "    clf_prediction =\n",
    "    acc = \n",
    "    precision = \n",
    "    recall = \n",
    "    return acc,precision,recall\n",
    "\n",
    "    "
   ]
  },
  {
   "cell_type": "code",
   "execution_count": 48,
   "metadata": {},
   "outputs": [
    {
     "ename": "NameError",
     "evalue": "name 'my_scores_function' is not defined",
     "output_type": "error",
     "traceback": [
      "\u001b[0;31m---------------------------------------------------------------------------\u001b[0m",
      "\u001b[0;31mNameError\u001b[0m                                 Traceback (most recent call last)",
      "\u001b[0;32m<ipython-input-48-40f02f1b885a>\u001b[0m in \u001b[0;36m<module>\u001b[0;34m()\u001b[0m\n\u001b[1;32m      1\u001b[0m \u001b[0;31m# We will test the implemented function using a KNN classifier\u001b[0m\u001b[0;34m\u001b[0m\u001b[0;34m\u001b[0m\u001b[0m\n\u001b[1;32m      2\u001b[0m \u001b[0mknn\u001b[0m \u001b[0;34m=\u001b[0m \u001b[0mKNeighborsClassifier\u001b[0m\u001b[0;34m(\u001b[0m\u001b[0mn_neighbors\u001b[0m\u001b[0;34m=\u001b[0m \u001b[0;36m5\u001b[0m\u001b[0;34m,\u001b[0m \u001b[0mmetric\u001b[0m\u001b[0;34m=\u001b[0m\u001b[0;34m\"euclidean\"\u001b[0m\u001b[0;34m)\u001b[0m\u001b[0;34m\u001b[0m\u001b[0m\n\u001b[0;32m----> 3\u001b[0;31m \u001b[0mmy_scores_function\u001b[0m\u001b[0;34m(\u001b[0m\u001b[0mknn\u001b[0m\u001b[0;34m,\u001b[0m\u001b[0mbreast_cancer_data\u001b[0m\u001b[0;34m.\u001b[0m\u001b[0mdata\u001b[0m\u001b[0;34m,\u001b[0m \u001b[0mbreast_cancer_data\u001b[0m\u001b[0;34m.\u001b[0m\u001b[0mtarget\u001b[0m\u001b[0;34m)\u001b[0m\u001b[0;34m\u001b[0m\u001b[0m\n\u001b[0m\u001b[1;32m      4\u001b[0m \u001b[0;34m\u001b[0m\u001b[0m\n",
      "\u001b[0;31mNameError\u001b[0m: name 'my_scores_function' is not defined"
     ]
    }
   ],
   "source": [
    "# We will test the implemented function using a KNN classifier\n",
    "knn = KNeighborsClassifier(n_neighbors= 5, metric=\"euclidean\")\n",
    "my_scores_function(knn,breast_cancer_data.data, breast_cancer_data.target)    \n",
    "    "
   ]
  },
  {
   "cell_type": "markdown",
   "metadata": {
    "collapsed": true
   },
   "source": [
    "We define a standard scaler to scale all features in the dataset.\n"
   ]
  },
  {
   "cell_type": "code",
   "execution_count": 49,
   "metadata": {},
   "outputs": [],
   "source": [
    "scaler = preprocessing.StandardScaler()\n",
    "scaled_data = scaler.fit_transform(X=breast_cancer_data[\"data\"])\n",
    "#scaled_data"
   ]
  },
  {
   "cell_type": "markdown",
   "metadata": {
    "collapsed": true
   },
   "source": [
    "# Exercise 7\n",
    "\n",
    " Use the my_scores_function() to compute the accuracy, precision, and recall of a decision tree classifier that uses the scaled data."
   ]
  },
  {
   "cell_type": "code",
   "execution_count": null,
   "metadata": {},
   "outputs": [],
   "source": [
    "\n"
   ]
  },
  {
   "cell_type": "code",
   "execution_count": null,
   "metadata": {
    "collapsed": true
   },
   "outputs": [],
   "source": []
  },
  {
   "cell_type": "code",
   "execution_count": null,
   "metadata": {
    "scrolled": true
   },
   "outputs": [],
   "source": []
  },
  {
   "cell_type": "code",
   "execution_count": null,
   "metadata": {
    "scrolled": true
   },
   "outputs": [],
   "source": []
  },
  {
   "cell_type": "markdown",
   "metadata": {},
   "source": [
    "Scaling the data can improve the accuracy of some classifiers. We could morph the scaling and classification procedures into one single structure, in a way that both are applied with a single line of code. Below we use a pipeline with this purpose."
   ]
  },
  {
   "cell_type": "code",
   "execution_count": 50,
   "metadata": {},
   "outputs": [],
   "source": [
    "knn_scale = Pipeline([(\"scaler\", scaler), (\"k-NN\", knn)])"
   ]
  },
  {
   "cell_type": "markdown",
   "metadata": {},
   "source": [
    "# Exercise 8\n",
    "\n",
    "Create a pipeline  that uses one scaler, one feature  selection method that produces 10 features, and a support vector machine classifier.\n",
    "\n",
    "\n",
    "4.1) Compute the accuracy, precision, and recall of your pipeline. \n",
    "\n",
    "\n",
    "Suggestion: If needed, check sklearn web page help for feature extraction methods and support vector machine classifier definition. http://scikit-learn.org/0.18/index.html\n"
   ]
  },
  {
   "cell_type": "code",
   "execution_count": null,
   "metadata": {},
   "outputs": [],
   "source": []
  },
  {
   "cell_type": "code",
   "execution_count": null,
   "metadata": {},
   "outputs": [],
   "source": []
  },
  {
   "cell_type": "markdown",
   "metadata": {},
   "source": [
    "## TPOT: Optimizing Pipelines"
   ]
  },
  {
   "cell_type": "code",
   "execution_count": 55,
   "metadata": {},
   "outputs": [],
   "source": [
    "from tpot import TPOTClassifier"
   ]
  },
  {
   "cell_type": "markdown",
   "metadata": {},
   "source": [
    "Now, lets use TPOT, which is a bi-objective genetic programmig tool that generates pipelines automatically, by searching for the maximum accuracy, while also attempting to keep the pipelines simple."
   ]
  },
  {
   "cell_type": "markdown",
   "metadata": {},
   "source": [
    "### We define Tpot instance, similarly to the way it is done for a regular sklearn classifier."
   ]
  },
  {
   "cell_type": "code",
   "execution_count": 65,
   "metadata": {},
   "outputs": [],
   "source": [
    "tpot = TPOTClassifier(generations=5, population_size=10, verbosity=1, random_state=16)\n"
   ]
  },
  {
   "cell_type": "markdown",
   "metadata": {},
   "source": [
    "### Then use Tpot to \"learn\" a good pipeline  (it may take some time)"
   ]
  },
  {
   "cell_type": "code",
   "execution_count": 66,
   "metadata": {},
   "outputs": [
    {
     "name": "stdout",
     "output_type": "stream",
     "text": [
      "Warning: xgboost.XGBClassifier is not available and will not be used by TPOT.\n",
      "Best pipeline: RandomForestClassifier(GradientBoostingClassifier(input_matrix, learning_rate=0.5, max_depth=3, max_features=0.3, min_samples_leaf=18, min_samples_split=4, n_estimators=100, subsample=0.6500000000000001), bootstrap=False, criterion=entropy, max_features=0.55, min_samples_leaf=5, min_samples_split=4, n_estimators=100)\n"
     ]
    },
    {
     "data": {
      "text/plain": [
       "TPOTClassifier(config_dict=None, crossover_rate=0.1, cv=5,\n",
       "        disable_update_check=False, early_stop=None, generations=5,\n",
       "        max_eval_time_mins=5, max_time_mins=None, memory=None,\n",
       "        mutation_rate=0.9, n_jobs=1, offspring_size=None,\n",
       "        periodic_checkpoint_folder=None, population_size=10,\n",
       "        random_state=16, scoring=None, subsample=1.0, use_dask=False,\n",
       "        verbosity=1, warm_start=False)"
      ]
     },
     "execution_count": 66,
     "metadata": {},
     "output_type": "execute_result"
    }
   ],
   "source": [
    "tpot.fit(features=breast_cancer_data[\"data\"], target=breast_cancer_data[\"target\"])"
   ]
  },
  {
   "cell_type": "markdown",
   "metadata": {
    "collapsed": true
   },
   "source": [
    "Now we can see what the result is"
   ]
  },
  {
   "cell_type": "code",
   "execution_count": 64,
   "metadata": {},
   "outputs": [
    {
     "data": {
      "text/plain": [
       "[('stackingestimator',\n",
       "  StackingEstimator(estimator=GradientBoostingClassifier(criterion='friedman_mse', init=None,\n",
       "                learning_rate=0.5, loss='deviance', max_depth=3,\n",
       "                max_features=0.3, max_leaf_nodes=None,\n",
       "                min_impurity_decrease=0.0, min_impurity_split=None,\n",
       "                min_samples_leaf=18, min_samples_split=4,\n",
       "                min_weight_fraction_leaf=0.0, n_estimators=100,\n",
       "                presort='auto', random_state=None,\n",
       "                subsample=0.6500000000000001, verbose=0, warm_start=False))),\n",
       " ('randomforestclassifier',\n",
       "  RandomForestClassifier(bootstrap=False, class_weight=None,\n",
       "              criterion='entropy', max_depth=None, max_features=0.55,\n",
       "              max_leaf_nodes=None, min_impurity_decrease=0.0,\n",
       "              min_impurity_split=None, min_samples_leaf=5,\n",
       "              min_samples_split=4, min_weight_fraction_leaf=0.0,\n",
       "              n_estimators=100, n_jobs=1, oob_score=False, random_state=None,\n",
       "              verbose=0, warm_start=False))]"
      ]
     },
     "execution_count": 64,
     "metadata": {},
     "output_type": "execute_result"
    }
   ],
   "source": [
    "tpot.fitted_pipeline_.steps"
   ]
  },
  {
   "cell_type": "markdown",
   "metadata": {},
   "source": [
    "Subjecting our data to a TPOT execution, with the provided configurations, suggests that the previous pipeline is the best way to build a classifier."
   ]
  },
  {
   "cell_type": "markdown",
   "metadata": {},
   "source": []
  },
  {
   "cell_type": "markdown",
   "metadata": {},
   "source": [
    "## Exercise 9\n",
    "\n",
    "\n",
    "Moving forward to a real classification problem we address the problem of classifying an image into a digit from 0 to 9. We will use the digit dataset in sklearn that contains 8x8 images of digits. \n",
    "\n",
    "9.1) Load the digits dataset from the sklearn library (you already have examples of how to read a sklearn dataset), understand how it is structured, and get used to it.\n",
    "\n",
    "9.2) Define and fit one of the following  classifiers using the data [logistic regression, LDA, decision-tree, random forest, knn]\n",
    "\n",
    "9.3) Use cross-validation to estimate the accuracy, recall, and precision of the classifier.\n"
   ]
  },
  {
   "cell_type": "markdown",
   "metadata": {},
   "source": [
    "## Exercise 10\n",
    "\n",
    "We address the problem of identifying the wine type (among three different italian wines) from a set of 13 characteristics of the wine. We will use the wine dataset in sklearn. \n",
    "\n",
    "10.1) Load the wine dataset from the sklearn library, understand how it is structured, and get used to it.\n",
    "\n",
    "10.2) Use a pre-processing method to transform the data before feeding it to the classifier\n",
    "\n",
    "10.3) Create a Pipeline which includes (at least) one preprocessing \n",
    "method, and a classifier.\n",
    "\n",
    "10.4) Evaluate the pipeline using cross-validation"
   ]
  },
  {
   "cell_type": "markdown",
   "metadata": {},
   "source": [
    "## Exercise 11\n",
    "For the two databases considered in exercises 9 and 10, use TPOT to \n",
    "find a near-optimal pipeline for each dataset.\n",
    "\n"
   ]
  },
  {
   "cell_type": "code",
   "execution_count": null,
   "metadata": {},
   "outputs": [],
   "source": []
  },
  {
   "cell_type": "markdown",
   "metadata": {
    "collapsed": true
   },
   "source": [
    "## Exercise 12\n",
    "\n",
    "In the previous class we have learned how a Decision Tree Classifier works. In this exercise, we are going to observe how this classification algorithm performs, and how to interpret its results.\n",
    "\n",
    "12.1) Load one of the datasets that have been used in this notebook (digits, wine, or breast).\n",
    "\n",
    "12.2) Learn a Decision Tree classifier, by using the implementation in sklearn.\n",
    "\n",
    "12.3) Using 5-fold cross validation, determine the f-score of the model.\n",
    "\n",
    "12.4) Change the hyperparameters of the classifier you are familiar with to see whether the accuracy can be improved (print the classifier object to see the tunable hyperparameters).\n",
    "\n",
    "12.5) Use the graphviz extension to save a graphical representation of the tree, and visualize it (see an example of how to use this command below).\n",
    "\n",
    "12.6) What are the most important features for the classifier that was learned?"
   ]
  },
  {
   "cell_type": "code",
   "execution_count": 2,
   "metadata": {},
   "outputs": [],
   "source": [
    "from sklearn.tree import DecisionTreeClassifier\n",
    "from sklearn import tree\n"
   ]
  },
  {
   "cell_type": "code",
   "execution_count": null,
   "metadata": {},
   "outputs": [],
   "source": []
  },
  {
   "cell_type": "code",
   "execution_count": 13,
   "metadata": {},
   "outputs": [],
   "source": [
    "tree.export_graphviz(clf, out_file='tree.dot')  # use \"dot -Tpng tree.dot -o tree.png\" in command line,\n",
    "                                                # or copy the code in the tree.dot file to https://dreampuf.github.io/GraphvizOnline/"
   ]
  },
  {
   "cell_type": "code",
   "execution_count": 5,
   "metadata": {},
   "outputs": [],
   "source": []
  },
  {
   "cell_type": "code",
   "execution_count": 6,
   "metadata": {},
   "outputs": [],
   "source": []
  },
  {
   "cell_type": "code",
   "execution_count": 7,
   "metadata": {},
   "outputs": [
    {
     "data": {
      "text/plain": [
       "DecisionTreeClassifier(class_weight=None, criterion='gini', max_depth=None,\n",
       "            max_features=None, max_leaf_nodes=None,\n",
       "            min_impurity_decrease=0.0, min_impurity_split=None,\n",
       "            min_samples_leaf=1, min_samples_split=2,\n",
       "            min_weight_fraction_leaf=0.0, presort=False, random_state=None,\n",
       "            splitter='best')"
      ]
     },
     "execution_count": 7,
     "metadata": {},
     "output_type": "execute_result"
    }
   ],
   "source": []
  },
  {
   "cell_type": "code",
   "execution_count": 8,
   "metadata": {},
   "outputs": [],
   "source": []
  },
  {
   "cell_type": "code",
   "execution_count": null,
   "metadata": {},
   "outputs": [],
   "source": []
  }
 ],
 "metadata": {
  "kernelspec": {
   "display_name": "Python 3",
   "language": "python",
   "name": "python3"
  },
  "language_info": {
   "codemirror_mode": {
    "name": "ipython",
    "version": 3
   },
   "file_extension": ".py",
   "mimetype": "text/x-python",
   "name": "python",
   "nbconvert_exporter": "python",
   "pygments_lexer": "ipython3",
   "version": "3.7.3"
  }
 },
 "nbformat": 4,
 "nbformat_minor": 2
}
