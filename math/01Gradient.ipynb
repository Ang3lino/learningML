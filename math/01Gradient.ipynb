{
 "cells": [
  {
   "cell_type": "markdown",
   "metadata": {},
   "source": [
    "# Descendent gradient \n",
    "Implementation from scratch"
   ]
  },
  {
   "cell_type": "code",
   "execution_count": null,
   "metadata": {},
   "outputs": [],
   "source": [
    "import numpy as np\n",
    "import matplotlib.pyplot as plt\n",
    "\n",
    "import random\n",
    "import functools"
   ]
  },
  {
   "cell_type": "markdown",
   "metadata": {},
   "source": [
    "## Dataset \n",
    "The dataset consist in a not-sorted set of pairs $\\{x_i, y_i\\}$"
   ]
  },
  {
   "cell_type": "code",
   "execution_count": null,
   "metadata": {},
   "outputs": [],
   "source": [
    "\n",
    "\n",
    "def sort_by_col(mat, i):\n",
    "    return mat[mat[:, i].argsort()]\n",
    "\n",
    "\n",
    "points = np.genfromtxt(\"data.csv\", delimiter=\",\")\n",
    "print(points.shape)\n",
    "points = sort_by_col(points, 0)"
   ]
  },
  {
   "cell_type": "code",
   "execution_count": 150,
   "metadata": {},
   "outputs": [
    {
     "data": {
      "image/png": "[encoded data removed]",
      "text/plain": [
       "<Figure size 432x288 with 1 Axes>"
      ]
     },
     "metadata": {
      "needs_background": "light"
     },
     "output_type": "display_data"
    }
   ],
   "source": [
    "plt.scatter(points[:, 0], points[:, 1])\n",
    "plt.show()"
   ]
  },
  {
   "cell_type": "markdown",
   "metadata": {},
   "source": [
    "# Implementation and use of the gradient\n",
    "We compute the gradient of a function $f(x_0, \\dots, x_{n-1}$ by using the definition of the partial derivative\n",
    "\n",
    "$$ \\frac{\\partial f}{\\partial x_i} = \\lim_{h\\rightarrow 0} \n",
    "\\frac{f(x_0, \\dots,x_i + h, \\dots, x_{n-1}) - f(x_0, \\dots, x_{n-1})}{h} $$\n",
    "\n",
    "We just make $h \\rightarrow 0$ ."
   ]
  },
  {
   "cell_type": "code",
   "execution_count": 77,
   "metadata": {},
   "outputs": [],
   "source": [
    "def partial_derivative_quotient(f, v, i, h):\n",
    "    w = np.array([v_j + (h if i == j else 0) for j, v_j in enumerate(v)])\n",
    "    return (f(w) - f(v)) / h\n",
    "\n",
    "def estimate_gradient(f, v, h=0.00001):\n",
    "    return np.array([partial_derivative_quotient(f, v, i, h) \n",
    "                     for i, _ in enumerate(v)])"
   ]
  },
  {
   "cell_type": "code",
   "execution_count": 154,
   "metadata": {},
   "outputs": [
    {
     "name": "stdout",
     "output_type": "stream",
     "text": [
      "v = [-5, 1]\n",
      "f(v) = 26\n",
      "df(v) = [-10   2]\n",
      "df(v) (by limit) = [-9.99999  2.00001]\n"
     ]
    }
   ],
   "source": [
    "def f(v):\n",
    "    x, y = v[0], v[1]\n",
    "    return x**2 + y**2\n",
    "\n",
    "def df(v):\n",
    "    x, y = v[0], v[1]\n",
    "    return np.array([2*x, 2*y])\n",
    "\n",
    "\n",
    "v = [random.randint(-10, 10) for _ in range(2)]\n",
    "print(f'v = {v}')\n",
    "print(f'f(v) = {f(v)}')\n",
    "print(f'df(v) = {df(v)}')\n",
    "print(f'df(v) (by limit) = {estimate_gradient(f, v)}')\n"
   ]
  },
  {
   "cell_type": "code",
   "execution_count": null,
   "metadata": {},
   "outputs": [],
   "source": []
  },
  {
   "cell_type": "code",
   "execution_count": 108,
   "metadata": {},
   "outputs": [],
   "source": [
    "\n",
    "def safe(f, *args, **kwargs):\n",
    "    def safe_f(*args, **kwargs):\n",
    "        try:\n",
    "            return f(*args, **kwargs)\n",
    "        except:\n",
    "            return float('inf')\n",
    "    return safe_f\n",
    "\n",
    "def descendent_gradient(target_fn, gradient_fn,  theta_0, \n",
    "                        lr=0.001, tol=0.001, max_iter=1000):\n",
    "    '''target_fn returns the error for the entire dataset'''\n",
    "    theta = theta_0\n",
    "    value = target_fn(theta)\n",
    "    for epoch in range(max_iter):\n",
    "        theta = theta - lr*gradient_fn(theta)\n",
    "        next_v = target_fn(theta)\n",
    "        if abs(value - next_v) < tol:\n",
    "            return theta\n",
    "        value = next_v\n",
    "    print('MAX ITER REACHED')\n",
    "    return theta  # max iterations reached\n",
    "\n",
    "def mse(theta, x, y):\n",
    "    return sum((y_i - theta.dot(x_i)) ** 2 for x_i, y_i in zip(x, y)) / x.shape[0]"
   ]
  },
  {
   "cell_type": "code",
   "execution_count": 156,
   "metadata": {},
   "outputs": [],
   "source": []
  },
  {
   "cell_type": "code",
   "execution_count": 157,
   "metadata": {},
   "outputs": [
    {
     "name": "stdout",
     "output_type": "stream",
     "text": [
      "(100, 2)\n",
      "[[ 1.         25.12848465]\n",
      " [ 1.         31.588117  ]\n",
      " [ 1.         32.50234527]\n",
      " [ 1.         32.66904376]\n",
      " [ 1.         32.94047994]]\n"
     ]
    }
   ],
   "source": [
    "X, y = points[:, 0], points[:, 1]\n",
    "\n",
    "# add bias to X\n",
    "m = len(X)\n",
    "one_column = np.ones((m, 1))\n",
    "X_with_bias = np.c_[one_column, X]\n",
    "print(X_with_bias.shape)\n",
    "print(X_with_bias[:5])"
   ]
  },
  {
   "cell_type": "code",
   "execution_count": 162,
   "metadata": {},
   "outputs": [
    {
     "data": {
      "text/plain": [
       "787.5466436213371"
      ]
     },
     "execution_count": 162,
     "metadata": {},
     "output_type": "execute_result"
    }
   ],
   "source": [
    "theta_0 = np.array([random.randint(-10, 10) for _ in range(2)])\n",
    "loss = functools.partial(mse, x=X_with_bias, y=y)\n",
    "loss(theta_0)"
   ]
  },
  {
   "cell_type": "code",
   "execution_count": 163,
   "metadata": {},
   "outputs": [
    {
     "data": {
      "text/plain": [
       "array([  50.36327473, 2593.16669228])"
      ]
     },
     "execution_count": 163,
     "metadata": {},
     "output_type": "execute_result"
    }
   ],
   "source": [
    "grad_loss = functools.partial(estimate_gradient, loss)\n",
    "grad_loss(theta_0)"
   ]
  },
  {
   "cell_type": "code",
   "execution_count": 164,
   "metadata": {},
   "outputs": [
    {
     "name": "stdout",
     "output_type": "stream",
     "text": [
      "MAX ITER REACHED\n"
     ]
    }
   ],
   "source": [
    "theta_update = descendent_gradient(loss, grad_loss, theta_0, \n",
    "                                   lr=0.00001, tol=0.000001, max_iter=10000)"
   ]
  },
  {
   "cell_type": "code",
   "execution_count": 165,
   "metadata": {},
   "outputs": [
    {
     "name": "stdout",
     "output_type": "stream",
     "text": [
      "loss([0.04998523 1.47850466]) = 112.63810805104391\n"
     ]
    }
   ],
   "source": [
    "print(f'loss({theta_update}) = {loss(theta_update)}')"
   ]
  },
  {
   "cell_type": "code",
   "execution_count": 167,
   "metadata": {},
   "outputs": [
    {
     "name": "stdout",
     "output_type": "stream",
     "text": [
      "[53.45439421 50.39267014 31.70700585 45.57058882 67.17065577]\n",
      "[37.20256695355439, 46.7531635030627, 48.104854265006196, 48.35131876567564, 48.75263842218328]\n"
     ]
    }
   ],
   "source": [
    "y_pred = [theta_update.dot(x) for x in X_with_bias]\n",
    "print(y[:5])\n",
    "print(y_pred[:5])"
   ]
  },
  {
   "cell_type": "code",
   "execution_count": 171,
   "metadata": {},
   "outputs": [
    {
     "data": {
      "image/png": "[encoded data removed]",
      "text/plain": [
       "<Figure size 432x288 with 1 Axes>"
      ]
     },
     "metadata": {
      "needs_background": "light"
     },
     "output_type": "display_data"
    }
   ],
   "source": [
    "plt.plot()\n",
    "plt.plot(X, y_pred, color='red')\n",
    "plt.scatter(X, y)\n",
    "plt.show()"
   ]
  },
  {
   "cell_type": "code",
   "execution_count": null,
   "metadata": {},
   "outputs": [],
   "source": []
  }
 ],
 "metadata": {
  "kernelspec": {
   "display_name": "Python 3",
   "language": "python",
   "name": "python3"
  },
  "language_info": {
   "codemirror_mode": {
    "name": "ipython",
    "version": 3
   },
   "file_extension": ".py",
   "mimetype": "text/x-python",
   "name": "python",
   "nbconvert_exporter": "python",
   "pygments_lexer": "ipython3",
   "version": "3.7.6"
  }
 },
 "nbformat": 4,
 "nbformat_minor": 4
}
