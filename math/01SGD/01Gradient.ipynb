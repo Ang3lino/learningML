{
 "cells": [
  {
   "cell_type": "markdown",
   "metadata": {},
   "source": [
    "# Descendent gradient \n",
    "Implementation from scratch"
   ]
  },
  {
   "cell_type": "code",
   "execution_count": 1,
   "metadata": {},
   "outputs": [],
   "source": [
    "import numpy as np\n",
    "import matplotlib.pyplot as plt\n",
    "\n",
    "import random\n",
    "import functools"
   ]
  },
  {
   "cell_type": "markdown",
   "metadata": {},
   "source": [
    "## Dataset \n",
    "The dataset consist in a not-sorted set of pairs $\\{x_i, y_i\\}$"
   ]
  },
  {
   "cell_type": "code",
   "execution_count": 2,
   "metadata": {},
   "outputs": [
    {
     "name": "stdout",
     "output_type": "stream",
     "text": [
      "(100, 2)\n"
     ]
    }
   ],
   "source": [
    "\n",
    "\n",
    "def sort_by_col(mat, i):\n",
    "    return mat[mat[:, i].argsort()]\n",
    "\n",
    "\n",
    "points = np.genfromtxt(\"data.csv\", delimiter=\",\")\n",
    "print(points.shape)\n",
    "points = sort_by_col(points, 0)"
   ]
  },
  {
   "cell_type": "code",
   "execution_count": 3,
   "metadata": {},
   "outputs": [
    {
     "data": {
      "image/png": "[encoded data removed]",
      "text/plain": [
       "<Figure size 432x288 with 1 Axes>"
      ]
     },
     "metadata": {
      "needs_background": "light"
     },
     "output_type": "display_data"
    }
   ],
   "source": [
    "plt.scatter(points[:, 0], points[:, 1])\n",
    "plt.show()"
   ]
  },
  {
   "cell_type": "markdown",
   "metadata": {},
   "source": [
    "# Implementation and use of the gradient\n",
    "We compute the gradient of a function $f(x_0, \\dots, x_{n-1}$ by using the definition of the partial derivative\n",
    "\n",
    "$$ \\frac{\\partial f}{\\partial x_i} = \\lim_{h\\rightarrow 0} \n",
    "\\frac{f(x_0, \\dots,x_i + h, \\dots, x_{n-1}) - f(x_0, \\dots, x_{n-1})}{h} $$\n",
    "\n",
    "We just make $h \\rightarrow 0$ ."
   ]
  },
  {
   "cell_type": "code",
   "execution_count": 4,
   "metadata": {},
   "outputs": [],
   "source": [
    "def partial_derivative_quotient(f, v, i, h):\n",
    "    w = np.array([v_j + (h if i == j else 0) for j, v_j in enumerate(v)])\n",
    "    return (f(w) - f(v)) / h\n",
    "\n",
    "def estimate_gradient(f, v, h=0.00001):\n",
    "    return np.array([partial_derivative_quotient(f, v, i, h) \n",
    "                     for i, _ in enumerate(v)])"
   ]
  },
  {
   "cell_type": "code",
   "execution_count": 5,
   "metadata": {},
   "outputs": [
    {
     "name": "stdout",
     "output_type": "stream",
     "text": [
      "v = [9, -1]\n",
      "f(v) = 82\n",
      "df(v) = [18 -2]\n",
      "df(v) (by limit) = [18.00001 -1.99999]\n"
     ]
    }
   ],
   "source": [
    "def f(v):\n",
    "    x, y = v[0], v[1]\n",
    "    return x**2 + y**2\n",
    "\n",
    "def df(v):\n",
    "    x, y = v[0], v[1]\n",
    "    return np.array([2*x, 2*y])\n",
    "\n",
    "\n",
    "v = [random.randint(-10, 10) for _ in range(2)]\n",
    "print(f'v = {v}')\n",
    "print(f'f(v) = {f(v)}')\n",
    "print(f'df(v) = {df(v)}')\n",
    "print(f'df(v) (by limit) = {estimate_gradient(f, v)}')\n"
   ]
  },
  {
   "cell_type": "markdown",
   "metadata": {},
   "source": []
  },
  {
   "cell_type": "markdown",
   "metadata": {},
   "source": [
    "## Descendent gradient\n",
    "\n",
    "In particular for the mse for linear regression we have\n",
    "$$ \n",
    "\\begin{align}\n",
    "    MSE_\\Theta = \\frac{1}{m}\\sum_i (y_i - h_\\theta(x_i))^2 \\\\\n",
    "               = \\frac{1}{m}\\sum_i (y_i - \\theta_0 - \\theta_1 x_i )^2  \n",
    "\\end{align}\n",
    "$$\n",
    "\n",
    "$$\n",
    "\\begin{align}\n",
    "    \\nabla_{\\theta_j} MSE = -\\frac{2}{m}\\sum_i(y_i - h_\\theta(x_i)) x_j\n",
    "\\end{align}\n",
    "$$\n",
    " \n",
    "We can plug this equation to compute the gradient, however we'll prove our gradient estimation works."
   ]
  },
  {
   "cell_type": "code",
   "execution_count": 6,
   "metadata": {},
   "outputs": [],
   "source": [
    "\n",
    "def safe(f, *args, **kwargs):\n",
    "    def safe_f(*args, **kwargs):\n",
    "        try:\n",
    "            return f(*args, **kwargs)\n",
    "        except:\n",
    "            return float('inf')\n",
    "    return safe_f\n",
    "\n",
    "def descendent_gradient(target_fn, gradient_fn,  theta_0, \n",
    "                        lr=0.001, tol=0.001, max_iter=1000):\n",
    "    '''target_fn returns the error for the entire dataset'''\n",
    "    theta = theta_0\n",
    "    value = target_fn(theta)\n",
    "    for epoch in range(max_iter):\n",
    "        theta = theta - lr*gradient_fn(theta)\n",
    "        next_v = target_fn(theta)\n",
    "        if abs(value - next_v) < tol:\n",
    "            return theta\n",
    "        value = next_v\n",
    "    print('MAX ITER REACHED')\n",
    "    return theta  # max iterations reached\n",
    "\n",
    "def mse(theta, x, y):\n",
    "    return sum((y_i - theta.dot(x_i)) ** 2 for x_i, y_i in zip(x, y)) / len(x)"
   ]
  },
  {
   "cell_type": "code",
   "execution_count": null,
   "metadata": {},
   "outputs": [],
   "source": []
  },
  {
   "cell_type": "code",
   "execution_count": 7,
   "metadata": {},
   "outputs": [
    {
     "name": "stdout",
     "output_type": "stream",
     "text": [
      "(100, 2)\n",
      "[[ 1.         25.12848465]\n",
      " [ 1.         31.588117  ]\n",
      " [ 1.         32.50234527]\n",
      " [ 1.         32.66904376]\n",
      " [ 1.         32.94047994]]\n"
     ]
    }
   ],
   "source": [
    "X, y = points[:, 0], points[:, 1]\n",
    "\n",
    "# add bias to X\n",
    "m = len(X)\n",
    "one_column = np.ones((m, 1))\n",
    "X_with_bias = np.c_[one_column, X]\n",
    "print(X_with_bias.shape)\n",
    "print(X_with_bias[:5])"
   ]
  },
  {
   "cell_type": "code",
   "execution_count": 8,
   "metadata": {},
   "outputs": [
    {
     "data": {
      "text/plain": [
       "34163.64251510339"
      ]
     },
     "execution_count": 8,
     "metadata": {},
     "output_type": "execute_result"
    }
   ],
   "source": [
    "theta_0 = np.array([random.randint(-10, 10) for _ in range(2)])\n",
    "loss = functools.partial(mse, x=X_with_bias, y=y)\n",
    "loss(theta_0)"
   ]
  },
  {
   "cell_type": "code",
   "execution_count": 9,
   "metadata": {},
   "outputs": [
    {
     "data": {
      "text/plain": [
       "array([  362.11332263, 18420.18397001])"
      ]
     },
     "execution_count": 9,
     "metadata": {},
     "output_type": "execute_result"
    }
   ],
   "source": [
    "grad_loss = functools.partial(estimate_gradient, loss)\n",
    "grad_loss(theta_0)"
   ]
  },
  {
   "cell_type": "code",
   "execution_count": 10,
   "metadata": {},
   "outputs": [
    {
     "name": "stdout",
     "output_type": "stream",
     "text": [
      "CPU times: user 166 ms, sys: 3.73 ms, total: 170 ms\n",
      "Wall time: 169 ms\n"
     ]
    }
   ],
   "source": [
    "%time theta_update = descendent_gradient(loss, grad_loss, theta_0, lr=0.00001, tol=0.000001, max_iter=10000)"
   ]
  },
  {
   "cell_type": "code",
   "execution_count": 11,
   "metadata": {},
   "outputs": [
    {
     "name": "stdout",
     "output_type": "stream",
     "text": [
      "loss([8.92720625 1.30408476]) = 110.2904793075699\n"
     ]
    }
   ],
   "source": [
    "print(f'loss({theta_update}) = {loss(theta_update)}')"
   ]
  },
  {
   "cell_type": "code",
   "execution_count": 12,
   "metadata": {},
   "outputs": [
    {
     "name": "stdout",
     "output_type": "stream",
     "text": [
      "[53.45439421 50.39267014 31.70700585 45.57058882 67.17065577]\n",
      "[41.69688022982846, 50.12078836126562, 51.31301952103652, 51.53040848732123, 51.88438427304682]\n"
     ]
    }
   ],
   "source": [
    "y_pred = [theta_update.dot(x) for x in X_with_bias]\n",
    "print(y[:5])\n",
    "print(y_pred[:5])"
   ]
  },
  {
   "cell_type": "code",
   "execution_count": 13,
   "metadata": {},
   "outputs": [
    {
     "data": {
      "image/png": "[encoded data removed]",
      "text/plain": [
       "<Figure size 432x288 with 1 Axes>"
      ]
     },
     "metadata": {
      "needs_background": "light"
     },
     "output_type": "display_data"
    }
   ],
   "source": [
    "\n",
    "def plot_model(X, y, y_pred):\n",
    "    plt.plot()\n",
    "    plt.plot(X, y_pred, color='red')\n",
    "    plt.scatter(X, y)\n",
    "    plt.show()\n",
    "\n",
    "    \n",
    "plot_model(X, y, y_pred)"
   ]
  },
  {
   "cell_type": "markdown",
   "metadata": {},
   "source": [
    "Sometimes we’ll instead want to maximize a function, which we can do by minimiz‐\n",
    "ing its negative."
   ]
  },
  {
   "cell_type": "code",
   "execution_count": 14,
   "metadata": {},
   "outputs": [],
   "source": [
    "def negate(f):\n",
    "    \"\"\"return a function that for any input x returns -f(x)\"\"\"\n",
    "    return lambda *args, **kwargs: -f(*args, **kwargs)\n",
    "\n",
    "def negate_all(f):\n",
    "    \"\"\"the same when f returns a list of numbers\"\"\"\n",
    "    return lambda *args, **kwargs: [-y for y in f(*args, **kwargs)]\n",
    "\n",
    "def maximize_batch(target_fn, gradient_fn, theta_0, tolerance=0.000001):\n",
    "    return minimize_batch(negate(target_fn),\n",
    "            negate_all(gradient_fn),\n",
    "            theta_0,\n",
    "            tolerance)"
   ]
  },
  {
   "cell_type": "markdown",
   "metadata": {},
   "source": [
    "## Stochastic gradient descent\n",
    "\n",
    "computes the gradient (and takes a step) for only one point at a time.\n",
    "It cycles over our data repeatedly until it reaches a stopping point."
   ]
  },
  {
   "cell_type": "code",
   "execution_count": 15,
   "metadata": {},
   "outputs": [],
   "source": [
    "def in_random_order(x, y):\n",
    "    \"\"\"generator that returns the elements of data in random order\"\"\"\n",
    "    indexes = [i for i, _ in enumerate(x)]  # create a list of indexes\n",
    "    random.shuffle(indexes)\n",
    "    for i in indexes:\n",
    "        yield x[i], y[i]\n",
    "        \n",
    "def minimize_stochastic(target_fn, gradient_fn, x, y, theta_0, alpha_0=0.01):\n",
    "    theta = theta_0\n",
    "    alpha = alpha_0\n",
    "    min_theta, min_value = None, float(\"inf\")\n",
    "    iterations_with_no_improvement = 0\n",
    "\n",
    "    # if we ever go 100 iterations with no improvement, stop\n",
    "    while iterations_with_no_improvement < 100:\n",
    "        value = sum( target_fn(x_i, y_i, theta) for x_i, y_i in zip(x, y) )\n",
    "        if value < min_value:\n",
    "            # if we've found a new minimum, remember it\n",
    "            # and go back to the original step size\n",
    "            min_theta, min_value = theta, value\n",
    "            iterations_with_no_improvement = 0\n",
    "            alpha = alpha_0\n",
    "        else:\n",
    "            # otherwise we're not improving, so try shrinking the step size\n",
    "            iterations_with_no_improvement += 1\n",
    "            alpha *= 0.9\n",
    "\n",
    "        # and take a gradient step for each of the data points\n",
    "        for x_i, y_i in in_random_order(x, y):\n",
    "            gradient_i = gradient_fn(x_i, y_i, theta)\n",
    "            theta = theta - alpha*gradient_i  # vector_subtract(theta, scalar_multiply(alpha, gradient_i))\n",
    "    return min_theta"
   ]
  },
  {
   "cell_type": "markdown",
   "metadata": {},
   "source": [
    "Compute the gradient per each point, in practice we should divide the gradient by the size of the dataset in order to avoid overflow. The election of the most optimal hyperparameters is easier with this approach."
   ]
  },
  {
   "cell_type": "code",
   "execution_count": 16,
   "metadata": {},
   "outputs": [],
   "source": [
    "m = len(X_with_bias)\n",
    "\n",
    "\n",
    "def grad_mse_j(x_i, y_i, theta, j):\n",
    "    return -2*(y_i - theta.dot(x_i))* x_i[j] / m\n",
    "\n",
    "def grad_mse(x_i, y_i, theta):\n",
    "    return np.array([grad_mse_j(x_i, y_i, theta, j) for j, _ in enumerate(theta)])\n",
    "\n",
    "def err_fn(x_i, y_i, theta):\n",
    "    return (y_i - theta.dot(x_i))**2 / m"
   ]
  },
  {
   "cell_type": "code",
   "execution_count": 17,
   "metadata": {},
   "outputs": [
    {
     "name": "stdout",
     "output_type": "stream",
     "text": [
      "CPU times: user 53 µs, sys: 5 µs, total: 58 µs\n",
      "Wall time: 63.4 µs\n"
     ]
    }
   ],
   "source": [
    "%time theta_0 = np.array([random.randint(-10, 10) for _ in X_with_bias[0]])\n",
    "theta_hat = minimize_stochastic(err_fn, grad_mse, X_with_bias, y, theta_0)"
   ]
  },
  {
   "cell_type": "code",
   "execution_count": 18,
   "metadata": {},
   "outputs": [
    {
     "name": "stdout",
     "output_type": "stream",
     "text": [
      "[7.8620928  1.32501848]\n"
     ]
    }
   ],
   "source": [
    "print(theta_hat)"
   ]
  },
  {
   "cell_type": "code",
   "execution_count": 19,
   "metadata": {},
   "outputs": [
    {
     "data": {
      "text/plain": [
       "110.25801813754236"
      ]
     },
     "execution_count": 19,
     "metadata": {},
     "output_type": "execute_result"
    }
   ],
   "source": [
    "loss(theta_hat)"
   ]
  },
  {
   "cell_type": "code",
   "execution_count": 20,
   "metadata": {},
   "outputs": [
    {
     "data": {
      "image/png": "[encoded data removed]",
      "text/plain": [
       "<Figure size 432x288 with 1 Axes>"
      ]
     },
     "metadata": {
      "needs_background": "light"
     },
     "output_type": "display_data"
    }
   ],
   "source": [
    "def predict(theta, X):\n",
    "    return [theta.dot(x) for x in X]\n",
    "\n",
    "y_pred = predict(theta_hat, X_with_bias)\n",
    "plot_model(X, y, y_pred)"
   ]
  },
  {
   "cell_type": "code",
   "execution_count": null,
   "metadata": {},
   "outputs": [],
   "source": []
  },
  {
   "cell_type": "code",
   "execution_count": null,
   "metadata": {},
   "outputs": [],
   "source": []
  },
  {
   "cell_type": "code",
   "execution_count": null,
   "metadata": {},
   "outputs": [],
   "source": []
  }
 ],
 "metadata": {
  "kernelspec": {
   "display_name": "Python 3",
   "language": "python",
   "name": "python3"
  },
  "language_info": {
   "codemirror_mode": {
    "name": "ipython",
    "version": 3
   },
   "file_extension": ".py",
   "mimetype": "text/x-python",
   "name": "python",
   "nbconvert_exporter": "python",
   "pygments_lexer": "ipython3",
   "version": "3.7.6"
  }
 },
 "nbformat": 4,
 "nbformat_minor": 4
}
