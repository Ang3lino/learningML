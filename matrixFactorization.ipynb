{
  "nbformat": 4,
  "nbformat_minor": 0,
  "metadata": {
    "colab": {
      "name": "matrixFactorization.ipynb",
      "provenance": [],
      "collapsed_sections": [],
      "authorship_tag": "ABX9TyO8wFiO2emqTUUAkWvygOK6",
      "include_colab_link": true
    },
    "kernelspec": {
      "name": "python3",
      "display_name": "Python 3"
    },
    "accelerator": "GPU"
  },
  "cells": [
    {
      "cell_type": "markdown",
      "metadata": {
        "id": "view-in-github",
        "colab_type": "text"
      },
      "source": [
        "<a href=\"https://colab.research.google.com/github/Ang3lino/learningML/blob/master/matrixFactorization.ipynb\" target=\"_parent\"><img src=\"https://colab.research.google.com/assets/colab-badge.svg\" alt=\"Open In Colab\"/></a>"
      ]
    },
    {
      "cell_type": "code",
      "metadata": {
        "id": "SSxoJImBTQXv",
        "colab_type": "code",
        "colab": {}
      },
      "source": [
        ""
      ],
      "execution_count": 0,
      "outputs": []
    },
    {
      "cell_type": "code",
      "metadata": {
        "id": "T8Bp0TVIUKNd",
        "colab_type": "code",
        "colab": {}
      },
      "source": [
        "\n",
        "import numpy as np\n",
        "import pandas as pd\n",
        "\n",
        "import os\n",
        "import random\n",
        "import pickle\n",
        "\n",
        "from sortedcontainers import SortedList\n",
        "from collections import Counter, defaultdict\n",
        "from tqdm import tqdm  # modulo cuya finalidad es dar un feedback del progreso de algun procedimiento"
      ],
      "execution_count": 0,
      "outputs": []
    },
    {
      "cell_type": "code",
      "metadata": {
        "id": "LEbzuxSvUKRb",
        "colab_type": "code",
        "colab": {}
      },
      "source": [
        "# !pip install tqdm --upgrade\n",
        "# tqdm.pandas()"
      ],
      "execution_count": 0,
      "outputs": []
    },
    {
      "cell_type": "code",
      "metadata": {
        "id": "YQT4v_rkUdb4",
        "colab_type": "code",
        "outputId": "f1fea42e-09c0-46a3-ce47-ab033c68837f",
        "colab": {
          "base_uri": "https://localhost:8080/",
          "height": 35
        }
      },
      "source": [
        "from google.colab import drive  \n",
        "drive.mount('/content/drive')"
      ],
      "execution_count": 12,
      "outputs": [
        {
          "output_type": "stream",
          "text": [
            "Drive already mounted at /content/drive; to attempt to forcibly remount, call drive.mount(\"/content/drive\", force_remount=True).\n"
          ],
          "name": "stdout"
        }
      ]
    },
    {
      "cell_type": "code",
      "metadata": {
        "id": "RGX1hEdJUQyq",
        "colab_type": "code",
        "colab": {}
      },
      "source": [
        "def load_object(fname: str, user_count: int, item_count: int) -> defaultdict:\n",
        "    fdir = 'drive/My Drive/petroleo/movielens-20m-dataset'\n",
        "    fname = f'{fname}_{user_count}_{item_count}.json'\n",
        "    fpath = os.path.join(fdir, 'shrinked', fname)\n",
        "    with open(fpath, 'rb') as fp:\n",
        "        object_ = pickle.load(fp)\n",
        "    return object_\n",
        "\n",
        "def defaultdict_set(defdict):\n",
        "    return {k: set(v) for k, v in defdict.items()}\n",
        "\n",
        "\n",
        "user_count = 4096\n",
        "item_count = 512\n",
        "user2item = load_object('user2item', user_count, item_count)\n",
        "item2user = load_object('item2user', user_count, item_count)\n",
        "user_item2rating = load_object('user_item2rating', user_count, item_count)\n",
        "\n",
        "user2item = {int(k): list(map(int, v)) for k, v in user2item.items()}\n",
        "item2user = {int(k): list(map(int, v)) for k, v in item2user.items()}"
      ],
      "execution_count": 0,
      "outputs": []
    },
    {
      "cell_type": "markdown",
      "metadata": {
        "id": "UZs-iOaGaeG3",
        "colab_type": "text"
      },
      "source": [
        "\n",
        "# Factorizacion de matrices\n",
        "Con el fin de reducir espacio de almacenamiento y aumentar la velocidad del algoritmo aplicaremos factorizacion de matrices. Aqui, se busca obtener dos matrices cuyo producto aproxime de mejor manera a $R$. Es decir\n",
        "\n",
        "$$R \\approx \\hat R = WU^T$$\n",
        "\n",
        "Asumamos que $R$ con $m$ usuarios y $n$ articulos, donde $W$ es de dimension $m\\times k$ y $U$ es de dimension $n \\times k$. Definamos tambien la funcion de perdida\n",
        "\n",
        "$$ J = \\sum_{i, j} (r_{ij} - \\hat r_{ij})^2 = \\sum_{i,j} (r_{ij} - w_i^T u_j)^2 $$ \n",
        "\n",
        "Como de costumbre, se busca minimizar la funcion $J$, derivando parcialmente e igualando a cero tenemos.\n",
        "\n",
        "$$ w_{i} = (\\sum_{j\\in\\psi_i}u_ju_j^T)^{-1} \\sum_{j\\in\\psi_i}r_{ij}u_j $$ \n",
        "_\n",
        "$$u_{j} = (\\sum_{i\\in\\Omega_j}w_iw_i^T)^{-1} \\sum_{i\\in\\Omega_j}r_{ij}w_i$$\n",
        "\n",
        "."
      ]
    },
    {
      "cell_type": "code",
      "metadata": {
        "id": "WejLOai9URXL",
        "colab_type": "code",
        "colab": {}
      },
      "source": [
        "def loss_function(ratings: dict, u, w):\n",
        "    ''' r[(i, j)] -> int '''\n",
        "    return np.mean((r - w[i].dot(u[j])) ** 2 for (i, j), r in ratings.items())\n",
        "\n",
        "def vector_from_matrix(matrix: np.array, index, axis):\n",
        "    if axis == 0:\n",
        "        return matrix[index]\n",
        "    return matrix[:, index]\n",
        "\n",
        "def compute_matrices(R, i2j, j2i, epochs, k):\n",
        "    m = int(max(i2j.keys())) + 1\n",
        "    n = int(max(j2i.keys())) + 1\n",
        "    W = np.random.randn(m, k)\n",
        "    U = np.random.randn(n, k)\n",
        "    for epoch in tqdm(range(epochs)):\n",
        "        matrix = np.zeros((k,k))\n",
        "        vector = np.zeros(k)\n",
        "        for i in i2j.keys():\n",
        "            for j in i2j[i]:\n",
        "                matrix += np.outer(U[j], U[j])\n",
        "                vector += R[(i,j)] * U[j]\n",
        "            W[i] = np.linalg.solve(matrix, vector)\n",
        "        # for j in j2i.keys():\n",
        "        #     matrix = np.zeros((k,k))\n",
        "        #     vector = np.zeros(k)\n",
        "        #     for i in j2i.keys():\n",
        "        #         matrix += np.outer(W[i], W[i])\n",
        "        #         vector += R[(i,j)] * W[i]\n",
        "        #     U[j] = np.linalg.solve(matrix, vector)\n",
        "    return U, W\n",
        "\n",
        "def solve_system(dst, src, R, index_relation, axis, k):\n",
        "    matrix = np.zeros((k,k))\n",
        "    vector = np.zeros(k)\n",
        "    for i in index_relation.keys():\n",
        "        for j in index_relation[i]:\n",
        "            v = (src[:, j] if axis == 0 else src[j])\n",
        "            print(src[j])\n",
        "            print(src[:,j])\n",
        "            print(matrix)\n",
        "            matrix += np.outer(v, v)\n",
        "            vector += np.dot(R[(i,j)], v)\n",
        "        if axis == 0:\n",
        "            dst[i] = np.linalg.solve(matrix, vector) \n",
        "        else:\n",
        "            dst[:, i] = np.linalg.solve(matrix, vector) "
      ],
      "execution_count": 0,
      "outputs": []
    },
    {
      "cell_type": "code",
      "metadata": {
        "id": "_W1uLdg75_JR",
        "colab_type": "code",
        "colab": {
          "base_uri": "https://localhost:8080/",
          "height": 55
        },
        "outputId": "e0f8304b-3df0-4e6c-af09-2335cb3f62f5"
      },
      "source": [
        "test_matrix = {}\n",
        "m = 4\n",
        "n = 4\n",
        "for i in range(m):\n",
        "    for j in range(n):\n",
        "        test_matrix[(i, j)] = i*m + j\n",
        "i2j = {0: [0,1,2], 1:[0,1,2], 2:[0,1,2]}\n",
        "j2i = {0: [0,1,2], 1:[0,1,2], 2:[0,1,2]}\n",
        "print(test_matrix)\n"
      ],
      "execution_count": 17,
      "outputs": [
        {
          "output_type": "stream",
          "text": [
            "{(0, 0): 0, (0, 1): 1, (0, 2): 2, (0, 3): 3, (1, 0): 4, (1, 1): 5, (1, 2): 6, (1, 3): 7, (2, 0): 8, (2, 1): 9, (2, 2): 10, (2, 3): 11, (3, 0): 12, (3, 1): 13, (3, 2): 14, (3, 3): 15}\n"
          ],
          "name": "stdout"
        }
      ]
    },
    {
      "cell_type": "code",
      "metadata": {
        "id": "mgWkzF2FFLYQ",
        "colab_type": "code",
        "colab": {
          "base_uri": "https://localhost:8080/",
          "height": 35
        },
        "outputId": "e582536b-d5a3-427e-d14d-281251dbd5b2"
      },
      "source": [
        "U, W = compute_matrices(test_matrix, i2j, j2i, 10, 10)\n",
        "# U, W = compute_matrices(user_item2rating, user2item, item2user, 10, 10)"
      ],
      "execution_count": 18,
      "outputs": [
        {
          "output_type": "stream",
          "text": [
            "100%|██████████| 10/10 [00:00<00:00, 1654.88it/s]\n"
          ],
          "name": "stderr"
        }
      ]
    },
    {
      "cell_type": "code",
      "metadata": {
        "id": "m13Lbpfd6RG6",
        "colab_type": "code",
        "colab": {
          "base_uri": "https://localhost:8080/",
          "height": 358
        },
        "outputId": "04b1e287-b26f-45a7-82db-5b0673a6deee"
      },
      "source": [
        "ans = loss_function(user_item2rating, U, W)"
      ],
      "execution_count": 19,
      "outputs": [
        {
          "output_type": "error",
          "ename": "TypeError",
          "evalue": "ignored",
          "traceback": [
            "\u001b[0;31m---------------------------------------------------------------------------\u001b[0m",
            "\u001b[0;31mTypeError\u001b[0m                                 Traceback (most recent call last)",
            "\u001b[0;32m<ipython-input-19-bb0eac3468ca>\u001b[0m in \u001b[0;36m<module>\u001b[0;34m()\u001b[0m\n\u001b[0;32m----> 1\u001b[0;31m \u001b[0mans\u001b[0m \u001b[0;34m=\u001b[0m \u001b[0mloss_function\u001b[0m\u001b[0;34m(\u001b[0m\u001b[0muser_item2rating\u001b[0m\u001b[0;34m,\u001b[0m \u001b[0mU\u001b[0m\u001b[0;34m,\u001b[0m \u001b[0mW\u001b[0m\u001b[0;34m)\u001b[0m\u001b[0;34m\u001b[0m\u001b[0;34m\u001b[0m\u001b[0m\n\u001b[0m",
            "\u001b[0;32m<ipython-input-14-7377a5c6523e>\u001b[0m in \u001b[0;36mloss_function\u001b[0;34m(ratings, u, w)\u001b[0m\n\u001b[1;32m      1\u001b[0m \u001b[0;32mdef\u001b[0m \u001b[0mloss_function\u001b[0m\u001b[0;34m(\u001b[0m\u001b[0mratings\u001b[0m\u001b[0;34m:\u001b[0m \u001b[0mdict\u001b[0m\u001b[0;34m,\u001b[0m \u001b[0mu\u001b[0m\u001b[0;34m,\u001b[0m \u001b[0mw\u001b[0m\u001b[0;34m)\u001b[0m\u001b[0;34m:\u001b[0m\u001b[0;34m\u001b[0m\u001b[0;34m\u001b[0m\u001b[0m\n\u001b[1;32m      2\u001b[0m     \u001b[0;34m''' r[(i, j)] -> int '''\u001b[0m\u001b[0;34m\u001b[0m\u001b[0;34m\u001b[0m\u001b[0m\n\u001b[0;32m----> 3\u001b[0;31m     \u001b[0;32mreturn\u001b[0m \u001b[0mnp\u001b[0m\u001b[0;34m.\u001b[0m\u001b[0mmean\u001b[0m\u001b[0;34m(\u001b[0m\u001b[0;34m(\u001b[0m\u001b[0mr\u001b[0m \u001b[0;34m-\u001b[0m \u001b[0mw\u001b[0m\u001b[0;34m[\u001b[0m\u001b[0mi\u001b[0m\u001b[0;34m]\u001b[0m\u001b[0;34m.\u001b[0m\u001b[0mdot\u001b[0m\u001b[0;34m(\u001b[0m\u001b[0mu\u001b[0m\u001b[0;34m[\u001b[0m\u001b[0mj\u001b[0m\u001b[0;34m]\u001b[0m\u001b[0;34m)\u001b[0m\u001b[0;34m)\u001b[0m \u001b[0;34m**\u001b[0m \u001b[0;36m2\u001b[0m \u001b[0;32mfor\u001b[0m \u001b[0;34m(\u001b[0m\u001b[0mi\u001b[0m\u001b[0;34m,\u001b[0m \u001b[0mj\u001b[0m\u001b[0;34m)\u001b[0m\u001b[0;34m,\u001b[0m \u001b[0mr\u001b[0m \u001b[0;32min\u001b[0m \u001b[0mratings\u001b[0m\u001b[0;34m.\u001b[0m\u001b[0mitems\u001b[0m\u001b[0;34m(\u001b[0m\u001b[0;34m)\u001b[0m\u001b[0;34m)\u001b[0m\u001b[0;34m\u001b[0m\u001b[0;34m\u001b[0m\u001b[0m\n\u001b[0m\u001b[1;32m      4\u001b[0m \u001b[0;34m\u001b[0m\u001b[0m\n\u001b[1;32m      5\u001b[0m \u001b[0;32mdef\u001b[0m \u001b[0mvector_from_matrix\u001b[0m\u001b[0;34m(\u001b[0m\u001b[0mmatrix\u001b[0m\u001b[0;34m:\u001b[0m \u001b[0mnp\u001b[0m\u001b[0;34m.\u001b[0m\u001b[0marray\u001b[0m\u001b[0;34m,\u001b[0m \u001b[0mindex\u001b[0m\u001b[0;34m,\u001b[0m \u001b[0maxis\u001b[0m\u001b[0;34m)\u001b[0m\u001b[0;34m:\u001b[0m\u001b[0;34m\u001b[0m\u001b[0;34m\u001b[0m\u001b[0m\n",
            "\u001b[0;32m<__array_function__ internals>\u001b[0m in \u001b[0;36mmean\u001b[0;34m(*args, **kwargs)\u001b[0m\n",
            "\u001b[0;32m/usr/local/lib/python3.6/dist-packages/numpy/core/fromnumeric.py\u001b[0m in \u001b[0;36mmean\u001b[0;34m(a, axis, dtype, out, keepdims)\u001b[0m\n\u001b[1;32m   3255\u001b[0m \u001b[0;34m\u001b[0m\u001b[0m\n\u001b[1;32m   3256\u001b[0m     return _methods._mean(a, axis=axis, dtype=dtype,\n\u001b[0;32m-> 3257\u001b[0;31m                           out=out, **kwargs)\n\u001b[0m\u001b[1;32m   3258\u001b[0m \u001b[0;34m\u001b[0m\u001b[0m\n\u001b[1;32m   3259\u001b[0m \u001b[0;34m\u001b[0m\u001b[0m\n",
            "\u001b[0;32m/usr/local/lib/python3.6/dist-packages/numpy/core/_methods.py\u001b[0m in \u001b[0;36m_mean\u001b[0;34m(a, axis, dtype, out, keepdims)\u001b[0m\n\u001b[1;32m    161\u001b[0m             \u001b[0mret\u001b[0m \u001b[0;34m=\u001b[0m \u001b[0mret\u001b[0m\u001b[0;34m.\u001b[0m\u001b[0mdtype\u001b[0m\u001b[0;34m.\u001b[0m\u001b[0mtype\u001b[0m\u001b[0;34m(\u001b[0m\u001b[0mret\u001b[0m \u001b[0;34m/\u001b[0m \u001b[0mrcount\u001b[0m\u001b[0;34m)\u001b[0m\u001b[0;34m\u001b[0m\u001b[0;34m\u001b[0m\u001b[0m\n\u001b[1;32m    162\u001b[0m     \u001b[0;32melse\u001b[0m\u001b[0;34m:\u001b[0m\u001b[0;34m\u001b[0m\u001b[0;34m\u001b[0m\u001b[0m\n\u001b[0;32m--> 163\u001b[0;31m         \u001b[0mret\u001b[0m \u001b[0;34m=\u001b[0m \u001b[0mret\u001b[0m \u001b[0;34m/\u001b[0m \u001b[0mrcount\u001b[0m\u001b[0;34m\u001b[0m\u001b[0;34m\u001b[0m\u001b[0m\n\u001b[0m\u001b[1;32m    164\u001b[0m \u001b[0;34m\u001b[0m\u001b[0m\n\u001b[1;32m    165\u001b[0m     \u001b[0;32mreturn\u001b[0m \u001b[0mret\u001b[0m\u001b[0;34m\u001b[0m\u001b[0;34m\u001b[0m\u001b[0m\n",
            "\u001b[0;31mTypeError\u001b[0m: unsupported operand type(s) for /: 'generator' and 'int'"
          ]
        }
      ]
    },
    {
      "cell_type": "code",
      "metadata": {
        "id": "7vpQhEJIZxuE",
        "colab_type": "code",
        "colab": {}
      },
      "source": [
        "a = np.array([[1,2],[3,4]])\n",
        "np.outer(a,a)"
      ],
      "execution_count": 0,
      "outputs": []
    },
    {
      "cell_type": "code",
      "metadata": {
        "id": "mC1mo2ioma7Q",
        "colab_type": "code",
        "colab": {}
      },
      "source": [
        "b = np.array([1,2,3,4])\n",
        "np.outer(b,b)"
      ],
      "execution_count": 0,
      "outputs": []
    },
    {
      "cell_type": "code",
      "metadata": {
        "id": "GGPVasflnDCb",
        "colab_type": "code",
        "colab": {}
      },
      "source": [
        "max(user2item.values())"
      ],
      "execution_count": 0,
      "outputs": []
    },
    {
      "cell_type": "code",
      "metadata": {
        "id": "DuUABK0X9WLi",
        "colab_type": "code",
        "colab": {}
      },
      "source": [
        "np.zeros((2,2))"
      ],
      "execution_count": 0,
      "outputs": []
    },
    {
      "cell_type": "code",
      "metadata": {
        "id": "1jZbvijP_eT7",
        "colab_type": "code",
        "colab": {}
      },
      "source": [
        "l = np.array([i for i in range(3)])\n",
        "print(l)\n",
        "l = np.outer(l,l)\n",
        "print(l)"
      ],
      "execution_count": 0,
      "outputs": []
    },
    {
      "cell_type": "code",
      "metadata": {
        "id": "agPXB29BAZg6",
        "colab_type": "code",
        "colab": {}
      },
      "source": [
        "t = np.outer(l[:, 0], l[:, 1])\n",
        "print(t)"
      ],
      "execution_count": 0,
      "outputs": []
    },
    {
      "cell_type": "code",
      "metadata": {
        "id": "LvhcUwniAbQK",
        "colab_type": "code",
        "colab": {}
      },
      "source": [
        ""
      ],
      "execution_count": 0,
      "outputs": []
    },
    {
      "cell_type": "code",
      "metadata": {
        "id": "QyeH0AyvAh_V",
        "colab_type": "code",
        "colab": {}
      },
      "source": [
        ""
      ],
      "execution_count": 0,
      "outputs": []
    }
  ]
}